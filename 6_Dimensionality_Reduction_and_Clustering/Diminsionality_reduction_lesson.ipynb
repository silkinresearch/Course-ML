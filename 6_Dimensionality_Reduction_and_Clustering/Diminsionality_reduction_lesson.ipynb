{
 "cells": [
  {
   "cell_type": "code",
   "execution_count": 105,
   "id": "36f73c42",
   "metadata": {
    "ExecuteTime": {
     "end_time": "2022-11-06T13:07:57.561528Z",
     "start_time": "2022-11-06T13:07:57.548257Z"
    }
   },
   "outputs": [],
   "source": [
    "import pandas as pd\n",
    "import numpy as np\n",
    "\n",
    "from sklearn.decomposition import PCA\n",
    "from sklearn.model_selection import train_test_split"
   ]
  },
  {
   "cell_type": "markdown",
   "id": "e823be12",
   "metadata": {},
   "source": [
    "https://medium.com/swlh/an-intuitive-approach-to-pca-fc4d05c14c19"
   ]
  },
  {
   "cell_type": "markdown",
   "id": "6b154ac0",
   "metadata": {},
   "source": [
    "https://www.youtube.com/watch?v=FD4DeN81ODY"
   ]
  },
  {
   "cell_type": "code",
   "execution_count": 106,
   "id": "8b93d608",
   "metadata": {},
   "outputs": [],
   "source": [
    "import os"
   ]
  },
  {
   "cell_type": "code",
   "execution_count": 112,
   "id": "86ad6c34",
   "metadata": {},
   "outputs": [
    {
     "data": {
      "text/plain": [
       "'/home/volodya/my_rep/course/6_Dimensionality_Reduction_and_Clustering'"
      ]
     },
     "execution_count": 112,
     "metadata": {},
     "output_type": "execute_result"
    }
   ],
   "source": [
    "os.path.abspath('./')"
   ]
  },
  {
   "cell_type": "code",
   "execution_count": 302,
   "id": "c561218e",
   "metadata": {},
   "outputs": [],
   "source": [
    "data = pd.read_csv('/home/volodya/my_rep/course/data/world-happiness-report-2021.csv')"
   ]
  },
  {
   "cell_type": "code",
   "execution_count": 303,
   "id": "ec9c5799",
   "metadata": {},
   "outputs": [
    {
     "data": {
      "text/plain": [
       "Index(['Country name', 'Regional indicator', 'Ladder score',\n",
       "       'Standard error of ladder score', 'upperwhisker', 'lowerwhisker',\n",
       "       'Logged GDP per capita', 'Social support', 'Healthy life expectancy',\n",
       "       'Freedom to make life choices', 'Generosity',\n",
       "       'Perceptions of corruption', 'Ladder score in Dystopia',\n",
       "       'Explained by: Log GDP per capita', 'Explained by: Social support',\n",
       "       'Explained by: Healthy life expectancy',\n",
       "       'Explained by: Freedom to make life choices',\n",
       "       'Explained by: Generosity', 'Explained by: Perceptions of corruption',\n",
       "       'Dystopia + residual'],\n",
       "      dtype='object')"
      ]
     },
     "execution_count": 303,
     "metadata": {},
     "output_type": "execute_result"
    }
   ],
   "source": [
    "data.columns"
   ]
  },
  {
   "cell_type": "code",
   "execution_count": 304,
   "id": "f174e3b0",
   "metadata": {},
   "outputs": [],
   "source": [
    "FEATURE_NAMES = ['Logged GDP per capita', \n",
    "                 'Social support', \n",
    "                 'Healthy life expectancy']"
   ]
  },
  {
   "cell_type": "code",
   "execution_count": 305,
   "id": "029a76b2",
   "metadata": {},
   "outputs": [
    {
     "data": {
      "text/html": [
       "<div>\n",
       "<style scoped>\n",
       "    .dataframe tbody tr th:only-of-type {\n",
       "        vertical-align: middle;\n",
       "    }\n",
       "\n",
       "    .dataframe tbody tr th {\n",
       "        vertical-align: top;\n",
       "    }\n",
       "\n",
       "    .dataframe thead th {\n",
       "        text-align: right;\n",
       "    }\n",
       "</style>\n",
       "<table border=\"1\" class=\"dataframe\">\n",
       "  <thead>\n",
       "    <tr style=\"text-align: right;\">\n",
       "      <th></th>\n",
       "      <th>Country</th>\n",
       "      <th>x1 Logged GDP per capita</th>\n",
       "      <th>x2 Social support</th>\n",
       "      <th>x3 Healthy life expectancy</th>\n",
       "    </tr>\n",
       "  </thead>\n",
       "  <tbody>\n",
       "    <tr>\n",
       "      <th>0</th>\n",
       "      <td>Finland</td>\n",
       "      <td>10.775</td>\n",
       "      <td>0.954</td>\n",
       "      <td>72.000</td>\n",
       "    </tr>\n",
       "    <tr>\n",
       "      <th>1</th>\n",
       "      <td>Denmark</td>\n",
       "      <td>10.933</td>\n",
       "      <td>0.954</td>\n",
       "      <td>72.700</td>\n",
       "    </tr>\n",
       "    <tr>\n",
       "      <th>2</th>\n",
       "      <td>Switzerland</td>\n",
       "      <td>11.117</td>\n",
       "      <td>0.942</td>\n",
       "      <td>74.400</td>\n",
       "    </tr>\n",
       "    <tr>\n",
       "      <th>3</th>\n",
       "      <td>Iceland</td>\n",
       "      <td>10.878</td>\n",
       "      <td>0.983</td>\n",
       "      <td>73.000</td>\n",
       "    </tr>\n",
       "    <tr>\n",
       "      <th>4</th>\n",
       "      <td>Netherlands</td>\n",
       "      <td>10.932</td>\n",
       "      <td>0.942</td>\n",
       "      <td>72.400</td>\n",
       "    </tr>\n",
       "    <tr>\n",
       "      <th>...</th>\n",
       "      <td>...</td>\n",
       "      <td>...</td>\n",
       "      <td>...</td>\n",
       "      <td>...</td>\n",
       "    </tr>\n",
       "    <tr>\n",
       "      <th>144</th>\n",
       "      <td>Lesotho</td>\n",
       "      <td>7.926</td>\n",
       "      <td>0.787</td>\n",
       "      <td>48.700</td>\n",
       "    </tr>\n",
       "    <tr>\n",
       "      <th>145</th>\n",
       "      <td>Botswana</td>\n",
       "      <td>9.782</td>\n",
       "      <td>0.784</td>\n",
       "      <td>59.269</td>\n",
       "    </tr>\n",
       "    <tr>\n",
       "      <th>146</th>\n",
       "      <td>Rwanda</td>\n",
       "      <td>7.676</td>\n",
       "      <td>0.552</td>\n",
       "      <td>61.400</td>\n",
       "    </tr>\n",
       "    <tr>\n",
       "      <th>147</th>\n",
       "      <td>Zimbabwe</td>\n",
       "      <td>7.943</td>\n",
       "      <td>0.750</td>\n",
       "      <td>56.201</td>\n",
       "    </tr>\n",
       "    <tr>\n",
       "      <th>148</th>\n",
       "      <td>Afghanistan</td>\n",
       "      <td>7.695</td>\n",
       "      <td>0.463</td>\n",
       "      <td>52.493</td>\n",
       "    </tr>\n",
       "  </tbody>\n",
       "</table>\n",
       "<p>149 rows × 4 columns</p>\n",
       "</div>"
      ],
      "text/plain": [
       "         Country  x1 Logged GDP per capita  x2 Social support  \\\n",
       "0        Finland                    10.775              0.954   \n",
       "1        Denmark                    10.933              0.954   \n",
       "2    Switzerland                    11.117              0.942   \n",
       "3        Iceland                    10.878              0.983   \n",
       "4    Netherlands                    10.932              0.942   \n",
       "..           ...                       ...                ...   \n",
       "144      Lesotho                     7.926              0.787   \n",
       "145     Botswana                     9.782              0.784   \n",
       "146       Rwanda                     7.676              0.552   \n",
       "147     Zimbabwe                     7.943              0.750   \n",
       "148  Afghanistan                     7.695              0.463   \n",
       "\n",
       "     x3 Healthy life expectancy  \n",
       "0                        72.000  \n",
       "1                        72.700  \n",
       "2                        74.400  \n",
       "3                        73.000  \n",
       "4                        72.400  \n",
       "..                          ...  \n",
       "144                      48.700  \n",
       "145                      59.269  \n",
       "146                      61.400  \n",
       "147                      56.201  \n",
       "148                      52.493  \n",
       "\n",
       "[149 rows x 4 columns]"
      ]
     },
     "execution_count": 305,
     "metadata": {},
     "output_type": "execute_result"
    }
   ],
   "source": [
    "data = data[['Country name'] + FEATURE_NAMES]\\\n",
    "    .rename({'Country name': 'Country',\n",
    "             'Logged GDP per capita': 'x1 Logged GDP per capita',\n",
    "             'Social support': 'x2 Social support',\n",
    "             'Healthy life expectancy': 'x3 Healthy life expectancy'}, axis = 1)\n",
    "data"
   ]
  },
  {
   "cell_type": "code",
   "execution_count": 306,
   "id": "061f7511",
   "metadata": {},
   "outputs": [],
   "source": [
    "FEATURE_NAMES = ['x1 Logged GDP per capita', \n",
    "                 'x2 Social support', \n",
    "                 'x3 Healthy life expectancy']"
   ]
  },
  {
   "cell_type": "markdown",
   "id": "9d3cb6ac",
   "metadata": {},
   "source": [
    "# PCA"
   ]
  },
  {
   "cell_type": "code",
   "execution_count": 307,
   "id": "713bd845",
   "metadata": {},
   "outputs": [
    {
     "data": {
      "text/html": [
       "<style>#sk-container-id-7 {color: black;background-color: white;}#sk-container-id-7 pre{padding: 0;}#sk-container-id-7 div.sk-toggleable {background-color: white;}#sk-container-id-7 label.sk-toggleable__label {cursor: pointer;display: block;width: 100%;margin-bottom: 0;padding: 0.3em;box-sizing: border-box;text-align: center;}#sk-container-id-7 label.sk-toggleable__label-arrow:before {content: \"▸\";float: left;margin-right: 0.25em;color: #696969;}#sk-container-id-7 label.sk-toggleable__label-arrow:hover:before {color: black;}#sk-container-id-7 div.sk-estimator:hover label.sk-toggleable__label-arrow:before {color: black;}#sk-container-id-7 div.sk-toggleable__content {max-height: 0;max-width: 0;overflow: hidden;text-align: left;background-color: #f0f8ff;}#sk-container-id-7 div.sk-toggleable__content pre {margin: 0.2em;color: black;border-radius: 0.25em;background-color: #f0f8ff;}#sk-container-id-7 input.sk-toggleable__control:checked~div.sk-toggleable__content {max-height: 200px;max-width: 100%;overflow: auto;}#sk-container-id-7 input.sk-toggleable__control:checked~label.sk-toggleable__label-arrow:before {content: \"▾\";}#sk-container-id-7 div.sk-estimator input.sk-toggleable__control:checked~label.sk-toggleable__label {background-color: #d4ebff;}#sk-container-id-7 div.sk-label input.sk-toggleable__control:checked~label.sk-toggleable__label {background-color: #d4ebff;}#sk-container-id-7 input.sk-hidden--visually {border: 0;clip: rect(1px 1px 1px 1px);clip: rect(1px, 1px, 1px, 1px);height: 1px;margin: -1px;overflow: hidden;padding: 0;position: absolute;width: 1px;}#sk-container-id-7 div.sk-estimator {font-family: monospace;background-color: #f0f8ff;border: 1px dotted black;border-radius: 0.25em;box-sizing: border-box;margin-bottom: 0.5em;}#sk-container-id-7 div.sk-estimator:hover {background-color: #d4ebff;}#sk-container-id-7 div.sk-parallel-item::after {content: \"\";width: 100%;border-bottom: 1px solid gray;flex-grow: 1;}#sk-container-id-7 div.sk-label:hover label.sk-toggleable__label {background-color: #d4ebff;}#sk-container-id-7 div.sk-serial::before {content: \"\";position: absolute;border-left: 1px solid gray;box-sizing: border-box;top: 0;bottom: 0;left: 50%;z-index: 0;}#sk-container-id-7 div.sk-serial {display: flex;flex-direction: column;align-items: center;background-color: white;padding-right: 0.2em;padding-left: 0.2em;position: relative;}#sk-container-id-7 div.sk-item {position: relative;z-index: 1;}#sk-container-id-7 div.sk-parallel {display: flex;align-items: stretch;justify-content: center;background-color: white;position: relative;}#sk-container-id-7 div.sk-item::before, #sk-container-id-7 div.sk-parallel-item::before {content: \"\";position: absolute;border-left: 1px solid gray;box-sizing: border-box;top: 0;bottom: 0;left: 50%;z-index: -1;}#sk-container-id-7 div.sk-parallel-item {display: flex;flex-direction: column;z-index: 1;position: relative;background-color: white;}#sk-container-id-7 div.sk-parallel-item:first-child::after {align-self: flex-end;width: 50%;}#sk-container-id-7 div.sk-parallel-item:last-child::after {align-self: flex-start;width: 50%;}#sk-container-id-7 div.sk-parallel-item:only-child::after {width: 0;}#sk-container-id-7 div.sk-dashed-wrapped {border: 1px dashed gray;margin: 0 0.4em 0.5em 0.4em;box-sizing: border-box;padding-bottom: 0.4em;background-color: white;}#sk-container-id-7 div.sk-label label {font-family: monospace;font-weight: bold;display: inline-block;line-height: 1.2em;}#sk-container-id-7 div.sk-label-container {text-align: center;}#sk-container-id-7 div.sk-container {/* jupyter's `normalize.less` sets `[hidden] { display: none; }` but bootstrap.min.css set `[hidden] { display: none !important; }` so we also need the `!important` here to be able to override the default hidden behavior on the sphinx rendered scikit-learn.org. See: https://github.com/scikit-learn/scikit-learn/issues/21755 */display: inline-block !important;position: relative;}#sk-container-id-7 div.sk-text-repr-fallback {display: none;}</style><div id=\"sk-container-id-7\" class=\"sk-top-container\"><div class=\"sk-text-repr-fallback\"><pre>PCA(n_components=3)</pre><b>In a Jupyter environment, please rerun this cell to show the HTML representation or trust the notebook. <br />On GitHub, the HTML representation is unable to render, please try loading this page with nbviewer.org.</b></div><div class=\"sk-container\" hidden><div class=\"sk-item\"><div class=\"sk-estimator sk-toggleable\"><input class=\"sk-toggleable__control sk-hidden--visually\" id=\"sk-estimator-id-7\" type=\"checkbox\" checked><label for=\"sk-estimator-id-7\" class=\"sk-toggleable__label sk-toggleable__label-arrow\">PCA</label><div class=\"sk-toggleable__content\"><pre>PCA(n_components=3)</pre></div></div></div></div></div>"
      ],
      "text/plain": [
       "PCA(n_components=3)"
      ]
     },
     "execution_count": 307,
     "metadata": {},
     "output_type": "execute_result"
    }
   ],
   "source": [
    "pca_object = PCA(n_components=3)\n",
    "pca_object.fit(data[FEATURE_NAMES])"
   ]
  },
  {
   "cell_type": "code",
   "execution_count": 308,
   "id": "9d9c4a8c",
   "metadata": {},
   "outputs": [
    {
     "data": {
      "text/html": [
       "<div>\n",
       "<style scoped>\n",
       "    .dataframe tbody tr th:only-of-type {\n",
       "        vertical-align: middle;\n",
       "    }\n",
       "\n",
       "    .dataframe tbody tr th {\n",
       "        vertical-align: top;\n",
       "    }\n",
       "\n",
       "    .dataframe thead th {\n",
       "        text-align: right;\n",
       "    }\n",
       "</style>\n",
       "<table border=\"1\" class=\"dataframe\">\n",
       "  <thead>\n",
       "    <tr style=\"text-align: right;\">\n",
       "      <th></th>\n",
       "      <th>Country</th>\n",
       "      <th>x1 Logged GDP per capita</th>\n",
       "      <th>x2 Social support</th>\n",
       "      <th>x3 Healthy life expectancy</th>\n",
       "      <th>PCA_1</th>\n",
       "      <th>PCA_2</th>\n",
       "      <th>PCA_3</th>\n",
       "    </tr>\n",
       "  </thead>\n",
       "  <tbody>\n",
       "    <tr>\n",
       "      <th>0</th>\n",
       "      <td>Finland</td>\n",
       "      <td>10.775</td>\n",
       "      <td>0.954</td>\n",
       "      <td>72.000</td>\n",
       "      <td>-7.129570</td>\n",
       "      <td>0.302436</td>\n",
       "      <td>-0.033495</td>\n",
       "    </tr>\n",
       "    <tr>\n",
       "      <th>1</th>\n",
       "      <td>Denmark</td>\n",
       "      <td>10.933</td>\n",
       "      <td>0.954</td>\n",
       "      <td>72.700</td>\n",
       "      <td>-7.845125</td>\n",
       "      <td>0.355342</td>\n",
       "      <td>-0.021457</td>\n",
       "    </tr>\n",
       "    <tr>\n",
       "      <th>2</th>\n",
       "      <td>Switzerland</td>\n",
       "      <td>11.117</td>\n",
       "      <td>0.942</td>\n",
       "      <td>74.400</td>\n",
       "      <td>-9.553447</td>\n",
       "      <td>0.285936</td>\n",
       "      <td>0.007198</td>\n",
       "    </tr>\n",
       "    <tr>\n",
       "      <th>3</th>\n",
       "      <td>Iceland</td>\n",
       "      <td>10.878</td>\n",
       "      <td>0.983</td>\n",
       "      <td>73.000</td>\n",
       "      <td>-8.134137</td>\n",
       "      <td>0.258666</td>\n",
       "      <td>-0.052955</td>\n",
       "    </tr>\n",
       "    <tr>\n",
       "      <th>4</th>\n",
       "      <td>Netherlands</td>\n",
       "      <td>10.932</td>\n",
       "      <td>0.942</td>\n",
       "      <td>72.400</td>\n",
       "      <td>-7.548103</td>\n",
       "      <td>0.397785</td>\n",
       "      <td>-0.010446</td>\n",
       "    </tr>\n",
       "    <tr>\n",
       "      <th>...</th>\n",
       "      <td>...</td>\n",
       "      <td>...</td>\n",
       "      <td>...</td>\n",
       "      <td>...</td>\n",
       "      <td>...</td>\n",
       "      <td>...</td>\n",
       "      <td>...</td>\n",
       "    </tr>\n",
       "    <tr>\n",
       "      <th>144</th>\n",
       "      <td>Lesotho</td>\n",
       "      <td>7.926</td>\n",
       "      <td>0.787</td>\n",
       "      <td>48.700</td>\n",
       "      <td>16.336541</td>\n",
       "      <td>0.910325</td>\n",
       "      <td>-0.115988</td>\n",
       "    </tr>\n",
       "    <tr>\n",
       "      <th>145</th>\n",
       "      <td>Botswana</td>\n",
       "      <td>9.782</td>\n",
       "      <td>0.784</td>\n",
       "      <td>59.269</td>\n",
       "      <td>5.610429</td>\n",
       "      <td>1.186170</td>\n",
       "      <td>0.035463</td>\n",
       "    </tr>\n",
       "    <tr>\n",
       "      <th>146</th>\n",
       "      <td>Rwanda</td>\n",
       "      <td>7.676</td>\n",
       "      <td>0.552</td>\n",
       "      <td>61.400</td>\n",
       "      <td>3.814579</td>\n",
       "      <td>-1.220904</td>\n",
       "      <td>0.141017</td>\n",
       "    </tr>\n",
       "    <tr>\n",
       "      <th>147</th>\n",
       "      <td>Zimbabwe</td>\n",
       "      <td>7.943</td>\n",
       "      <td>0.750</td>\n",
       "      <td>56.201</td>\n",
       "      <td>8.915286</td>\n",
       "      <td>-0.179612</td>\n",
       "      <td>-0.055438</td>\n",
       "    </tr>\n",
       "    <tr>\n",
       "      <th>148</th>\n",
       "      <td>Afghanistan</td>\n",
       "      <td>7.695</td>\n",
       "      <td>0.463</td>\n",
       "      <td>52.493</td>\n",
       "      <td>12.622761</td>\n",
       "      <td>0.103810</td>\n",
       "      <td>0.204253</td>\n",
       "    </tr>\n",
       "  </tbody>\n",
       "</table>\n",
       "<p>149 rows × 7 columns</p>\n",
       "</div>"
      ],
      "text/plain": [
       "         Country  x1 Logged GDP per capita  x2 Social support  \\\n",
       "0        Finland                    10.775              0.954   \n",
       "1        Denmark                    10.933              0.954   \n",
       "2    Switzerland                    11.117              0.942   \n",
       "3        Iceland                    10.878              0.983   \n",
       "4    Netherlands                    10.932              0.942   \n",
       "..           ...                       ...                ...   \n",
       "144      Lesotho                     7.926              0.787   \n",
       "145     Botswana                     9.782              0.784   \n",
       "146       Rwanda                     7.676              0.552   \n",
       "147     Zimbabwe                     7.943              0.750   \n",
       "148  Afghanistan                     7.695              0.463   \n",
       "\n",
       "     x3 Healthy life expectancy      PCA_1     PCA_2     PCA_3  \n",
       "0                        72.000  -7.129570  0.302436 -0.033495  \n",
       "1                        72.700  -7.845125  0.355342 -0.021457  \n",
       "2                        74.400  -9.553447  0.285936  0.007198  \n",
       "3                        73.000  -8.134137  0.258666 -0.052955  \n",
       "4                        72.400  -7.548103  0.397785 -0.010446  \n",
       "..                          ...        ...       ...       ...  \n",
       "144                      48.700  16.336541  0.910325 -0.115988  \n",
       "145                      59.269   5.610429  1.186170  0.035463  \n",
       "146                      61.400   3.814579 -1.220904  0.141017  \n",
       "147                      56.201   8.915286 -0.179612 -0.055438  \n",
       "148                      52.493  12.622761  0.103810  0.204253  \n",
       "\n",
       "[149 rows x 7 columns]"
      ]
     },
     "execution_count": 308,
     "metadata": {},
     "output_type": "execute_result"
    }
   ],
   "source": [
    "data[['PCA_1', 'PCA_2', 'PCA_3']] = pca_object.transform(data[FEATURE_NAMES])\n",
    "data"
   ]
  },
  {
   "cell_type": "code",
   "execution_count": 309,
   "id": "8f0d9d51",
   "metadata": {},
   "outputs": [
    {
     "data": {
      "text/plain": [
       "['Finland',\n",
       " 'Denmark',\n",
       " 'Switzerland',\n",
       " 'Iceland',\n",
       " 'Netherlands',\n",
       " 'Norway',\n",
       " 'Sweden',\n",
       " 'Luxembourg',\n",
       " 'New Zealand',\n",
       " 'Austria',\n",
       " 'Australia',\n",
       " 'Israel',\n",
       " 'Germany',\n",
       " 'Canada',\n",
       " 'Ireland',\n",
       " 'Costa Rica',\n",
       " 'United Kingdom',\n",
       " 'Czech Republic',\n",
       " 'United States',\n",
       " 'Belgium',\n",
       " 'France',\n",
       " 'Bahrain',\n",
       " 'Malta',\n",
       " 'Taiwan Province of China',\n",
       " 'United Arab Emirates',\n",
       " 'Saudi Arabia',\n",
       " 'Spain',\n",
       " 'Italy',\n",
       " 'Slovenia',\n",
       " 'Guatemala',\n",
       " 'Uruguay',\n",
       " 'Singapore',\n",
       " 'Kosovo',\n",
       " 'Slovakia',\n",
       " 'Brazil',\n",
       " 'Mexico',\n",
       " 'Jamaica',\n",
       " 'Lithuania',\n",
       " 'Cyprus',\n",
       " 'Estonia',\n",
       " 'Panama',\n",
       " 'Uzbekistan',\n",
       " 'Chile',\n",
       " 'Poland',\n",
       " 'Kazakhstan',\n",
       " 'Romania',\n",
       " 'Kuwait',\n",
       " 'Serbia',\n",
       " 'El Salvador',\n",
       " 'Mauritius',\n",
       " 'Latvia',\n",
       " 'Colombia',\n",
       " 'Hungary',\n",
       " 'Thailand',\n",
       " 'Nicaragua',\n",
       " 'Japan',\n",
       " 'Argentina',\n",
       " 'Portugal',\n",
       " 'Honduras',\n",
       " 'Croatia',\n",
       " 'Philippines',\n",
       " 'South Korea',\n",
       " 'Peru',\n",
       " 'Bosnia and Herzegovina',\n",
       " 'Moldova',\n",
       " 'Ecuador',\n",
       " 'Kyrgyzstan',\n",
       " 'Greece',\n",
       " 'Bolivia',\n",
       " 'Mongolia',\n",
       " 'Paraguay',\n",
       " 'Montenegro',\n",
       " 'Dominican Republic',\n",
       " 'North Cyprus',\n",
       " 'Belarus',\n",
       " 'Russia',\n",
       " 'Hong Kong S.A.R. of China',\n",
       " 'Tajikistan',\n",
       " 'Vietnam',\n",
       " 'Libya',\n",
       " 'Malaysia',\n",
       " 'Indonesia',\n",
       " 'Congo (Brazzaville)',\n",
       " 'China',\n",
       " 'Ivory Coast',\n",
       " 'Armenia',\n",
       " 'Nepal',\n",
       " 'Bulgaria',\n",
       " 'Maldives',\n",
       " 'Azerbaijan',\n",
       " 'Cameroon',\n",
       " 'Senegal',\n",
       " 'Albania',\n",
       " 'North Macedonia',\n",
       " 'Ghana',\n",
       " 'Niger',\n",
       " 'Turkmenistan',\n",
       " 'Gambia',\n",
       " 'Benin',\n",
       " 'Laos',\n",
       " 'Bangladesh',\n",
       " 'Guinea',\n",
       " 'South Africa',\n",
       " 'Turkey',\n",
       " 'Pakistan',\n",
       " 'Morocco',\n",
       " 'Venezuela',\n",
       " 'Georgia',\n",
       " 'Algeria',\n",
       " 'Ukraine',\n",
       " 'Iraq',\n",
       " 'Gabon',\n",
       " 'Burkina Faso',\n",
       " 'Cambodia',\n",
       " 'Mozambique',\n",
       " 'Nigeria',\n",
       " 'Mali',\n",
       " 'Iran',\n",
       " 'Uganda',\n",
       " 'Liberia',\n",
       " 'Kenya',\n",
       " 'Tunisia',\n",
       " 'Lebanon',\n",
       " 'Namibia',\n",
       " 'Palestinian Territories',\n",
       " 'Myanmar',\n",
       " 'Jordan',\n",
       " 'Chad',\n",
       " 'Sri Lanka',\n",
       " 'Swaziland',\n",
       " 'Comoros',\n",
       " 'Egypt',\n",
       " 'Ethiopia',\n",
       " 'Mauritania',\n",
       " 'Madagascar',\n",
       " 'Togo',\n",
       " 'Zambia',\n",
       " 'Sierra Leone',\n",
       " 'India',\n",
       " 'Burundi',\n",
       " 'Yemen',\n",
       " 'Tanzania',\n",
       " 'Haiti',\n",
       " 'Malawi',\n",
       " 'Lesotho',\n",
       " 'Botswana',\n",
       " 'Rwanda',\n",
       " 'Zimbabwe',\n",
       " 'Afghanistan']"
      ]
     },
     "execution_count": 309,
     "metadata": {},
     "output_type": "execute_result"
    }
   ],
   "source": [
    "data['Country'].tolist()"
   ]
  },
  {
   "cell_type": "markdown",
   "id": "8a53fd2b",
   "metadata": {},
   "source": [
    "## График наблюдений"
   ]
  },
  {
   "cell_type": "code",
   "execution_count": 310,
   "id": "489f250e",
   "metadata": {},
   "outputs": [
    {
     "data": {
      "image/png": "[encoded data removed]",
      "text/plain": [
       "<Figure size 432x288 with 1 Axes>"
      ]
     },
     "metadata": {
      "needs_background": "light"
     },
     "output_type": "display_data"
    }
   ],
   "source": [
    "sns.scatterplot(data=data, x='PCA_1', y='PCA_2')\n",
    "\n",
    "data_several_countries = data.query(\"Country in ['Finland', 'Zimbabwe', 'Russia', 'Australia', 'Greece', 'India', 'Madagascar']\")\n",
    "\n",
    "plt.scatter(x=data_several_countries['PCA_1'], \n",
    "            y=data_several_countries['PCA_2'], \n",
    "            color=\"red\", s=150, edgecolors='black')\n",
    "\n",
    "for _, row in data_several_countries.iterrows():\n",
    "    plt.annotate(row['Country'], (row['PCA_1'], row['PCA_2'] + 0.20), \n",
    "                 backgroundcolor=\"w\", \n",
    "                 bbox=dict(facecolor='white', edgecolor='black'))\n",
    "\n",
    "\n",
    "plt.show()"
   ]
  },
  {
   "cell_type": "markdown",
   "id": "61fb20eb",
   "metadata": {},
   "source": [
    "## График переменных"
   ]
  },
  {
   "cell_type": "code",
   "execution_count": 311,
   "id": "51619271",
   "metadata": {},
   "outputs": [
    {
     "data": {
      "text/html": [
       "<div>\n",
       "<style scoped>\n",
       "    .dataframe tbody tr th:only-of-type {\n",
       "        vertical-align: middle;\n",
       "    }\n",
       "\n",
       "    .dataframe tbody tr th {\n",
       "        vertical-align: top;\n",
       "    }\n",
       "\n",
       "    .dataframe thead th {\n",
       "        text-align: right;\n",
       "    }\n",
       "</style>\n",
       "<table border=\"1\" class=\"dataframe\">\n",
       "  <thead>\n",
       "    <tr style=\"text-align: right;\">\n",
       "      <th></th>\n",
       "      <th>x1 Logged GDP per capita</th>\n",
       "      <th>x2 Social support</th>\n",
       "      <th>x3 Healthy life expectancy</th>\n",
       "    </tr>\n",
       "  </thead>\n",
       "  <tbody>\n",
       "    <tr>\n",
       "      <th>0</th>\n",
       "      <td>-0.146761</td>\n",
       "      <td>-0.012224</td>\n",
       "      <td>-0.989096</td>\n",
       "    </tr>\n",
       "    <tr>\n",
       "      <th>1</th>\n",
       "      <td>0.987172</td>\n",
       "      <td>0.061738</td>\n",
       "      <td>-0.147238</td>\n",
       "    </tr>\n",
       "    <tr>\n",
       "      <th>2</th>\n",
       "      <td>0.062865</td>\n",
       "      <td>-0.998018</td>\n",
       "      <td>0.003007</td>\n",
       "    </tr>\n",
       "  </tbody>\n",
       "</table>\n",
       "</div>"
      ],
      "text/plain": [
       "   x1 Logged GDP per capita  x2 Social support  x3 Healthy life expectancy\n",
       "0                 -0.146761          -0.012224                   -0.989096\n",
       "1                  0.987172           0.061738                   -0.147238\n",
       "2                  0.062865          -0.998018                    0.003007"
      ]
     },
     "execution_count": 311,
     "metadata": {},
     "output_type": "execute_result"
    }
   ],
   "source": [
    "data_plot = pd.DataFrame(pca_object.components_, columns = pca_object.feature_names_in_)\n",
    "data_plot"
   ]
  },
  {
   "cell_type": "code",
   "execution_count": 313,
   "id": "7d2bf369",
   "metadata": {},
   "outputs": [
    {
     "data": {
      "text/html": [
       "<div>\n",
       "<style scoped>\n",
       "    .dataframe tbody tr th:only-of-type {\n",
       "        vertical-align: middle;\n",
       "    }\n",
       "\n",
       "    .dataframe tbody tr th {\n",
       "        vertical-align: top;\n",
       "    }\n",
       "\n",
       "    .dataframe thead th {\n",
       "        text-align: right;\n",
       "    }\n",
       "</style>\n",
       "<table border=\"1\" class=\"dataframe\">\n",
       "  <thead>\n",
       "    <tr style=\"text-align: right;\">\n",
       "      <th></th>\n",
       "      <th>PCA_1</th>\n",
       "      <th>PCA_2</th>\n",
       "      <th>PCA_3</th>\n",
       "      <th>Feature</th>\n",
       "    </tr>\n",
       "  </thead>\n",
       "  <tbody>\n",
       "    <tr>\n",
       "      <th>0</th>\n",
       "      <td>-0.146761</td>\n",
       "      <td>0.987172</td>\n",
       "      <td>0.062865</td>\n",
       "      <td>x1 Logged GDP per capita</td>\n",
       "    </tr>\n",
       "    <tr>\n",
       "      <th>1</th>\n",
       "      <td>-0.012224</td>\n",
       "      <td>0.061738</td>\n",
       "      <td>-0.998018</td>\n",
       "      <td>x2 Social support</td>\n",
       "    </tr>\n",
       "    <tr>\n",
       "      <th>2</th>\n",
       "      <td>-0.989096</td>\n",
       "      <td>-0.147238</td>\n",
       "      <td>0.003007</td>\n",
       "      <td>x3 Healthy life expectancy</td>\n",
       "    </tr>\n",
       "  </tbody>\n",
       "</table>\n",
       "</div>"
      ],
      "text/plain": [
       "      PCA_1     PCA_2     PCA_3                     Feature\n",
       "0 -0.146761  0.987172  0.062865    x1 Logged GDP per capita\n",
       "1 -0.012224  0.061738 -0.998018           x2 Social support\n",
       "2 -0.989096 -0.147238  0.003007  x3 Healthy life expectancy"
      ]
     },
     "execution_count": 313,
     "metadata": {},
     "output_type": "execute_result"
    }
   ],
   "source": [
    "data_plot = pd.DataFrame(pca_object.components_.T, columns = ['PCA_1', 'PCA_2', 'PCA_3'])\n",
    "data_plot['Feature'] = pca_object.feature_names_in_\n",
    "data_plot"
   ]
  },
  {
   "cell_type": "code",
   "execution_count": 314,
   "id": "2d956c49",
   "metadata": {},
   "outputs": [
    {
     "data": {
      "image/png": "[encoded data removed]",
      "text/plain": [
       "<Figure size 432x288 with 1 Axes>"
      ]
     },
     "metadata": {
      "needs_background": "light"
     },
     "output_type": "display_data"
    }
   ],
   "source": [
    "sns.scatterplot(data=data_plot, x='PCA_1', y='PCA_2', s=150)\n",
    "\n",
    "for _, row in data_plot.iterrows():\n",
    "    plt.annotate(row['Feature'], (row['PCA_1'], row['PCA_2'] + 0.10), \n",
    "                 backgroundcolor=\"w\", \n",
    "                 bbox=dict(facecolor='white', edgecolor='black'))\n",
    "    \n",
    "sns.lineplot(x=[0, 0], y=[-10,10], color='black', lw=100)\n",
    "sns.lineplot(x=[-100, 100], y=[0,0], color='black', lw=1)\n",
    "    \n",
    "plt.xlim(-1.5, 0.5)\n",
    "plt.ylim(-0.5, 1.5)\n",
    "\n",
    "plt.show()"
   ]
  },
  {
   "cell_type": "markdown",
   "id": "9e3f3e06",
   "metadata": {},
   "source": [
    "Выводы:\n",
    "1. `x1 Logged GDP per capita` влияет на PCA_1 отрицательно (слабо), а на PCA_2 положительно (сильно)!\n",
    "2. `x2 Social Support` никак не влияет на главные компоненты.\n",
    "3. `x3 Healthy life expectancy` влияет на PCA_1 отрицательно (сильно), а на PCA_2 тоже отрицательно (слабо)"
   ]
  },
  {
   "cell_type": "code",
   "execution_count": 361,
   "id": "5e99df86",
   "metadata": {},
   "outputs": [],
   "source": [
    "# Чтобы np не выводил массивы через e\n",
    "np.set_printoptions(suppress=True)"
   ]
  },
  {
   "cell_type": "code",
   "execution_count": 394,
   "id": "24545b2c",
   "metadata": {},
   "outputs": [
    {
     "data": {
      "text/plain": [
       "array([46.73127242,  0.34458894,  0.00492219])"
      ]
     },
     "execution_count": 394,
     "metadata": {},
     "output_type": "execute_result"
    }
   ],
   "source": [
    "# Собственные значения ковариационной матрицы\n",
    "pca_object.explained_variance_"
   ]
  },
  {
   "cell_type": "code",
   "execution_count": 363,
   "id": "d1b15736",
   "metadata": {},
   "outputs": [
    {
     "data": {
      "text/plain": [
       "array([0.99257635, 0.0073191 , 0.00010455])"
      ]
     },
     "execution_count": 363,
     "metadata": {},
     "output_type": "execute_result"
    }
   ],
   "source": [
    "# = собственное значение / сумма собственных значений\n",
    "pca_object.explained_variance_ratio_"
   ]
  },
  {
   "cell_type": "code",
   "execution_count": 388,
   "id": "ff6da956",
   "metadata": {},
   "outputs": [
    {
     "data": {
      "text/plain": [
       "83.16386426021566"
      ]
     },
     "execution_count": 388,
     "metadata": {},
     "output_type": "execute_result"
    }
   ],
   "source": [
    "np.linalg.norm(data['PCA_1'].to_numpy())"
   ]
  },
  {
   "cell_type": "code",
   "execution_count": 389,
   "id": "28a7adf8",
   "metadata": {},
   "outputs": [
    {
     "data": {
      "text/plain": [
       "array([83.16386426,  7.14136985,  0.85351317])"
      ]
     },
     "execution_count": 389,
     "metadata": {},
     "output_type": "execute_result"
    }
   ],
   "source": [
    "# Корень из суммы квадраты значений получившихся признаков\n",
    "# Для PCA_1, PCA_2, PCA_3\n",
    "pca_object.singular_values_"
   ]
  },
  {
   "cell_type": "code",
   "execution_count": 393,
   "id": "6ab19b7d",
   "metadata": {},
   "outputs": [
    {
     "data": {
      "text/plain": [
       "(array([46.73127242,  0.34458894,  0.00492219]),\n",
       " array([[ 0.14676083,  0.98717235,  0.06286506],\n",
       "        [ 0.01222441,  0.06173832, -0.99801751],\n",
       "        [ 0.98909647, -0.14723836,  0.00300684]]))"
      ]
     },
     "execution_count": 393,
     "metadata": {},
     "output_type": "execute_result"
    }
   ],
   "source": [
    "np.linalg.eig(data[FEATURE_NAMES].cov().to_numpy())"
   ]
  },
  {
   "cell_type": "code",
   "execution_count": 55,
   "id": "2a56113d",
   "metadata": {},
   "outputs": [],
   "source": [
    "from sklearn.datasets import load_iris\n",
    "load_iris = load_iris()"
   ]
  },
  {
   "cell_type": "code",
   "execution_count": 72,
   "id": "ae995307",
   "metadata": {},
   "outputs": [],
   "source": [
    "FEATURE_NAMES = [\n",
    "    'sepal length (cm)', \n",
    "    'sepal width (cm)', \n",
    "    'petal length (cm)',\n",
    "    'petal width (cm)']\n",
    "\n",
    "TARGET_NAME = 'target'"
   ]
  },
  {
   "cell_type": "code",
   "execution_count": 62,
   "id": "bc2ac2c1",
   "metadata": {},
   "outputs": [],
   "source": [
    "dict_to_replace = {i: value for i, value in enumerate(load_iris.target_names.tolist())}"
   ]
  },
  {
   "cell_type": "code",
   "execution_count": 64,
   "id": "37efc3e8",
   "metadata": {},
   "outputs": [
    {
     "data": {
      "text/html": [
       "<div>\n",
       "<style scoped>\n",
       "    .dataframe tbody tr th:only-of-type {\n",
       "        vertical-align: middle;\n",
       "    }\n",
       "\n",
       "    .dataframe tbody tr th {\n",
       "        vertical-align: top;\n",
       "    }\n",
       "\n",
       "    .dataframe thead th {\n",
       "        text-align: right;\n",
       "    }\n",
       "</style>\n",
       "<table border=\"1\" class=\"dataframe\">\n",
       "  <thead>\n",
       "    <tr style=\"text-align: right;\">\n",
       "      <th></th>\n",
       "      <th>sepal length (cm)</th>\n",
       "      <th>sepal width (cm)</th>\n",
       "      <th>petal length (cm)</th>\n",
       "      <th>petal width (cm)</th>\n",
       "      <th>target</th>\n",
       "    </tr>\n",
       "  </thead>\n",
       "  <tbody>\n",
       "    <tr>\n",
       "      <th>0</th>\n",
       "      <td>5.1</td>\n",
       "      <td>3.5</td>\n",
       "      <td>1.4</td>\n",
       "      <td>0.2</td>\n",
       "      <td>setosa</td>\n",
       "    </tr>\n",
       "    <tr>\n",
       "      <th>1</th>\n",
       "      <td>4.9</td>\n",
       "      <td>3.0</td>\n",
       "      <td>1.4</td>\n",
       "      <td>0.2</td>\n",
       "      <td>setosa</td>\n",
       "    </tr>\n",
       "    <tr>\n",
       "      <th>2</th>\n",
       "      <td>4.7</td>\n",
       "      <td>3.2</td>\n",
       "      <td>1.3</td>\n",
       "      <td>0.2</td>\n",
       "      <td>setosa</td>\n",
       "    </tr>\n",
       "    <tr>\n",
       "      <th>3</th>\n",
       "      <td>4.6</td>\n",
       "      <td>3.1</td>\n",
       "      <td>1.5</td>\n",
       "      <td>0.2</td>\n",
       "      <td>setosa</td>\n",
       "    </tr>\n",
       "    <tr>\n",
       "      <th>4</th>\n",
       "      <td>5.0</td>\n",
       "      <td>3.6</td>\n",
       "      <td>1.4</td>\n",
       "      <td>0.2</td>\n",
       "      <td>setosa</td>\n",
       "    </tr>\n",
       "    <tr>\n",
       "      <th>...</th>\n",
       "      <td>...</td>\n",
       "      <td>...</td>\n",
       "      <td>...</td>\n",
       "      <td>...</td>\n",
       "      <td>...</td>\n",
       "    </tr>\n",
       "    <tr>\n",
       "      <th>145</th>\n",
       "      <td>6.7</td>\n",
       "      <td>3.0</td>\n",
       "      <td>5.2</td>\n",
       "      <td>2.3</td>\n",
       "      <td>virginica</td>\n",
       "    </tr>\n",
       "    <tr>\n",
       "      <th>146</th>\n",
       "      <td>6.3</td>\n",
       "      <td>2.5</td>\n",
       "      <td>5.0</td>\n",
       "      <td>1.9</td>\n",
       "      <td>virginica</td>\n",
       "    </tr>\n",
       "    <tr>\n",
       "      <th>147</th>\n",
       "      <td>6.5</td>\n",
       "      <td>3.0</td>\n",
       "      <td>5.2</td>\n",
       "      <td>2.0</td>\n",
       "      <td>virginica</td>\n",
       "    </tr>\n",
       "    <tr>\n",
       "      <th>148</th>\n",
       "      <td>6.2</td>\n",
       "      <td>3.4</td>\n",
       "      <td>5.4</td>\n",
       "      <td>2.3</td>\n",
       "      <td>virginica</td>\n",
       "    </tr>\n",
       "    <tr>\n",
       "      <th>149</th>\n",
       "      <td>5.9</td>\n",
       "      <td>3.0</td>\n",
       "      <td>5.1</td>\n",
       "      <td>1.8</td>\n",
       "      <td>virginica</td>\n",
       "    </tr>\n",
       "  </tbody>\n",
       "</table>\n",
       "<p>150 rows × 5 columns</p>\n",
       "</div>"
      ],
      "text/plain": [
       "     sepal length (cm)  sepal width (cm)  petal length (cm)  petal width (cm)  \\\n",
       "0                  5.1               3.5                1.4               0.2   \n",
       "1                  4.9               3.0                1.4               0.2   \n",
       "2                  4.7               3.2                1.3               0.2   \n",
       "3                  4.6               3.1                1.5               0.2   \n",
       "4                  5.0               3.6                1.4               0.2   \n",
       "..                 ...               ...                ...               ...   \n",
       "145                6.7               3.0                5.2               2.3   \n",
       "146                6.3               2.5                5.0               1.9   \n",
       "147                6.5               3.0                5.2               2.0   \n",
       "148                6.2               3.4                5.4               2.3   \n",
       "149                5.9               3.0                5.1               1.8   \n",
       "\n",
       "        target  \n",
       "0       setosa  \n",
       "1       setosa  \n",
       "2       setosa  \n",
       "3       setosa  \n",
       "4       setosa  \n",
       "..         ...  \n",
       "145  virginica  \n",
       "146  virginica  \n",
       "147  virginica  \n",
       "148  virginica  \n",
       "149  virginica  \n",
       "\n",
       "[150 rows x 5 columns]"
      ]
     },
     "execution_count": 64,
     "metadata": {},
     "output_type": "execute_result"
    }
   ],
   "source": [
    "data = pd.DataFrame(load_iris.data, columns = load_iris.feature_names)\n",
    "data['target'] = load_iris.target\n",
    "data['target'] = data['target'].map(dict_to_replace)\n",
    "data"
   ]
  },
  {
   "cell_type": "code",
   "execution_count": 65,
   "id": "ba02833a",
   "metadata": {},
   "outputs": [],
   "source": [
    "# data_sepal = data[['sepal length (cm)', 'sepal width (cm)']]\n",
    "# data_sepal"
   ]
  },
  {
   "cell_type": "code",
   "execution_count": 66,
   "id": "19a6d69b",
   "metadata": {},
   "outputs": [
    {
     "data": {
      "text/plain": [
       "<AxesSubplot:xlabel='petal length (cm)', ylabel='petal width (cm)'>"
      ]
     },
     "execution_count": 66,
     "metadata": {},
     "output_type": "execute_result"
    },
    {
     "data": {
      "image/png": "[encoded data removed]",
      "text/plain": [
       "<Figure size 432x288 with 1 Axes>"
      ]
     },
     "metadata": {
      "needs_background": "light"
     },
     "output_type": "display_data"
    }
   ],
   "source": [
    "import matplotlib.pyplot as plt\n",
    "import seaborn as sns\n",
    "\n",
    "sns.scatterplot(data=data, x='petal length (cm)', y='petal width (cm)')"
   ]
  },
  {
   "cell_type": "code",
   "execution_count": null,
   "id": "27f92cbb",
   "metadata": {},
   "outputs": [],
   "source": []
  },
  {
   "cell_type": "markdown",
   "id": "0101f02f",
   "metadata": {},
   "source": [
    "**Видно, что данные очень хорошо коррелируют**\n",
    "\n",
    "Мы бы хотели вместо длины и ширины чашелистика использовать какую-нибудь одну величину для обозначения их размера.\n",
    "\n",
    "Метод гланых компонент может выбирать и нумеровать оси новой системы координат в порядке убывания дисперсии.*\n",
    "1. В качестве первой оси (первой главной компоненты) выбирается ось, вдоль которой дисперсия данных максимальна. \n",
    "2. В качестве второй оси (второй главной компоненты) выбирается ось, дисперсия данных вдоль которой на втором месте по убыванию.\n",
    "3. ...\n",
    "\n",
    "$$\\sum_{i=1}^{m}\\big|\\big|x_i - a_1 \\cdot (a_1, x_i)\\big|\\big| ^2 \\rightarrow min $$\n",
    "\n",
    "где:\n",
    "- $a_1 \\cdot (a_1, x_i)$ — проекция вектора $x_i$ на направление $a_{1}$\n",
    "\n",
    "*<em>[Можно показать](https://ru.wikipedia.org/wiki/%D0%9C%D0%B5%D1%82%D0%BE%D0%B4_%D0%B3%D0%BB%D0%B0%D0%B2%D0%BD%D1%8B%D1%85_%D0%BA%D0%BE%D0%BC%D0%BF%D0%BE%D0%BD%D0%B5%D0%BD%D1%82), что этот подход построения осей полностью совпадает с построением гиперплоскости (прямой в двумерном пространстве) методом наименьших квадратов (обычной линейной регрессии). </em>\n",
    "\n",
    "$$D_{вдоль \\; a_k} = \\frac{1}{m} \\sum_{i=1}^{m}(a_k, x_k)^2$$"
   ]
  },
  {
   "cell_type": "markdown",
   "id": "24fc5a9e",
   "metadata": {},
   "source": [
    "# PCA"
   ]
  },
  {
   "cell_type": "code",
   "execution_count": 73,
   "id": "f0cda646",
   "metadata": {},
   "outputs": [],
   "source": [
    "data_train, data_test = train_test_split(data, test_size=0.3)"
   ]
  },
  {
   "cell_type": "code",
   "execution_count": 74,
   "id": "d8df04b5",
   "metadata": {},
   "outputs": [],
   "source": [
    "pca_object = PCA(n_components=2)"
   ]
  },
  {
   "cell_type": "code",
   "execution_count": 75,
   "id": "a78cf455",
   "metadata": {},
   "outputs": [
    {
     "data": {
      "text/html": [
       "<style>#sk-container-id-5 {color: black;background-color: white;}#sk-container-id-5 pre{padding: 0;}#sk-container-id-5 div.sk-toggleable {background-color: white;}#sk-container-id-5 label.sk-toggleable__label {cursor: pointer;display: block;width: 100%;margin-bottom: 0;padding: 0.3em;box-sizing: border-box;text-align: center;}#sk-container-id-5 label.sk-toggleable__label-arrow:before {content: \"▸\";float: left;margin-right: 0.25em;color: #696969;}#sk-container-id-5 label.sk-toggleable__label-arrow:hover:before {color: black;}#sk-container-id-5 div.sk-estimator:hover label.sk-toggleable__label-arrow:before {color: black;}#sk-container-id-5 div.sk-toggleable__content {max-height: 0;max-width: 0;overflow: hidden;text-align: left;background-color: #f0f8ff;}#sk-container-id-5 div.sk-toggleable__content pre {margin: 0.2em;color: black;border-radius: 0.25em;background-color: #f0f8ff;}#sk-container-id-5 input.sk-toggleable__control:checked~div.sk-toggleable__content {max-height: 200px;max-width: 100%;overflow: auto;}#sk-container-id-5 input.sk-toggleable__control:checked~label.sk-toggleable__label-arrow:before {content: \"▾\";}#sk-container-id-5 div.sk-estimator input.sk-toggleable__control:checked~label.sk-toggleable__label {background-color: #d4ebff;}#sk-container-id-5 div.sk-label input.sk-toggleable__control:checked~label.sk-toggleable__label {background-color: #d4ebff;}#sk-container-id-5 input.sk-hidden--visually {border: 0;clip: rect(1px 1px 1px 1px);clip: rect(1px, 1px, 1px, 1px);height: 1px;margin: -1px;overflow: hidden;padding: 0;position: absolute;width: 1px;}#sk-container-id-5 div.sk-estimator {font-family: monospace;background-color: #f0f8ff;border: 1px dotted black;border-radius: 0.25em;box-sizing: border-box;margin-bottom: 0.5em;}#sk-container-id-5 div.sk-estimator:hover {background-color: #d4ebff;}#sk-container-id-5 div.sk-parallel-item::after {content: \"\";width: 100%;border-bottom: 1px solid gray;flex-grow: 1;}#sk-container-id-5 div.sk-label:hover label.sk-toggleable__label {background-color: #d4ebff;}#sk-container-id-5 div.sk-serial::before {content: \"\";position: absolute;border-left: 1px solid gray;box-sizing: border-box;top: 0;bottom: 0;left: 50%;z-index: 0;}#sk-container-id-5 div.sk-serial {display: flex;flex-direction: column;align-items: center;background-color: white;padding-right: 0.2em;padding-left: 0.2em;position: relative;}#sk-container-id-5 div.sk-item {position: relative;z-index: 1;}#sk-container-id-5 div.sk-parallel {display: flex;align-items: stretch;justify-content: center;background-color: white;position: relative;}#sk-container-id-5 div.sk-item::before, #sk-container-id-5 div.sk-parallel-item::before {content: \"\";position: absolute;border-left: 1px solid gray;box-sizing: border-box;top: 0;bottom: 0;left: 50%;z-index: -1;}#sk-container-id-5 div.sk-parallel-item {display: flex;flex-direction: column;z-index: 1;position: relative;background-color: white;}#sk-container-id-5 div.sk-parallel-item:first-child::after {align-self: flex-end;width: 50%;}#sk-container-id-5 div.sk-parallel-item:last-child::after {align-self: flex-start;width: 50%;}#sk-container-id-5 div.sk-parallel-item:only-child::after {width: 0;}#sk-container-id-5 div.sk-dashed-wrapped {border: 1px dashed gray;margin: 0 0.4em 0.5em 0.4em;box-sizing: border-box;padding-bottom: 0.4em;background-color: white;}#sk-container-id-5 div.sk-label label {font-family: monospace;font-weight: bold;display: inline-block;line-height: 1.2em;}#sk-container-id-5 div.sk-label-container {text-align: center;}#sk-container-id-5 div.sk-container {/* jupyter's `normalize.less` sets `[hidden] { display: none; }` but bootstrap.min.css set `[hidden] { display: none !important; }` so we also need the `!important` here to be able to override the default hidden behavior on the sphinx rendered scikit-learn.org. See: https://github.com/scikit-learn/scikit-learn/issues/21755 */display: inline-block !important;position: relative;}#sk-container-id-5 div.sk-text-repr-fallback {display: none;}</style><div id=\"sk-container-id-5\" class=\"sk-top-container\"><div class=\"sk-text-repr-fallback\"><pre>PCA(n_components=2)</pre><b>In a Jupyter environment, please rerun this cell to show the HTML representation or trust the notebook. <br />On GitHub, the HTML representation is unable to render, please try loading this page with nbviewer.org.</b></div><div class=\"sk-container\" hidden><div class=\"sk-item\"><div class=\"sk-estimator sk-toggleable\"><input class=\"sk-toggleable__control sk-hidden--visually\" id=\"sk-estimator-id-5\" type=\"checkbox\" checked><label for=\"sk-estimator-id-5\" class=\"sk-toggleable__label sk-toggleable__label-arrow\">PCA</label><div class=\"sk-toggleable__content\"><pre>PCA(n_components=2)</pre></div></div></div></div></div>"
      ],
      "text/plain": [
       "PCA(n_components=2)"
      ]
     },
     "execution_count": 75,
     "metadata": {},
     "output_type": "execute_result"
    }
   ],
   "source": [
    "pca_object.fit(data_train[FEATURE_NAMES])"
   ]
  },
  {
   "cell_type": "code",
   "execution_count": 76,
   "id": "519b5ed7",
   "metadata": {},
   "outputs": [],
   "source": [
    "data_train[['PCA_1', 'PCA_2']] = pca_object.transform(data_train[FEATURE_NAMES])"
   ]
  },
  {
   "cell_type": "code",
   "execution_count": 77,
   "id": "7338fe23",
   "metadata": {},
   "outputs": [
    {
     "data": {
      "text/html": [
       "<div>\n",
       "<style scoped>\n",
       "    .dataframe tbody tr th:only-of-type {\n",
       "        vertical-align: middle;\n",
       "    }\n",
       "\n",
       "    .dataframe tbody tr th {\n",
       "        vertical-align: top;\n",
       "    }\n",
       "\n",
       "    .dataframe thead th {\n",
       "        text-align: right;\n",
       "    }\n",
       "</style>\n",
       "<table border=\"1\" class=\"dataframe\">\n",
       "  <thead>\n",
       "    <tr style=\"text-align: right;\">\n",
       "      <th></th>\n",
       "      <th>sepal length (cm)</th>\n",
       "      <th>sepal width (cm)</th>\n",
       "      <th>petal length (cm)</th>\n",
       "      <th>petal width (cm)</th>\n",
       "      <th>target</th>\n",
       "      <th>PCA_1</th>\n",
       "      <th>PCA_2</th>\n",
       "    </tr>\n",
       "  </thead>\n",
       "  <tbody>\n",
       "    <tr>\n",
       "      <th>63</th>\n",
       "      <td>6.1</td>\n",
       "      <td>2.9</td>\n",
       "      <td>4.7</td>\n",
       "      <td>1.4</td>\n",
       "      <td>versicolor</td>\n",
       "      <td>0.875526</td>\n",
       "      <td>-0.136620</td>\n",
       "    </tr>\n",
       "    <tr>\n",
       "      <th>98</th>\n",
       "      <td>5.1</td>\n",
       "      <td>2.5</td>\n",
       "      <td>3.0</td>\n",
       "      <td>1.1</td>\n",
       "      <td>versicolor</td>\n",
       "      <td>-1.027882</td>\n",
       "      <td>-0.724458</td>\n",
       "    </tr>\n",
       "    <tr>\n",
       "      <th>115</th>\n",
       "      <td>6.4</td>\n",
       "      <td>3.2</td>\n",
       "      <td>5.3</td>\n",
       "      <td>2.3</td>\n",
       "      <td>virginica</td>\n",
       "      <td>1.800359</td>\n",
       "      <td>0.086984</td>\n",
       "    </tr>\n",
       "    <tr>\n",
       "      <th>142</th>\n",
       "      <td>5.8</td>\n",
       "      <td>2.7</td>\n",
       "      <td>5.1</td>\n",
       "      <td>1.9</td>\n",
       "      <td>virginica</td>\n",
       "      <td>1.297877</td>\n",
       "      <td>-0.598652</td>\n",
       "    </tr>\n",
       "    <tr>\n",
       "      <th>119</th>\n",
       "      <td>6.0</td>\n",
       "      <td>2.2</td>\n",
       "      <td>5.0</td>\n",
       "      <td>1.5</td>\n",
       "      <td>virginica</td>\n",
       "      <td>1.178407</td>\n",
       "      <td>-0.770293</td>\n",
       "    </tr>\n",
       "    <tr>\n",
       "      <th>...</th>\n",
       "      <td>...</td>\n",
       "      <td>...</td>\n",
       "      <td>...</td>\n",
       "      <td>...</td>\n",
       "      <td>...</td>\n",
       "      <td>...</td>\n",
       "      <td>...</td>\n",
       "    </tr>\n",
       "    <tr>\n",
       "      <th>25</th>\n",
       "      <td>5.0</td>\n",
       "      <td>3.0</td>\n",
       "      <td>1.6</td>\n",
       "      <td>0.2</td>\n",
       "      <td>setosa</td>\n",
       "      <td>-2.616540</td>\n",
       "      <td>-0.083685</td>\n",
       "    </tr>\n",
       "    <tr>\n",
       "      <th>36</th>\n",
       "      <td>5.5</td>\n",
       "      <td>3.5</td>\n",
       "      <td>1.3</td>\n",
       "      <td>0.2</td>\n",
       "      <td>setosa</td>\n",
       "      <td>-2.721129</td>\n",
       "      <td>0.666724</td>\n",
       "    </tr>\n",
       "    <tr>\n",
       "      <th>18</th>\n",
       "      <td>5.7</td>\n",
       "      <td>3.8</td>\n",
       "      <td>1.7</td>\n",
       "      <td>0.3</td>\n",
       "      <td>setosa</td>\n",
       "      <td>-2.290060</td>\n",
       "      <td>0.925918</td>\n",
       "    </tr>\n",
       "    <tr>\n",
       "      <th>17</th>\n",
       "      <td>5.1</td>\n",
       "      <td>3.5</td>\n",
       "      <td>1.4</td>\n",
       "      <td>0.3</td>\n",
       "      <td>setosa</td>\n",
       "      <td>-2.748819</td>\n",
       "      <td>0.371821</td>\n",
       "    </tr>\n",
       "    <tr>\n",
       "      <th>139</th>\n",
       "      <td>6.9</td>\n",
       "      <td>3.1</td>\n",
       "      <td>5.4</td>\n",
       "      <td>2.1</td>\n",
       "      <td>virginica</td>\n",
       "      <td>2.007205</td>\n",
       "      <td>0.344972</td>\n",
       "    </tr>\n",
       "  </tbody>\n",
       "</table>\n",
       "<p>105 rows × 7 columns</p>\n",
       "</div>"
      ],
      "text/plain": [
       "     sepal length (cm)  sepal width (cm)  petal length (cm)  petal width (cm)  \\\n",
       "63                 6.1               2.9                4.7               1.4   \n",
       "98                 5.1               2.5                3.0               1.1   \n",
       "115                6.4               3.2                5.3               2.3   \n",
       "142                5.8               2.7                5.1               1.9   \n",
       "119                6.0               2.2                5.0               1.5   \n",
       "..                 ...               ...                ...               ...   \n",
       "25                 5.0               3.0                1.6               0.2   \n",
       "36                 5.5               3.5                1.3               0.2   \n",
       "18                 5.7               3.8                1.7               0.3   \n",
       "17                 5.1               3.5                1.4               0.3   \n",
       "139                6.9               3.1                5.4               2.1   \n",
       "\n",
       "         target     PCA_1     PCA_2  \n",
       "63   versicolor  0.875526 -0.136620  \n",
       "98   versicolor -1.027882 -0.724458  \n",
       "115   virginica  1.800359  0.086984  \n",
       "142   virginica  1.297877 -0.598652  \n",
       "119   virginica  1.178407 -0.770293  \n",
       "..          ...       ...       ...  \n",
       "25       setosa -2.616540 -0.083685  \n",
       "36       setosa -2.721129  0.666724  \n",
       "18       setosa -2.290060  0.925918  \n",
       "17       setosa -2.748819  0.371821  \n",
       "139   virginica  2.007205  0.344972  \n",
       "\n",
       "[105 rows x 7 columns]"
      ]
     },
     "execution_count": 77,
     "metadata": {},
     "output_type": "execute_result"
    }
   ],
   "source": [
    "data_train"
   ]
  },
  {
   "cell_type": "code",
   "execution_count": 78,
   "id": "144e7e26",
   "metadata": {
    "scrolled": true
   },
   "outputs": [
    {
     "data": {
      "text/plain": [
       "<AxesSubplot:xlabel='PCA_1', ylabel='PCA_2'>"
      ]
     },
     "execution_count": 78,
     "metadata": {},
     "output_type": "execute_result"
    },
    {
     "data": {
      "image/png": "[encoded data removed]",
      "text/plain": [
       "<Figure size 432x288 with 1 Axes>"
      ]
     },
     "metadata": {
      "needs_background": "light"
     },
     "output_type": "display_data"
    }
   ],
   "source": [
    "sns.scatterplot(data=data_train, x='PCA_1', y='PCA_2')"
   ]
  },
  {
   "cell_type": "code",
   "execution_count": 80,
   "id": "0759fcfb",
   "metadata": {},
   "outputs": [
    {
     "data": {
      "text/plain": [
       "array([0.91792265, 0.0600719 ])"
      ]
     },
     "execution_count": 80,
     "metadata": {},
     "output_type": "execute_result"
    }
   ],
   "source": [
    "pca_object.explained_variance_ratio_"
   ]
  },
  {
   "cell_type": "markdown",
   "id": "aaa7fab1",
   "metadata": {},
   "source": [
    "# Цифры"
   ]
  },
  {
   "cell_type": "markdown",
   "id": "925e9275",
   "metadata": {},
   "source": [
    "https://jakevdp.github.io/PythonDataScienceHandbook/05.09-principal-component-analysis.html"
   ]
  },
  {
   "cell_type": "code",
   "execution_count": 11,
   "id": "bd4fcb07",
   "metadata": {},
   "outputs": [
    {
     "data": {
      "text/plain": [
       "(1797, 64)"
      ]
     },
     "execution_count": 11,
     "metadata": {},
     "output_type": "execute_result"
    }
   ],
   "source": [
    "from sklearn.datasets import load_digits\n",
    "from sklearn.decomposition import PCA\n",
    "import matplotlib.pyplot as plt\n",
    "import seaborn as sns\n",
    "\n",
    "digits = load_digits()\n",
    "digits.data.shape"
   ]
  },
  {
   "cell_type": "markdown",
   "id": "ed77f0f2",
   "metadata": {},
   "source": [
    "## PCA"
   ]
  },
  {
   "cell_type": "code",
   "execution_count": 8,
   "id": "e4df408c",
   "metadata": {},
   "outputs": [
    {
     "name": "stdout",
     "output_type": "stream",
     "text": [
      "(1797, 64)\n",
      "(1797, 2)\n"
     ]
    }
   ],
   "source": [
    "pca = PCA(2)  # project from 64 to 2 dimensions\n",
    "projected = pca.fit_transform(digits.data)\n",
    "print(digits.data.shape)\n",
    "print(projected.shape)"
   ]
  },
  {
   "cell_type": "code",
   "execution_count": 26,
   "id": "5b0543a0",
   "metadata": {},
   "outputs": [],
   "source": [
    "import pandas as pd\n",
    "data_for_plot_pca = pd.DataFrame()\n",
    "data_for_plot_pca[['Component_1', 'Component_2']] = projected\n",
    "data_for_plot_pca['digit'] = digits.target"
   ]
  },
  {
   "cell_type": "markdown",
   "id": "6b417fb4",
   "metadata": {},
   "source": [
    "https://stackoverflow.com/questions/62884183/trying-to-add-a-colorbar-to-a-seaborn-scatterplot"
   ]
  },
  {
   "cell_type": "code",
   "execution_count": 60,
   "id": "b47b88de",
   "metadata": {},
   "outputs": [
    {
     "data": {
      "image/png": "[encoded data removed]",
      "text/plain": [
       "<Figure size 576x432 with 2 Axes>"
      ]
     },
     "metadata": {
      "needs_background": "light"
     },
     "output_type": "display_data"
    }
   ],
   "source": [
    "fig = plt.figure(figsize = (8, 6))\n",
    "plt.scatter(x=projected[:, 0], \n",
    "            y=projected[:, 1],\n",
    "            c=digits.target, \n",
    "            edgecolor='none', \n",
    "            alpha=1,\n",
    "            cmap=plt.cm.get_cmap('Spectral', 10))\n",
    "plt.xlabel('Component 1')\n",
    "plt.ylabel('Component 2')\n",
    "plt.colorbar();"
   ]
  },
  {
   "cell_type": "markdown",
   "id": "0dcaed3e",
   "metadata": {},
   "source": [
    "## TSNE example"
   ]
  },
  {
   "cell_type": "code",
   "execution_count": null,
   "id": "ee7f7c91",
   "metadata": {},
   "outputs": [],
   "source": [
    "from sklearn.manifold import TSNE\n",
    "tsne = TSNE(n_components=2)\n",
    "projects_tsne = tsne.fit_transform(digits.data)"
   ]
  },
  {
   "cell_type": "code",
   "execution_count": 63,
   "id": "b8a50c08",
   "metadata": {},
   "outputs": [],
   "source": [
    "import pandas as pd\n",
    "data_for_plot_tsne = pd.DataFrame()\n",
    "data_for_plot_tsne[['Component_1', 'Component_2']] = projects_tsne\n",
    "data_for_plot_tsne['digit'] = digits.target"
   ]
  },
  {
   "cell_type": "code",
   "execution_count": 65,
   "id": "291c6597",
   "metadata": {},
   "outputs": [
    {
     "data": {
      "image/png": "[encoded data removed]",
      "text/plain": [
       "<Figure size 576x432 with 2 Axes>"
      ]
     },
     "metadata": {
      "needs_background": "light"
     },
     "output_type": "display_data"
    }
   ],
   "source": [
    "fig = plt.figure(figsize = (8, 6))\n",
    "plt.scatter(x=data_for_plot_tsne['Component_1'], \n",
    "            y=data_for_plot_tsne['Component_2'],\n",
    "            c=digits.target, \n",
    "            edgecolor='none', \n",
    "            alpha=1,\n",
    "            cmap=plt.cm.get_cmap('Spectral', 10))\n",
    "plt.xlabel('Component 1')\n",
    "plt.ylabel('Component 2')\n",
    "plt.colorbar();"
   ]
  },
  {
   "cell_type": "markdown",
   "id": "03d00b06",
   "metadata": {},
   "source": [
    "## Umap"
   ]
  },
  {
   "cell_type": "code",
   "execution_count": 1,
   "id": "9f3d845e",
   "metadata": {},
   "outputs": [],
   "source": [
    "import umap\n",
    "import umap.umap_ as umap"
   ]
  },
  {
   "cell_type": "code",
   "execution_count": 84,
   "id": "c1a71cea",
   "metadata": {},
   "outputs": [],
   "source": [
    "# !pip install umap\n",
    "# !pip install umap-learn"
   ]
  },
  {
   "cell_type": "code",
   "execution_count": 102,
   "id": "af8fe6d9",
   "metadata": {},
   "outputs": [],
   "source": [
    "# n_neighbors = 50, \n",
    "# min_dist=0.0, metric='cosine'\n",
    "projects_umap = umap.UMAP(\n",
    "    n_components=2, \n",
    "    n_neighbors = 10).fit_transform(digits.data)"
   ]
  },
  {
   "cell_type": "code",
   "execution_count": 103,
   "id": "44c4de6b",
   "metadata": {},
   "outputs": [],
   "source": [
    "data_for_plot_umap = pd.DataFrame()\n",
    "data_for_plot_umap[['Component_1', 'Component_2']] = projects_umap\n",
    "data_for_plot_umap['digit'] = digits.target"
   ]
  },
  {
   "cell_type": "code",
   "execution_count": 104,
   "id": "fc558b2c",
   "metadata": {},
   "outputs": [
    {
     "data": {
      "text/plain": [
       "<matplotlib.colorbar.Colorbar at 0x7fd888665450>"
      ]
     },
     "execution_count": 104,
     "metadata": {},
     "output_type": "execute_result"
    },
    {
     "data": {
      "image/png": "[encoded data removed]",
      "text/plain": [
       "<Figure size 576x432 with 2 Axes>"
      ]
     },
     "metadata": {
      "needs_background": "light"
     },
     "output_type": "display_data"
    }
   ],
   "source": [
    "fig = plt.figure(figsize = (8, 6))\n",
    "plt.scatter(x=data_for_plot_umap['Component_1'], \n",
    "            y=data_for_plot_umap['Component_2'],\n",
    "            c=digits.target, \n",
    "            edgecolor='none', \n",
    "            alpha=1,\n",
    "            cmap=plt.cm.get_cmap('Spectral', 10))\n",
    "plt.xlabel('Component 1')\n",
    "plt.ylabel('Component 2')\n",
    "plt.colorbar()"
   ]
  },
  {
   "cell_type": "code",
   "execution_count": null,
   "id": "56aec566",
   "metadata": {},
   "outputs": [],
   "source": []
  }
 ],
 "metadata": {
  "kernelspec": {
   "display_name": "Python 3 (ipykernel)",
   "language": "python",
   "name": "python3"
  },
  "language_info": {
   "codemirror_mode": {
    "name": "ipython",
    "version": 3
   },
   "file_extension": ".py",
   "mimetype": "text/x-python",
   "name": "python",
   "nbconvert_exporter": "python",
   "pygments_lexer": "ipython3",
   "version": "3.10.6"
  },
  "toc": {
   "base_numbering": 1,
   "nav_menu": {},
   "number_sections": true,
   "sideBar": true,
   "skip_h1_title": false,
   "title_cell": "Table of Contents",
   "title_sidebar": "Contents",
   "toc_cell": false,
   "toc_position": {},
   "toc_section_display": true,
   "toc_window_display": false
  },
  "varInspector": {
   "cols": {
    "lenName": 16,
    "lenType": 16,
    "lenVar": 40
   },
   "kernels_config": {
    "python": {
     "delete_cmd_postfix": "",
     "delete_cmd_prefix": "del ",
     "library": "var_list.py",
     "varRefreshCmd": "print(var_dic_list())"
    },
    "r": {
     "delete_cmd_postfix": ") ",
     "delete_cmd_prefix": "rm(",
     "library": "var_list.r",
     "varRefreshCmd": "cat(var_dic_list()) "
    }
   },
   "types_to_exclude": [
    "module",
    "function",
    "builtin_function_or_method",
    "instance",
    "_Feature"
   ],
   "window_display": false
  }
 },
 "nbformat": 4,
 "nbformat_minor": 5
}
