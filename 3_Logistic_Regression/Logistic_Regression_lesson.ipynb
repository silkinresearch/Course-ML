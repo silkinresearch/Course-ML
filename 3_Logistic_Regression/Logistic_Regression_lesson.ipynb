{
 "cells": [
  {
   "cell_type": "code",
   "execution_count": 1,
   "id": "fdc3ca24",
   "metadata": {
    "ExecuteTime": {
     "end_time": "2022-11-06T13:07:57.561528Z",
     "start_time": "2022-11-06T13:07:57.548257Z"
    }
   },
   "outputs": [],
   "source": [
    "import pandas as pd\n",
    "import numpy as np\n",
    "from sklearn.datasets import load_iris, load_wine, load_breast_cancer, load_digits\n",
    "\n",
    "from sklearn.linear_model import LogisticRegression\n",
    "from sklearn.model_selection import train_test_split, KFold\n",
    "from sklearn.metrics import roc_auc_score\n",
    "\n",
    "from sklearn.neural_network import MLPClassifier\n",
    "from sklearn.preprocessing import StandardScaler\n",
    "\n",
    "pd.options.mode.chained_assignment = None"
   ]
  },
  {
   "cell_type": "code",
   "execution_count": 2,
   "id": "b4d4193b",
   "metadata": {
    "ExecuteTime": {
     "end_time": "2022-11-06T13:07:57.592203Z",
     "start_time": "2022-11-06T13:07:57.566436Z"
    }
   },
   "outputs": [
    {
     "data": {
      "text/html": [
       "<div>\n",
       "<style scoped>\n",
       "    .dataframe tbody tr th:only-of-type {\n",
       "        vertical-align: middle;\n",
       "    }\n",
       "\n",
       "    .dataframe tbody tr th {\n",
       "        vertical-align: top;\n",
       "    }\n",
       "\n",
       "    .dataframe thead th {\n",
       "        text-align: right;\n",
       "    }\n",
       "</style>\n",
       "<table border=\"1\" class=\"dataframe\">\n",
       "  <thead>\n",
       "    <tr style=\"text-align: right;\">\n",
       "      <th></th>\n",
       "      <th>sepal length (cm)</th>\n",
       "      <th>sepal width (cm)</th>\n",
       "      <th>petal length (cm)</th>\n",
       "      <th>petal width (cm)</th>\n",
       "      <th>target</th>\n",
       "    </tr>\n",
       "  </thead>\n",
       "  <tbody>\n",
       "    <tr>\n",
       "      <th>0</th>\n",
       "      <td>5.1</td>\n",
       "      <td>3.5</td>\n",
       "      <td>1.4</td>\n",
       "      <td>0.2</td>\n",
       "      <td>0</td>\n",
       "    </tr>\n",
       "    <tr>\n",
       "      <th>1</th>\n",
       "      <td>4.9</td>\n",
       "      <td>3.0</td>\n",
       "      <td>1.4</td>\n",
       "      <td>0.2</td>\n",
       "      <td>0</td>\n",
       "    </tr>\n",
       "    <tr>\n",
       "      <th>2</th>\n",
       "      <td>4.7</td>\n",
       "      <td>3.2</td>\n",
       "      <td>1.3</td>\n",
       "      <td>0.2</td>\n",
       "      <td>0</td>\n",
       "    </tr>\n",
       "    <tr>\n",
       "      <th>3</th>\n",
       "      <td>4.6</td>\n",
       "      <td>3.1</td>\n",
       "      <td>1.5</td>\n",
       "      <td>0.2</td>\n",
       "      <td>0</td>\n",
       "    </tr>\n",
       "    <tr>\n",
       "      <th>4</th>\n",
       "      <td>5.0</td>\n",
       "      <td>3.6</td>\n",
       "      <td>1.4</td>\n",
       "      <td>0.2</td>\n",
       "      <td>0</td>\n",
       "    </tr>\n",
       "    <tr>\n",
       "      <th>...</th>\n",
       "      <td>...</td>\n",
       "      <td>...</td>\n",
       "      <td>...</td>\n",
       "      <td>...</td>\n",
       "      <td>...</td>\n",
       "    </tr>\n",
       "    <tr>\n",
       "      <th>145</th>\n",
       "      <td>6.7</td>\n",
       "      <td>3.0</td>\n",
       "      <td>5.2</td>\n",
       "      <td>2.3</td>\n",
       "      <td>2</td>\n",
       "    </tr>\n",
       "    <tr>\n",
       "      <th>146</th>\n",
       "      <td>6.3</td>\n",
       "      <td>2.5</td>\n",
       "      <td>5.0</td>\n",
       "      <td>1.9</td>\n",
       "      <td>2</td>\n",
       "    </tr>\n",
       "    <tr>\n",
       "      <th>147</th>\n",
       "      <td>6.5</td>\n",
       "      <td>3.0</td>\n",
       "      <td>5.2</td>\n",
       "      <td>2.0</td>\n",
       "      <td>2</td>\n",
       "    </tr>\n",
       "    <tr>\n",
       "      <th>148</th>\n",
       "      <td>6.2</td>\n",
       "      <td>3.4</td>\n",
       "      <td>5.4</td>\n",
       "      <td>2.3</td>\n",
       "      <td>2</td>\n",
       "    </tr>\n",
       "    <tr>\n",
       "      <th>149</th>\n",
       "      <td>5.9</td>\n",
       "      <td>3.0</td>\n",
       "      <td>5.1</td>\n",
       "      <td>1.8</td>\n",
       "      <td>2</td>\n",
       "    </tr>\n",
       "  </tbody>\n",
       "</table>\n",
       "<p>150 rows × 5 columns</p>\n",
       "</div>"
      ],
      "text/plain": [
       "     sepal length (cm)  sepal width (cm)  petal length (cm)  petal width (cm)  \\\n",
       "0                  5.1               3.5                1.4               0.2   \n",
       "1                  4.9               3.0                1.4               0.2   \n",
       "2                  4.7               3.2                1.3               0.2   \n",
       "3                  4.6               3.1                1.5               0.2   \n",
       "4                  5.0               3.6                1.4               0.2   \n",
       "..                 ...               ...                ...               ...   \n",
       "145                6.7               3.0                5.2               2.3   \n",
       "146                6.3               2.5                5.0               1.9   \n",
       "147                6.5               3.0                5.2               2.0   \n",
       "148                6.2               3.4                5.4               2.3   \n",
       "149                5.9               3.0                5.1               1.8   \n",
       "\n",
       "     target  \n",
       "0         0  \n",
       "1         0  \n",
       "2         0  \n",
       "3         0  \n",
       "4         0  \n",
       "..      ...  \n",
       "145       2  \n",
       "146       2  \n",
       "147       2  \n",
       "148       2  \n",
       "149       2  \n",
       "\n",
       "[150 rows x 5 columns]"
      ]
     },
     "execution_count": 2,
     "metadata": {},
     "output_type": "execute_result"
    }
   ],
   "source": [
    "# Скачиваем датасет\n",
    "load_iris = load_iris()\n",
    "data  = pd.DataFrame(data = load_iris.data, columns = load_iris.feature_names)\n",
    "data['target'] = load_iris.target\n",
    "data"
   ]
  },
  {
   "cell_type": "markdown",
   "id": "905cf7b1",
   "metadata": {},
   "source": [
    "Урок английского\n",
    "- sepal - чашелистик\n",
    "- petal - лепесток\n",
    "\n",
    "Features\n",
    "- sepal length in cm\n",
    "- sepal width in cm\n",
    "- petal length in cm\n",
    "- petal width in cm\n",
    "\n",
    "Target:\n",
    "\n",
    "- 0 - Iris-Setosa (Ирис щетинистый)\n",
    "- 1 - Iris-Versicolour (Ирис разноцветный\n",
    "- 2 - Iris-Virginica (Ирис виргинский)"
   ]
  },
  {
   "cell_type": "code",
   "execution_count": 3,
   "id": "e9b195fb",
   "metadata": {
    "ExecuteTime": {
     "end_time": "2022-11-06T13:07:57.613200Z",
     "start_time": "2022-11-06T13:07:57.593556Z"
    }
   },
   "outputs": [],
   "source": [
    "data['target_name'] = data['target'].map({0: 'Iris-Setosa', 1: 'Iris-Versicolour', 2: 'Iris-Virginica'})\n",
    "data['sepal'] = data.apply(lambda row: row['sepal length (cm)'] * row['sepal width (cm)'], axis = 1)\n",
    "data['petal'] = data.apply(lambda row: row['petal length (cm)'] * row['petal length (cm)'], axis = 1)\n",
    "data['target_0'] = data['target'].apply(lambda x: 1 if x == 0 else 0)\n",
    "data['target_1'] = data['target'].apply(lambda x: 1 if x == 1 else 0)\n",
    "data['target_2'] = data['target'].apply(lambda x: 1 if x == 2 else 0)"
   ]
  },
  {
   "cell_type": "code",
   "execution_count": 4,
   "id": "755466c9",
   "metadata": {
    "ExecuteTime": {
     "end_time": "2022-11-06T13:07:57.786571Z",
     "start_time": "2022-11-06T13:07:57.615625Z"
    }
   },
   "outputs": [
    {
     "data": {
      "image/png": "[encoded data removed]",
      "text/plain": [
       "<Figure size 720x432 with 1 Axes>"
      ]
     },
     "metadata": {
      "needs_background": "light"
     },
     "output_type": "display_data"
    }
   ],
   "source": [
    "import seaborn as sns\n",
    "import matplotlib.pyplot as plt\n",
    "\n",
    "fig = plt.figure(figsize=(10, 6))\n",
    "\n",
    "p = sns.scatterplot(data = data, x = 'sepal', y='petal', hue = 'target_name', palette = ['green', 'yellow', 'blue'])\n",
    "\n",
    "p.set_xlabel('sepal - размер чашелистика', fontsize = 14)\n",
    "p.set_ylabel('petal - размер лепестка', fontsize = 14)\n",
    "\n",
    "plt.show()"
   ]
  },
  {
   "cell_type": "markdown",
   "id": "7313bf9b",
   "metadata": {},
   "source": [
    "# Loss для задачи классификации"
   ]
  },
  {
   "cell_type": "markdown",
   "id": "d83f9d93",
   "metadata": {},
   "source": [
    "В задаче регрессии для подбора коэффициентов мы минимизировали функцию ошибки MSE на всём датасете. В задаче классификации мы будем максимизировать правдоподобие. \n",
    "\n",
    "**Правдоподобие** — это вероятность получить выборку наших наблюдений, то есть вероятность того, что мы имеем наш датасет с разметкой именно такой.\n",
    "\n",
    "$$\\prod_{i = 1}^{l} P(T = t_i | x_i) \\rightarrow \\underset{\\mathbf{w}}{max}$$\n",
    "\n",
    "где $P(T = t_i | x_i)$ — вероятность того, что таргет будет равен $t_i$, если объект обладает признаками $x_i$\n",
    "\n",
    "С произведением работать неудобно. Поэтом возьмём логарифм. Поскольку логарифм - функция возрастающая, то желание найти максимум не поменяется на желание найти минимум.\n",
    "\n",
    "$$ln \\Big( \\prod_{i = 1}^{l} P(T = t_i | x_i) \\Big) \\rightarrow \\underset{\\mathbf{w}}{max}$$\n",
    "\n",
    "$$ \\sum_{i = 1}^{l} ln \\big(P(T = t_i | x_i) \\big) \\rightarrow \\underset{\\mathbf{w}}{max}$$\n",
    "\n",
    "Домножим на минус, чтобы нам необходимо было искать минимум.\n",
    "\n",
    "$$ L(\\mathbf{w}) = -\\sum_{i = 1}^{l} ln \\big(P(T = t_i | x_i) \\big) \\rightarrow \\underset{\\mathbf{w}}{min}$$\n",
    "\n",
    "\n",
    "**Для двух классов**\n",
    "$$ \\boxed{L(\\mathbf{w}) = -\\sum_{i = 1}^{l} \\big(t_i \\ln (p_i) + (1 - t_i) \\ln (1 - p_i) \\big) \\rightarrow \\underset{\\mathbf{w}}{min}}$$\n",
    "\n",
    "$t_i$ - таргет на наблюдении i<br>\n",
    "$p_i$ - вероятность, которая вернула модель на наблюдении i<br>\n",
    "$l$ — количество наблюдений "
   ]
  },
  {
   "cell_type": "markdown",
   "id": "822da500",
   "metadata": {},
   "source": [
    "**Объяснение, что при бинарной классификации получается формула из двух слагаемых.**<br>\n",
    "Легко видеть, что, в завимимости от таргета каждое слагаемое суммы будет обычным логарифмом.<br><br>\n",
    "$$ln \\big(P(T = t_i | x_i) \\big) = t_i \\ln (p_i) + (1 - t_i) \\ln (1 - p_i)$$\n",
    "\n",
    "$$t_i = 1 \\;\\;\\rightarrow\\;\\; ln \\big(P(T = t_i | x_i) \\big) = \\ln (p_i)$$\n",
    "\n",
    "$$t_i = 0 \\;\\;\\rightarrow\\;\\; ln \\big(P(T = t_i | x_i) \\big) = \\ln (1-p_i)$$ \n",
    "\n",
    "<br>"
   ]
  },
  {
   "cell_type": "markdown",
   "id": "075929d3",
   "metadata": {},
   "source": [
    "# Как считать вероятность?"
   ]
  },
  {
   "cell_type": "markdown",
   "id": "7d948ca9",
   "metadata": {},
   "source": [
    "Но как же выразить вероятность, которая присутствует в формуле для кросс-энтропии, через признаки классов?"
   ]
  },
  {
   "cell_type": "markdown",
   "id": "fd98d299",
   "metadata": {},
   "source": [
    "Шансами называется отношение вероятности принадлежности к классу 1 к вероятности принадлежности к классу 2.\n",
    "\n",
    "$$Odds = \\frac{p}{1-p}$$\n",
    "\n",
    "$$p = \\frac{Odds}{Odds + 1}$$\n",
    "\n",
    "$$p = \\frac{1}{1 + 1/Odds}$$\n",
    "\n",
    "$$p = \\frac{1}{1 + e^{ln(1/Odds)}}$$\n",
    "\n",
    "$$p = \\frac{1}{1 + e^{-ln\\big(Odds\\big)}}$$\n",
    "\n",
    "Стоит отметить, что: \n",
    "- Odds $\\in [0, +\\infty$]\n",
    "- ln(Odds) $\\in [-\\infty, +\\infty$]\n",
    "\n",
    "Поскольку логарифм шансов может принимать любые значения от минус бесконечности до плюс бесконечности, мы можем выходы линейной модели (logits) прогонять через полученную сигмоидальную функцию. В результате обучения модели, линейные выходы будет иметь физический смысл логарифма шансов иметь целевой признак.\n",
    "\n",
    "Обозначив линейный выход модели $log(Odds) = z$, запишем получившуюся формулу:\n",
    "\n",
    "$$\\boxed{\\sigma(z) = \\frac{1}{1+e^{-z}}}$$\n",
    "\n",
    "Физический смысл коэффициентов модели \n",
    "- Intercept: Логарифм шансов иметь признак, если все категориальные и численные признаки равны нулю. \n",
    "- при числовых признаках: При единичном изменении признака, логарифм шансов изменяется на величину коэффициента.\n",
    "- при категориальных признаках: При переходе к новой категории (0  $\\rightarrow$ 1) логарифм шансов изменяется на величину."
   ]
  },
  {
   "cell_type": "markdown",
   "id": "9086a668",
   "metadata": {},
   "source": [
    "# Train и Test"
   ]
  },
  {
   "cell_type": "code",
   "execution_count": 5,
   "id": "365e2607",
   "metadata": {
    "ExecuteTime": {
     "end_time": "2022-11-06T13:07:57.795195Z",
     "start_time": "2022-11-06T13:07:57.787771Z"
    }
   },
   "outputs": [],
   "source": [
    "def add_folds_to_dataframe(df):\n",
    "    df['Type'] = 0\n",
    "    kf = KFold(shuffle=True)\n",
    "    for train_index, test_index in kf.split(df.index):\n",
    "        df.loc[test_index, 'Type'] = 'Test'\n",
    "        df.loc[train_index, 'Type'] = 'Train'\n",
    "    return df\n",
    "\n",
    "data = add_folds_to_dataframe(data)"
   ]
  },
  {
   "cell_type": "code",
   "execution_count": 6,
   "id": "8f1bfd32",
   "metadata": {
    "ExecuteTime": {
     "end_time": "2022-11-06T13:07:57.814846Z",
     "start_time": "2022-11-06T13:07:57.796422Z"
    }
   },
   "outputs": [],
   "source": [
    "train = data[data['Type'] == 'Train']\n",
    "test = data[data['Type'] == 'Test']"
   ]
  },
  {
   "cell_type": "markdown",
   "id": "fd5de9b8",
   "metadata": {},
   "source": [
    "# Стандартизация"
   ]
  },
  {
   "cell_type": "code",
   "execution_count": 7,
   "id": "401bd157",
   "metadata": {},
   "outputs": [],
   "source": [
    "X_train = train[['sepal', 'petal']]\n",
    "X_test = test[['sepal', 'petal']]"
   ]
  },
  {
   "cell_type": "code",
   "execution_count": 8,
   "id": "a75ac38c",
   "metadata": {},
   "outputs": [],
   "source": [
    "# Инициализируем нормализатор.\n",
    "standart_scaler_object = StandardScaler()\n",
    "\n",
    "    # Обучаем нормализатор на численных фичах трейна.\n",
    "standart_scaler_object.fit(X_train)\n",
    "\n",
    "    # Трансформируем нормализатор на трейне и тесте.\n",
    "train[['sepal_norm', 'petal_norm']] = standart_scaler_object.transform(X_train)\n",
    "test[['sepal_norm', 'petal_norm']] = standart_scaler_object.transform(X_test)\n",
    "data[['sepal_norm', 'petal_norm']] = standart_scaler_object.transform(data[['sepal', 'petal']])"
   ]
  },
  {
   "cell_type": "code",
   "execution_count": 9,
   "id": "c7313597",
   "metadata": {},
   "outputs": [],
   "source": [
    "X_train_norm = train[['sepal_norm', 'petal_norm']]\n",
    "X_test_norm = test[['sepal_norm', 'petal_norm']]"
   ]
  },
  {
   "cell_type": "markdown",
   "id": "bba6199e",
   "metadata": {},
   "source": [
    "# Функция для визуализации"
   ]
  },
  {
   "cell_type": "markdown",
   "id": "debe5e70",
   "metadata": {},
   "source": [
    "https://jakevdp.github.io/PythonDataScienceHandbook/04.04-density-and-contour-plots.html\n",
    "\n",
    "https://stackoverflow.com/questions/22294241/plotting-a-decision-boundary-separating-2-classes-using-matplotlibs-pyplot\n",
    "\n",
    "https://stackoverflow.com/questions/33282368/plotting-a-2d-heatmap"
   ]
  },
  {
   "cell_type": "code",
   "execution_count": 10,
   "id": "6c90bd81",
   "metadata": {},
   "outputs": [],
   "source": [
    "def show_devided_surface(X, y, model, target_column_name):\n",
    "    \"\"\"\n",
    "    Функция строит тепловую карту вероятности и разделяющую поверхность\n",
    "    \"\"\"\n",
    "    \n",
    "    # 1. Ищем область, в которой будем рисовать\n",
    "    X_columns = list(X.columns)\n",
    "    X = X.to_numpy()\n",
    "    x_min, x_max = X[:, 0].min(), X[:, 0].max() # 1st feature\n",
    "    y_min, y_max = X[:, 1].min(), X[:, 1].max() # 2nd feature\n",
    "    \n",
    "    x_min = x_min - (x_max - x_min)/5\n",
    "    x_max = x_max + (x_max - x_min)/5\n",
    "    y_min = y_min - (y_max - y_min)/5\n",
    "    y_max = y_max + (y_max - y_min)/5\n",
    "        # создаём массив на каждую ось\n",
    "    x_scale = np.linspace(x_min, x_max, 500)\n",
    "    y_scale = np.linspace(y_min, y_max, 500)\n",
    "        # Соединяем массивы по x и y\n",
    "    x_grid, y_grid = np.meshgrid(x_scale, y_scale)\n",
    "\n",
    "    # 2. Делаем предикт\n",
    "    Z_proba = model.predict_proba(np.c_[x_grid.ravel(), y_grid.ravel()])[:, 1]\n",
    "    Z_proba = Z_proba.reshape(x_grid.shape)\n",
    "    Z_classes = (model.predict_proba(np.c_[x_grid.ravel(), y_grid.ravel()])[:, 1] >= 0.5).astype(int)\n",
    "    Z_classes = Z_classes.reshape(x_grid.shape)\n",
    "\n",
    "    surface = plt.contourf(x_grid, y_grid, Z_proba, 100, cmap='Oranges')\n",
    "    plt.contour(x_grid, y_grid, Z_classes, colors='black')\n",
    "    plt.colorbar(surface)\n",
    "    sns.scatterplot(data = data, x=X_columns[0], y=X_columns[1], hue = target_column_name, style=\"Type\")\n",
    "    plt.show()"
   ]
  },
  {
   "cell_type": "markdown",
   "id": "274616cf",
   "metadata": {},
   "source": [
    "<br><br><br><br><br><br>"
   ]
  },
  {
   "cell_type": "markdown",
   "id": "d36a115a",
   "metadata": {},
   "source": [
    "# Binary output"
   ]
  },
  {
   "cell_type": "markdown",
   "id": "f9278953",
   "metadata": {},
   "source": [
    "## За класс 1 принимаем (setosa)"
   ]
  },
  {
   "cell_type": "code",
   "execution_count": 11,
   "id": "fc5f3994",
   "metadata": {
    "ExecuteTime": {
     "end_time": "2022-11-06T13:07:57.841057Z",
     "start_time": "2022-11-06T13:07:57.816028Z"
    }
   },
   "outputs": [
    {
     "name": "stdout",
     "output_type": "stream",
     "text": [
      "1.0 - Train score\n",
      "1.0 - Test score\n"
     ]
    }
   ],
   "source": [
    "y_train = train['target_0']\n",
    "y_test = test['target_0']\n",
    "\n",
    "logisticregression_object = LogisticRegression()\n",
    "logisticregression_object.fit(X_train, y_train)\n",
    "\n",
    "y_train_score = logisticregression_object.predict_proba(X_train)[:, 1]\n",
    "y_test_score = logisticregression_object.predict_proba(X_test)[:, 1]\n",
    "print(roc_auc_score(y_true = y_train, y_score = y_train_score), '- Train score')\n",
    "print(roc_auc_score(y_true = y_test, y_score = y_test_score), '- Test score')"
   ]
  },
  {
   "cell_type": "code",
   "execution_count": 12,
   "id": "af2d6b1e",
   "metadata": {
    "ExecuteTime": {
     "end_time": "2022-11-06T13:08:10.328196Z",
     "start_time": "2022-11-06T13:08:09.766484Z"
    }
   },
   "outputs": [
    {
     "name": "stderr",
     "output_type": "stream",
     "text": [
      "/home/volodya/.local/lib/python3.10/site-packages/sklearn/base.py:450: UserWarning: X does not have valid feature names, but LogisticRegression was fitted with feature names\n",
      "  warnings.warn(\n",
      "/home/volodya/.local/lib/python3.10/site-packages/sklearn/base.py:450: UserWarning: X does not have valid feature names, but LogisticRegression was fitted with feature names\n",
      "  warnings.warn(\n"
     ]
    },
    {
     "data": {
      "image/png": "[encoded data removed]",
      "text/plain": [
       "<Figure size 432x288 with 2 Axes>"
      ]
     },
     "metadata": {
      "needs_background": "light"
     },
     "output_type": "display_data"
    }
   ],
   "source": [
    "show_devided_surface(X_train, y_train, logisticregression_object, target_column_name = 'target_0')"
   ]
  },
  {
   "cell_type": "code",
   "execution_count": 13,
   "id": "dca771d4",
   "metadata": {},
   "outputs": [
    {
     "data": {
      "text/html": [
       "<div>\n",
       "<style scoped>\n",
       "    .dataframe tbody tr th:only-of-type {\n",
       "        vertical-align: middle;\n",
       "    }\n",
       "\n",
       "    .dataframe tbody tr th {\n",
       "        vertical-align: top;\n",
       "    }\n",
       "\n",
       "    .dataframe thead th {\n",
       "        text-align: right;\n",
       "    }\n",
       "</style>\n",
       "<table border=\"1\" class=\"dataframe\">\n",
       "  <thead>\n",
       "    <tr style=\"text-align: right;\">\n",
       "      <th></th>\n",
       "      <th>features</th>\n",
       "      <th>coeffitients</th>\n",
       "    </tr>\n",
       "  </thead>\n",
       "  <tbody>\n",
       "    <tr>\n",
       "      <th>0</th>\n",
       "      <td>intercept</td>\n",
       "      <td>2.476885</td>\n",
       "    </tr>\n",
       "    <tr>\n",
       "      <th>1</th>\n",
       "      <td>sepal</td>\n",
       "      <td>0.330382</td>\n",
       "    </tr>\n",
       "    <tr>\n",
       "      <th>2</th>\n",
       "      <td>petal</td>\n",
       "      <td>-0.984184</td>\n",
       "    </tr>\n",
       "  </tbody>\n",
       "</table>\n",
       "</div>"
      ],
      "text/plain": [
       "    features  coeffitients\n",
       "0  intercept      2.476885\n",
       "1      sepal      0.330382\n",
       "2      petal     -0.984184"
      ]
     },
     "execution_count": 13,
     "metadata": {},
     "output_type": "execute_result"
    }
   ],
   "source": [
    "pd.DataFrame({'features': ['intercept'] + logisticregression_object.feature_names_in_.tolist(),\n",
    "              'coeffitients': [logisticregression_object.intercept_.tolist()[0]] + logisticregression_object.coef_.tolist()[0]})"
   ]
  },
  {
   "cell_type": "markdown",
   "id": "01796aee",
   "metadata": {},
   "source": [
    "Уравнение логистической регрессии:\n",
    "\n",
    "$$\\boxed{log(Odds_{to\\;virginica}) = 2.54 + 0.33 \\cdot Sepal - 1.004 \\cdot Petal}$$\n",
    "\n",
    "- Увеличение размера чашелистика (Sepal) **положительно влияет** на вероятность принадлежности цветка к классу Virginica.\n",
    "\n",
    "- Увеличение размера лепестка (Petal) **отрицательно влияет** на вероятность принадлежности цветка к классу Virginica.\n",
    "\n",
    "**Что можно сказать про силу влияния переменных?**<br>\n",
    "Вроде как коэффициент перед sepal в 3 раза меньше, чем коэффициент перед petal, Но по сути (как мы можем наблюдать из графика), sepal ничего не значит вообще."
   ]
  },
  {
   "cell_type": "markdown",
   "id": "20938bff",
   "metadata": {},
   "source": [
    "### Зачем нужна нормализация"
   ]
  },
  {
   "cell_type": "code",
   "execution_count": 14,
   "id": "74f4a9c7",
   "metadata": {},
   "outputs": [
    {
     "name": "stdout",
     "output_type": "stream",
     "text": [
      "1.0 - Train score\n",
      "1.0 - Test score\n"
     ]
    }
   ],
   "source": [
    "y_train = train['target_0']\n",
    "y_test = test['target_0']\n",
    "\n",
    "logisticregression_object = LogisticRegression()\n",
    "logisticregression_object.fit(X_train_norm, y_train)\n",
    "\n",
    "y_train_score = logisticregression_object.predict_proba(X_train_norm)[:, 1]\n",
    "y_test_score = logisticregression_object.predict_proba(X_test_norm)[:, 1]\n",
    "print(roc_auc_score(y_true = y_train, y_score = y_train_score), '- Train score')\n",
    "print(roc_auc_score(y_true = y_test, y_score = y_test_score), '- Test score')"
   ]
  },
  {
   "cell_type": "code",
   "execution_count": 15,
   "id": "797c7140",
   "metadata": {},
   "outputs": [
    {
     "name": "stderr",
     "output_type": "stream",
     "text": [
      "/home/volodya/.local/lib/python3.10/site-packages/sklearn/base.py:450: UserWarning: X does not have valid feature names, but LogisticRegression was fitted with feature names\n",
      "  warnings.warn(\n",
      "/home/volodya/.local/lib/python3.10/site-packages/sklearn/base.py:450: UserWarning: X does not have valid feature names, but LogisticRegression was fitted with feature names\n",
      "  warnings.warn(\n"
     ]
    },
    {
     "data": {
      "image/png": "[encoded data removed]",
      "text/plain": [
       "<Figure size 432x288 with 2 Axes>"
      ]
     },
     "metadata": {
      "needs_background": "light"
     },
     "output_type": "display_data"
    }
   ],
   "source": [
    "show_devided_surface(X_train_norm, y_train, logisticregression_object, target_column_name = 'target_0')"
   ]
  },
  {
   "cell_type": "code",
   "execution_count": 16,
   "id": "a3e9d87a",
   "metadata": {},
   "outputs": [
    {
     "data": {
      "text/html": [
       "<div>\n",
       "<style scoped>\n",
       "    .dataframe tbody tr th:only-of-type {\n",
       "        vertical-align: middle;\n",
       "    }\n",
       "\n",
       "    .dataframe tbody tr th {\n",
       "        vertical-align: top;\n",
       "    }\n",
       "\n",
       "    .dataframe thead th {\n",
       "        text-align: right;\n",
       "    }\n",
       "</style>\n",
       "<table border=\"1\" class=\"dataframe\">\n",
       "  <thead>\n",
       "    <tr style=\"text-align: right;\">\n",
       "      <th></th>\n",
       "      <th>features</th>\n",
       "      <th>coeffitients</th>\n",
       "    </tr>\n",
       "  </thead>\n",
       "  <tbody>\n",
       "    <tr>\n",
       "      <th>0</th>\n",
       "      <td>intercept</td>\n",
       "      <td>-2.287301</td>\n",
       "    </tr>\n",
       "    <tr>\n",
       "      <th>1</th>\n",
       "      <td>sepal_norm</td>\n",
       "      <td>0.580827</td>\n",
       "    </tr>\n",
       "    <tr>\n",
       "      <th>2</th>\n",
       "      <td>petal_norm</td>\n",
       "      <td>-3.874940</td>\n",
       "    </tr>\n",
       "  </tbody>\n",
       "</table>\n",
       "</div>"
      ],
      "text/plain": [
       "     features  coeffitients\n",
       "0   intercept     -2.287301\n",
       "1  sepal_norm      0.580827\n",
       "2  petal_norm     -3.874940"
      ]
     },
     "execution_count": 16,
     "metadata": {},
     "output_type": "execute_result"
    }
   ],
   "source": [
    "pd.DataFrame({'features': ['intercept'] + logisticregression_object.feature_names_in_.tolist(),\n",
    "              'coeffitients': [logisticregression_object.intercept_.tolist()[0]] + logisticregression_object.coef_.tolist()[0]})"
   ]
  },
  {
   "cell_type": "code",
   "execution_count": 17,
   "id": "f8c09179",
   "metadata": {},
   "outputs": [
    {
     "data": {
      "text/plain": [
       "6.529619063601276"
      ]
     },
     "execution_count": 17,
     "metadata": {},
     "output_type": "execute_result"
    }
   ],
   "source": [
    "3.891/0.5959"
   ]
  },
  {
   "cell_type": "markdown",
   "id": "4ac45e4f",
   "metadata": {},
   "source": [
    "После стандартизации оказалось, что коэффициент перед sepal более чем в 6.5 раз меньше, чем коэффициент перед petal. <br>\n",
    "**После нормализации гораздо более очевидно, что признак sepal почти не влияет на итоговую вероятность!**"
   ]
  },
  {
   "cell_type": "markdown",
   "id": "cbd2cc25",
   "metadata": {},
   "source": [
    "<br><br><br>"
   ]
  },
  {
   "cell_type": "markdown",
   "id": "62ad9cba",
   "metadata": {
    "ExecuteTime": {
     "end_time": "2022-11-06T13:06:30.243983Z",
     "start_time": "2022-11-06T13:06:30.240724Z"
    }
   },
   "source": [
    "## За класс 1 принимаем (versicolor)"
   ]
  },
  {
   "cell_type": "code",
   "execution_count": 18,
   "id": "ebcf2298",
   "metadata": {
    "ExecuteTime": {
     "end_time": "2022-11-06T13:08:37.535380Z",
     "start_time": "2022-11-06T13:08:37.519806Z"
    }
   },
   "outputs": [
    {
     "name": "stdout",
     "output_type": "stream",
     "text": [
      "0.7046875000000001 - Train score\n",
      "0.745 - Test score\n"
     ]
    }
   ],
   "source": [
    "y_train = train['target_1']\n",
    "y_test = test['target_1']\n",
    "\n",
    "logisticregression_object = LogisticRegression()\n",
    "logisticregression_object.fit(X_train, y_train)\n",
    "\n",
    "y_train_score = logisticregression_object.predict_proba(X_train)[:, 1]\n",
    "y_test_score = logisticregression_object.predict_proba(X_test)[:, 1]\n",
    "print(roc_auc_score(y_true = y_train, y_score = y_train_score), '- Train score')\n",
    "print(roc_auc_score(y_true = y_test, y_score = y_test_score), '- Test score')"
   ]
  },
  {
   "cell_type": "code",
   "execution_count": 19,
   "id": "91d249d7",
   "metadata": {
    "ExecuteTime": {
     "end_time": "2022-11-06T13:08:38.489179Z",
     "start_time": "2022-11-06T13:08:37.826139Z"
    },
    "scrolled": false
   },
   "outputs": [
    {
     "name": "stderr",
     "output_type": "stream",
     "text": [
      "/home/volodya/.local/lib/python3.10/site-packages/sklearn/base.py:450: UserWarning: X does not have valid feature names, but LogisticRegression was fitted with feature names\n",
      "  warnings.warn(\n",
      "/home/volodya/.local/lib/python3.10/site-packages/sklearn/base.py:450: UserWarning: X does not have valid feature names, but LogisticRegression was fitted with feature names\n",
      "  warnings.warn(\n"
     ]
    },
    {
     "data": {
      "image/png": "[encoded data removed]",
      "text/plain": [
       "<Figure size 432x288 with 2 Axes>"
      ]
     },
     "metadata": {
      "needs_background": "light"
     },
     "output_type": "display_data"
    }
   ],
   "source": [
    "show_devided_surface(X_train, y_train, logisticregression_object, target_column_name = 'target_1')"
   ]
  },
  {
   "cell_type": "code",
   "execution_count": 20,
   "id": "29aaefbb",
   "metadata": {},
   "outputs": [
    {
     "data": {
      "text/plain": [
       "array([3.47971721])"
      ]
     },
     "execution_count": 20,
     "metadata": {},
     "output_type": "execute_result"
    }
   ],
   "source": [
    "logisticregression_object.intercept_"
   ]
  },
  {
   "cell_type": "code",
   "execution_count": 21,
   "id": "4fc8dd26",
   "metadata": {},
   "outputs": [
    {
     "data": {
      "text/plain": [
       "array([[-0.28564994,  0.0437093 ]])"
      ]
     },
     "execution_count": 21,
     "metadata": {},
     "output_type": "execute_result"
    }
   ],
   "source": [
    "logisticregression_object.coef_"
   ]
  },
  {
   "cell_type": "markdown",
   "id": "ced9cec8",
   "metadata": {},
   "source": [
    "## За класс 1 принимаем (virginica)"
   ]
  },
  {
   "cell_type": "code",
   "execution_count": 22,
   "id": "653a0d55",
   "metadata": {
    "ExecuteTime": {
     "end_time": "2022-11-06T13:09:20.131150Z",
     "start_time": "2022-11-06T13:09:20.097814Z"
    }
   },
   "outputs": [
    {
     "name": "stdout",
     "output_type": "stream",
     "text": [
      "0.9948107448107448 - Train score\n",
      "0.9943181818181819 - Test score\n"
     ]
    }
   ],
   "source": [
    "y_train = train['target_2']\n",
    "y_test = test['target_2']\n",
    "\n",
    "logisticregression_object = LogisticRegression()\n",
    "logisticregression_object.fit(X_train, y_train)\n",
    "\n",
    "y_train_score = logisticregression_object.predict_proba(X_train)[:, 1]\n",
    "y_test_score = logisticregression_object.predict_proba(X_test)[:, 1]\n",
    "print(roc_auc_score(y_true = y_train, y_score = y_train_score), '- Train score')\n",
    "print(roc_auc_score(y_true = y_test, y_score = y_test_score), '- Test score')"
   ]
  },
  {
   "cell_type": "code",
   "execution_count": 23,
   "id": "e27efe0f",
   "metadata": {
    "ExecuteTime": {
     "end_time": "2022-11-06T13:09:21.104867Z",
     "start_time": "2022-11-06T13:09:20.516912Z"
    },
    "scrolled": false
   },
   "outputs": [
    {
     "name": "stderr",
     "output_type": "stream",
     "text": [
      "/home/volodya/.local/lib/python3.10/site-packages/sklearn/base.py:450: UserWarning: X does not have valid feature names, but LogisticRegression was fitted with feature names\n",
      "  warnings.warn(\n",
      "/home/volodya/.local/lib/python3.10/site-packages/sklearn/base.py:450: UserWarning: X does not have valid feature names, but LogisticRegression was fitted with feature names\n",
      "  warnings.warn(\n"
     ]
    },
    {
     "data": {
      "image/png": "[encoded data removed]",
      "text/plain": [
       "<Figure size 432x288 with 2 Axes>"
      ]
     },
     "metadata": {
      "needs_background": "light"
     },
     "output_type": "display_data"
    }
   ],
   "source": [
    "show_devided_surface(X_train, y_train, logisticregression_object, target_column_name = 'target_1')"
   ]
  },
  {
   "cell_type": "code",
   "execution_count": 24,
   "id": "bf028328",
   "metadata": {
    "scrolled": true
   },
   "outputs": [
    {
     "data": {
      "text/plain": [
       "array([-15.04864085])"
      ]
     },
     "execution_count": 24,
     "metadata": {},
     "output_type": "execute_result"
    }
   ],
   "source": [
    "logisticregression_object.intercept_"
   ]
  },
  {
   "cell_type": "code",
   "execution_count": 25,
   "id": "3c1fdad3",
   "metadata": {},
   "outputs": [
    {
     "data": {
      "text/plain": [
       "array([[-0.46795744,  0.98529858]])"
      ]
     },
     "execution_count": 25,
     "metadata": {},
     "output_type": "execute_result"
    }
   ],
   "source": [
    "logisticregression_object.coef_"
   ]
  },
  {
   "cell_type": "code",
   "execution_count": 26,
   "id": "2285a533",
   "metadata": {},
   "outputs": [
    {
     "data": {
      "text/plain": [
       "'/home/volodya/.local/lib/python3.10/site-packages/sklearn/__init__.py'"
      ]
     },
     "execution_count": 26,
     "metadata": {},
     "output_type": "execute_result"
    }
   ],
   "source": [
    "import os\n",
    "import sklearn\n",
    "path = os.path.abspath(sklearn.__file__)\n",
    "path"
   ]
  },
  {
   "cell_type": "markdown",
   "id": "f96a6219",
   "metadata": {},
   "source": [
    "<br><br><br><br><br><br><br>"
   ]
  },
  {
   "cell_type": "markdown",
   "id": "d8198746",
   "metadata": {},
   "source": [
    "# Multinomial output"
   ]
  },
  {
   "cell_type": "markdown",
   "id": "1f9efd57",
   "metadata": {},
   "source": [
    "## OVR"
   ]
  },
  {
   "cell_type": "markdown",
   "id": "2f48699d",
   "metadata": {},
   "source": [
    "Строит несколько бинарных логистических регресссий на каждый класс, как мы это делали в начале главы 4."
   ]
  },
  {
   "cell_type": "code",
   "execution_count": 27,
   "id": "ab6692a8",
   "metadata": {},
   "outputs": [
    {
     "name": "stdout",
     "output_type": "stream",
     "text": [
      "0.4803125 - Train score\n",
      "0.605 - Test score\n"
     ]
    }
   ],
   "source": [
    "y_train = train['target']\n",
    "y_test = test['target']\n",
    "\n",
    "logisticregression_object = LogisticRegression(multi_class='ovr')\n",
    "logisticregression_object.fit(X_train, y_train)\n",
    "\n",
    "y_train_score_1 = logisticregression_object.predict_proba(X_train)[:, 1]\n",
    "y_test_score_1 = logisticregression_object.predict_proba(X_test)[:, 1]\n",
    "print(roc_auc_score(y_true = train['target_1'], y_score = y_train_score), '- Train score')\n",
    "print(roc_auc_score(y_true = test['target_1'], y_score = y_test_score), '- Test score')"
   ]
  },
  {
   "cell_type": "code",
   "execution_count": 28,
   "id": "c39e3d23",
   "metadata": {},
   "outputs": [
    {
     "name": "stderr",
     "output_type": "stream",
     "text": [
      "/home/volodya/.local/lib/python3.10/site-packages/sklearn/base.py:450: UserWarning: X does not have valid feature names, but LogisticRegression was fitted with feature names\n",
      "  warnings.warn(\n",
      "/home/volodya/.local/lib/python3.10/site-packages/sklearn/base.py:450: UserWarning: X does not have valid feature names, but LogisticRegression was fitted with feature names\n",
      "  warnings.warn(\n"
     ]
    },
    {
     "data": {
      "image/png": "[encoded data removed]",
      "text/plain": [
       "<Figure size 432x288 with 2 Axes>"
      ]
     },
     "metadata": {
      "needs_background": "light"
     },
     "output_type": "display_data"
    }
   ],
   "source": [
    "show_devided_surface(X_train, y_train, logisticregression_object, target_column_name = 'target_1')"
   ]
  },
  {
   "cell_type": "code",
   "execution_count": 29,
   "id": "d071c99c",
   "metadata": {},
   "outputs": [
    {
     "data": {
      "text/plain": [
       "array([  2.47688523,   3.47971721, -15.04864085])"
      ]
     },
     "execution_count": 29,
     "metadata": {},
     "output_type": "execute_result"
    }
   ],
   "source": [
    "logisticregression_object.intercept_"
   ]
  },
  {
   "cell_type": "code",
   "execution_count": 30,
   "id": "dcbcd23b",
   "metadata": {},
   "outputs": [
    {
     "data": {
      "text/plain": [
       "array([[ 0.33038228, -0.98418384],\n",
       "       [-0.28564994,  0.0437093 ],\n",
       "       [-0.46795744,  0.98529858]])"
      ]
     },
     "execution_count": 30,
     "metadata": {},
     "output_type": "execute_result"
    }
   ],
   "source": [
    "logisticregression_object.coef_"
   ]
  },
  {
   "cell_type": "markdown",
   "id": "a53646e6",
   "metadata": {},
   "source": [
    "## Softmax"
   ]
  },
  {
   "cell_type": "markdown",
   "id": "73d08af2",
   "metadata": {},
   "source": [
    "Строит логистическую регрессию с мультивыходом."
   ]
  },
  {
   "cell_type": "markdown",
   "id": "e3f6bb2d",
   "metadata": {},
   "source": [
    "**Для множества классов:**\n",
    "\n",
    "$$ \\boxed{L(\\mathbf{w}) = -\\sum_{i = 1}^{l} \\sum_{c = 0}^{N} \\big[ t_c \\ln (p_c) \\big]_{i}\\rightarrow \\underset{\\mathbf{w}}{min}}$$\n",
    "\n",
    "$N$ — количество классов <br>\n",
    "$l$ — количество наблюдений <br>\n",
    "$[t_c]_i$ — принадлежит ли $i$ наблюдение c-му классу (1 - да, 0 - нет) <br>\n",
    "$[p_c]_i$ — вероятность того, что $i$ наблюдение принадлежит c-му классу <br>"
   ]
  },
  {
   "cell_type": "markdown",
   "id": "0358fbdb",
   "metadata": {},
   "source": [
    "$p_c = SM_{с}\\big(\\vec{y}\\big)$ — результат работы SoftMax (вероятность) <br>\n",
    "\n",
    "$$p_c = SM_{c}\\big(\\overrightarrow{logits}\\big) = \\frac{e^{logits_c}}{\\sum\\limits_{j}^{N}e^{logits_j}}$$\n",
    "\n",
    "$N$ — количество классов <br>\n",
    "$\\vec{y}$ — вектор линейных выходов на последнем слое <br>\n",
    "$t_c$ — таргетное значение для класса c <br>"
   ]
  },
  {
   "cell_type": "markdown",
   "id": "4ea3e9b8",
   "metadata": {},
   "source": [
    "**Важно!**<br>\n",
    "1. [Можно показать](https://stats.stackexchange.com/questions/87248/is-binary-logistic-regression-a-special-case-of-multinomial-logistic-regression), что обычная логистическая регрессия — частный случай мультикласс-логистической регрессии.\n",
    "\n",
    "2. [Можно показать](https://chrisyeh96.github.io/2018/06/11/logistic-regression.html), что, обучив мультикласс-логистическую регрессию на бинарных данных мы можем найти, какие были бы веса при обучении обычной логистической регрессии на этих данных: \n",
    "\n",
    "$$W_{simple \\; logistic} = W_1 - W_2$$ $$b_{simple \\; logistic} = b_1 - b_2$$\n",
    "\n",
    "где:<br>\n",
    "$W_1, W_2$ — веса, идущие к 1 и 2 классам соответственно <br>\n",
    "$b_1, b_2$ — смещения, идущие к 1 и 2 классам соответственно \n",
    "\n",
    "3. Так же, поскольку, вероятности на выходе какого-то примера в сумме должны давать 1, можно показать, что $W_1 = -W_2$, $b_1 = -b_2$\n",
    "\n",
    "$$p_{+} = \\frac{1}{1+e^{- W_1 x}}$$\n",
    "\n",
    "$$p_{-} = \\frac{1}{1+e^{- W_2 x}}$$\n",
    "\n",
    "К сожалению, в `sklearn` нельзя запустить мультикласс-логистическую регрессию для бинарной классификации, чтобы продемонстрировать этот чудесный факт :("
   ]
  },
  {
   "cell_type": "code",
   "execution_count": 31,
   "id": "cbe4d7c9",
   "metadata": {},
   "outputs": [
    {
     "name": "stdout",
     "output_type": "stream",
     "text": [
      "0.4803125 - Train score\n",
      "0.605 - Test score\n"
     ]
    }
   ],
   "source": [
    "y_train = train['target_1']\n",
    "y_test = test['target_1']\n",
    "\n",
    "logisticregression_object = LogisticRegression(multi_class='multinomial', penalty='none')\n",
    "logisticregression_object.fit(X_train, y_train)\n",
    "\n",
    "y_train_score_1 = logisticregression_object.predict_proba(X_train)[:, 1]\n",
    "y_test_score_1 = logisticregression_object.predict_proba(X_test)[:, 1]\n",
    "print(roc_auc_score(y_true = train['target_1'], y_score = y_train_score), '- Train score')\n",
    "print(roc_auc_score(y_true = test['target_1'], y_score = y_test_score), '- Test score')"
   ]
  },
  {
   "cell_type": "code",
   "execution_count": 32,
   "id": "5657a218",
   "metadata": {},
   "outputs": [
    {
     "name": "stderr",
     "output_type": "stream",
     "text": [
      "/home/volodya/.local/lib/python3.10/site-packages/sklearn/base.py:450: UserWarning: X does not have valid feature names, but LogisticRegression was fitted with feature names\n",
      "  warnings.warn(\n",
      "/home/volodya/.local/lib/python3.10/site-packages/sklearn/base.py:450: UserWarning: X does not have valid feature names, but LogisticRegression was fitted with feature names\n",
      "  warnings.warn(\n"
     ]
    },
    {
     "data": {
      "image/png": "[encoded data removed]",
      "text/plain": [
       "<Figure size 432x288 with 2 Axes>"
      ]
     },
     "metadata": {
      "needs_background": "light"
     },
     "output_type": "display_data"
    }
   ],
   "source": [
    "show_devided_surface(X_train, y_train, logisticregression_object, 'target_1')"
   ]
  },
  {
   "cell_type": "code",
   "execution_count": 33,
   "id": "a05c5abe",
   "metadata": {},
   "outputs": [
    {
     "data": {
      "text/html": [
       "<style>#sk-container-id-1 {color: black;background-color: white;}#sk-container-id-1 pre{padding: 0;}#sk-container-id-1 div.sk-toggleable {background-color: white;}#sk-container-id-1 label.sk-toggleable__label {cursor: pointer;display: block;width: 100%;margin-bottom: 0;padding: 0.3em;box-sizing: border-box;text-align: center;}#sk-container-id-1 label.sk-toggleable__label-arrow:before {content: \"▸\";float: left;margin-right: 0.25em;color: #696969;}#sk-container-id-1 label.sk-toggleable__label-arrow:hover:before {color: black;}#sk-container-id-1 div.sk-estimator:hover label.sk-toggleable__label-arrow:before {color: black;}#sk-container-id-1 div.sk-toggleable__content {max-height: 0;max-width: 0;overflow: hidden;text-align: left;background-color: #f0f8ff;}#sk-container-id-1 div.sk-toggleable__content pre {margin: 0.2em;color: black;border-radius: 0.25em;background-color: #f0f8ff;}#sk-container-id-1 input.sk-toggleable__control:checked~div.sk-toggleable__content {max-height: 200px;max-width: 100%;overflow: auto;}#sk-container-id-1 input.sk-toggleable__control:checked~label.sk-toggleable__label-arrow:before {content: \"▾\";}#sk-container-id-1 div.sk-estimator input.sk-toggleable__control:checked~label.sk-toggleable__label {background-color: #d4ebff;}#sk-container-id-1 div.sk-label input.sk-toggleable__control:checked~label.sk-toggleable__label {background-color: #d4ebff;}#sk-container-id-1 input.sk-hidden--visually {border: 0;clip: rect(1px 1px 1px 1px);clip: rect(1px, 1px, 1px, 1px);height: 1px;margin: -1px;overflow: hidden;padding: 0;position: absolute;width: 1px;}#sk-container-id-1 div.sk-estimator {font-family: monospace;background-color: #f0f8ff;border: 1px dotted black;border-radius: 0.25em;box-sizing: border-box;margin-bottom: 0.5em;}#sk-container-id-1 div.sk-estimator:hover {background-color: #d4ebff;}#sk-container-id-1 div.sk-parallel-item::after {content: \"\";width: 100%;border-bottom: 1px solid gray;flex-grow: 1;}#sk-container-id-1 div.sk-label:hover label.sk-toggleable__label {background-color: #d4ebff;}#sk-container-id-1 div.sk-serial::before {content: \"\";position: absolute;border-left: 1px solid gray;box-sizing: border-box;top: 0;bottom: 0;left: 50%;z-index: 0;}#sk-container-id-1 div.sk-serial {display: flex;flex-direction: column;align-items: center;background-color: white;padding-right: 0.2em;padding-left: 0.2em;position: relative;}#sk-container-id-1 div.sk-item {position: relative;z-index: 1;}#sk-container-id-1 div.sk-parallel {display: flex;align-items: stretch;justify-content: center;background-color: white;position: relative;}#sk-container-id-1 div.sk-item::before, #sk-container-id-1 div.sk-parallel-item::before {content: \"\";position: absolute;border-left: 1px solid gray;box-sizing: border-box;top: 0;bottom: 0;left: 50%;z-index: -1;}#sk-container-id-1 div.sk-parallel-item {display: flex;flex-direction: column;z-index: 1;position: relative;background-color: white;}#sk-container-id-1 div.sk-parallel-item:first-child::after {align-self: flex-end;width: 50%;}#sk-container-id-1 div.sk-parallel-item:last-child::after {align-self: flex-start;width: 50%;}#sk-container-id-1 div.sk-parallel-item:only-child::after {width: 0;}#sk-container-id-1 div.sk-dashed-wrapped {border: 1px dashed gray;margin: 0 0.4em 0.5em 0.4em;box-sizing: border-box;padding-bottom: 0.4em;background-color: white;}#sk-container-id-1 div.sk-label label {font-family: monospace;font-weight: bold;display: inline-block;line-height: 1.2em;}#sk-container-id-1 div.sk-label-container {text-align: center;}#sk-container-id-1 div.sk-container {/* jupyter's `normalize.less` sets `[hidden] { display: none; }` but bootstrap.min.css set `[hidden] { display: none !important; }` so we also need the `!important` here to be able to override the default hidden behavior on the sphinx rendered scikit-learn.org. See: https://github.com/scikit-learn/scikit-learn/issues/21755 */display: inline-block !important;position: relative;}#sk-container-id-1 div.sk-text-repr-fallback {display: none;}</style><div id=\"sk-container-id-1\" class=\"sk-top-container\"><div class=\"sk-text-repr-fallback\"><pre>LogisticRegression(multi_class=&#x27;multinomial&#x27;, penalty=&#x27;none&#x27;)</pre><b>In a Jupyter environment, please rerun this cell to show the HTML representation or trust the notebook. <br />On GitHub, the HTML representation is unable to render, please try loading this page with nbviewer.org.</b></div><div class=\"sk-container\" hidden><div class=\"sk-item\"><div class=\"sk-estimator sk-toggleable\"><input class=\"sk-toggleable__control sk-hidden--visually\" id=\"sk-estimator-id-1\" type=\"checkbox\" checked><label for=\"sk-estimator-id-1\" class=\"sk-toggleable__label sk-toggleable__label-arrow\">LogisticRegression</label><div class=\"sk-toggleable__content\"><pre>LogisticRegression(multi_class=&#x27;multinomial&#x27;, penalty=&#x27;none&#x27;)</pre></div></div></div></div></div>"
      ],
      "text/plain": [
       "LogisticRegression(multi_class='multinomial', penalty='none')"
      ]
     },
     "execution_count": 33,
     "metadata": {},
     "output_type": "execute_result"
    }
   ],
   "source": [
    "logisticregression_object"
   ]
  },
  {
   "cell_type": "code",
   "execution_count": 34,
   "id": "41622a7d",
   "metadata": {
    "scrolled": true
   },
   "outputs": [
    {
     "data": {
      "text/plain": [
       "array([-1.75404758,  1.75404758])"
      ]
     },
     "execution_count": 34,
     "metadata": {},
     "output_type": "execute_result"
    }
   ],
   "source": [
    "logisticregression_object.intercept_"
   ]
  },
  {
   "cell_type": "code",
   "execution_count": 35,
   "id": "7908735a",
   "metadata": {
    "scrolled": false
   },
   "outputs": [
    {
     "data": {
      "text/plain": [
       "array([[ 0.14380798, -0.02199643],\n",
       "       [-0.14380798,  0.02199643]])"
      ]
     },
     "execution_count": 35,
     "metadata": {},
     "output_type": "execute_result"
    }
   ],
   "source": [
    "logisticregression_object.coef_"
   ]
  },
  {
   "cell_type": "markdown",
   "id": "f430f148",
   "metadata": {},
   "source": [
    "# MLPClassifier"
   ]
  },
  {
   "cell_type": "code",
   "execution_count": 36,
   "id": "2fd92585",
   "metadata": {},
   "outputs": [
    {
     "data": {
      "text/html": [
       "<style>#sk-container-id-2 {color: black;background-color: white;}#sk-container-id-2 pre{padding: 0;}#sk-container-id-2 div.sk-toggleable {background-color: white;}#sk-container-id-2 label.sk-toggleable__label {cursor: pointer;display: block;width: 100%;margin-bottom: 0;padding: 0.3em;box-sizing: border-box;text-align: center;}#sk-container-id-2 label.sk-toggleable__label-arrow:before {content: \"▸\";float: left;margin-right: 0.25em;color: #696969;}#sk-container-id-2 label.sk-toggleable__label-arrow:hover:before {color: black;}#sk-container-id-2 div.sk-estimator:hover label.sk-toggleable__label-arrow:before {color: black;}#sk-container-id-2 div.sk-toggleable__content {max-height: 0;max-width: 0;overflow: hidden;text-align: left;background-color: #f0f8ff;}#sk-container-id-2 div.sk-toggleable__content pre {margin: 0.2em;color: black;border-radius: 0.25em;background-color: #f0f8ff;}#sk-container-id-2 input.sk-toggleable__control:checked~div.sk-toggleable__content {max-height: 200px;max-width: 100%;overflow: auto;}#sk-container-id-2 input.sk-toggleable__control:checked~label.sk-toggleable__label-arrow:before {content: \"▾\";}#sk-container-id-2 div.sk-estimator input.sk-toggleable__control:checked~label.sk-toggleable__label {background-color: #d4ebff;}#sk-container-id-2 div.sk-label input.sk-toggleable__control:checked~label.sk-toggleable__label {background-color: #d4ebff;}#sk-container-id-2 input.sk-hidden--visually {border: 0;clip: rect(1px 1px 1px 1px);clip: rect(1px, 1px, 1px, 1px);height: 1px;margin: -1px;overflow: hidden;padding: 0;position: absolute;width: 1px;}#sk-container-id-2 div.sk-estimator {font-family: monospace;background-color: #f0f8ff;border: 1px dotted black;border-radius: 0.25em;box-sizing: border-box;margin-bottom: 0.5em;}#sk-container-id-2 div.sk-estimator:hover {background-color: #d4ebff;}#sk-container-id-2 div.sk-parallel-item::after {content: \"\";width: 100%;border-bottom: 1px solid gray;flex-grow: 1;}#sk-container-id-2 div.sk-label:hover label.sk-toggleable__label {background-color: #d4ebff;}#sk-container-id-2 div.sk-serial::before {content: \"\";position: absolute;border-left: 1px solid gray;box-sizing: border-box;top: 0;bottom: 0;left: 50%;z-index: 0;}#sk-container-id-2 div.sk-serial {display: flex;flex-direction: column;align-items: center;background-color: white;padding-right: 0.2em;padding-left: 0.2em;position: relative;}#sk-container-id-2 div.sk-item {position: relative;z-index: 1;}#sk-container-id-2 div.sk-parallel {display: flex;align-items: stretch;justify-content: center;background-color: white;position: relative;}#sk-container-id-2 div.sk-item::before, #sk-container-id-2 div.sk-parallel-item::before {content: \"\";position: absolute;border-left: 1px solid gray;box-sizing: border-box;top: 0;bottom: 0;left: 50%;z-index: -1;}#sk-container-id-2 div.sk-parallel-item {display: flex;flex-direction: column;z-index: 1;position: relative;background-color: white;}#sk-container-id-2 div.sk-parallel-item:first-child::after {align-self: flex-end;width: 50%;}#sk-container-id-2 div.sk-parallel-item:last-child::after {align-self: flex-start;width: 50%;}#sk-container-id-2 div.sk-parallel-item:only-child::after {width: 0;}#sk-container-id-2 div.sk-dashed-wrapped {border: 1px dashed gray;margin: 0 0.4em 0.5em 0.4em;box-sizing: border-box;padding-bottom: 0.4em;background-color: white;}#sk-container-id-2 div.sk-label label {font-family: monospace;font-weight: bold;display: inline-block;line-height: 1.2em;}#sk-container-id-2 div.sk-label-container {text-align: center;}#sk-container-id-2 div.sk-container {/* jupyter's `normalize.less` sets `[hidden] { display: none; }` but bootstrap.min.css set `[hidden] { display: none !important; }` so we also need the `!important` here to be able to override the default hidden behavior on the sphinx rendered scikit-learn.org. See: https://github.com/scikit-learn/scikit-learn/issues/21755 */display: inline-block !important;position: relative;}#sk-container-id-2 div.sk-text-repr-fallback {display: none;}</style><div id=\"sk-container-id-2\" class=\"sk-top-container\"><div class=\"sk-text-repr-fallback\"><pre>MLPClassifier(activation=&#x27;logistic&#x27;, alpha=0, hidden_layer_sizes=(),\n",
       "              max_iter=2000, random_state=42, solver=&#x27;lbfgs&#x27;, tol=0)</pre><b>In a Jupyter environment, please rerun this cell to show the HTML representation or trust the notebook. <br />On GitHub, the HTML representation is unable to render, please try loading this page with nbviewer.org.</b></div><div class=\"sk-container\" hidden><div class=\"sk-item\"><div class=\"sk-estimator sk-toggleable\"><input class=\"sk-toggleable__control sk-hidden--visually\" id=\"sk-estimator-id-2\" type=\"checkbox\" checked><label for=\"sk-estimator-id-2\" class=\"sk-toggleable__label sk-toggleable__label-arrow\">MLPClassifier</label><div class=\"sk-toggleable__content\"><pre>MLPClassifier(activation=&#x27;logistic&#x27;, alpha=0, hidden_layer_sizes=(),\n",
       "              max_iter=2000, random_state=42, solver=&#x27;lbfgs&#x27;, tol=0)</pre></div></div></div></div></div>"
      ],
      "text/plain": [
       "MLPClassifier(activation='logistic', alpha=0, hidden_layer_sizes=(),\n",
       "              max_iter=2000, random_state=42, solver='lbfgs', tol=0)"
      ]
     },
     "execution_count": 36,
     "metadata": {},
     "output_type": "execute_result"
    }
   ],
   "source": [
    "y_train = train['target_1']\n",
    "y_test = test['target_1']\n",
    "mlp = MLPClassifier(hidden_layer_sizes=(),  max_iter=2000, alpha = 0, \n",
    "                    activation='logistic', solver='lbfgs', tol=0, random_state=42)\n",
    "mlp.fit(X_train, y_train)"
   ]
  },
  {
   "cell_type": "code",
   "execution_count": 37,
   "id": "47d90c2e",
   "metadata": {},
   "outputs": [
    {
     "data": {
      "text/plain": [
       "[array([[-0.28761592],\n",
       "        [ 0.04399287]])]"
      ]
     },
     "execution_count": 37,
     "metadata": {},
     "output_type": "execute_result"
    }
   ],
   "source": [
    "mlp.coefs_"
   ]
  },
  {
   "cell_type": "code",
   "execution_count": 38,
   "id": "6d440bcc",
   "metadata": {},
   "outputs": [
    {
     "data": {
      "text/plain": [
       "[array([3.50809443])]"
      ]
     },
     "execution_count": 38,
     "metadata": {},
     "output_type": "execute_result"
    }
   ],
   "source": [
    "mlp.intercepts_"
   ]
  },
  {
   "cell_type": "code",
   "execution_count": 39,
   "id": "f03c37a3",
   "metadata": {},
   "outputs": [
    {
     "name": "stdout",
     "output_type": "stream",
     "text": [
      "0.4803125 - Train score\n",
      "0.605 - Test score\n"
     ]
    }
   ],
   "source": [
    "y_train_score_1 = mlp.predict_proba(X_train)[:, 1]\n",
    "y_test_score_1 = mlp.predict_proba(X_test)[:, 1]\n",
    "print(roc_auc_score(y_true = train['target_1'], y_score = y_train_score), '- Train score')\n",
    "print(roc_auc_score(y_true = test['target_1'], y_score = y_test_score), '- Test score')"
   ]
  },
  {
   "cell_type": "markdown",
   "id": "caab8295",
   "metadata": {},
   "source": [
    "https://stackoverflow.com/questions/68136462/why-dont-logisticregression-and-mlpclassifier-produce-the-same-results"
   ]
  },
  {
   "cell_type": "markdown",
   "id": "d117812c",
   "metadata": {},
   "source": [
    "## Визуализация для мульти-класс результата"
   ]
  },
  {
   "cell_type": "code",
   "execution_count": 40,
   "id": "da229bde",
   "metadata": {},
   "outputs": [
    {
     "data": {
      "text/html": [
       "<style>#sk-container-id-3 {color: black;background-color: white;}#sk-container-id-3 pre{padding: 0;}#sk-container-id-3 div.sk-toggleable {background-color: white;}#sk-container-id-3 label.sk-toggleable__label {cursor: pointer;display: block;width: 100%;margin-bottom: 0;padding: 0.3em;box-sizing: border-box;text-align: center;}#sk-container-id-3 label.sk-toggleable__label-arrow:before {content: \"▸\";float: left;margin-right: 0.25em;color: #696969;}#sk-container-id-3 label.sk-toggleable__label-arrow:hover:before {color: black;}#sk-container-id-3 div.sk-estimator:hover label.sk-toggleable__label-arrow:before {color: black;}#sk-container-id-3 div.sk-toggleable__content {max-height: 0;max-width: 0;overflow: hidden;text-align: left;background-color: #f0f8ff;}#sk-container-id-3 div.sk-toggleable__content pre {margin: 0.2em;color: black;border-radius: 0.25em;background-color: #f0f8ff;}#sk-container-id-3 input.sk-toggleable__control:checked~div.sk-toggleable__content {max-height: 200px;max-width: 100%;overflow: auto;}#sk-container-id-3 input.sk-toggleable__control:checked~label.sk-toggleable__label-arrow:before {content: \"▾\";}#sk-container-id-3 div.sk-estimator input.sk-toggleable__control:checked~label.sk-toggleable__label {background-color: #d4ebff;}#sk-container-id-3 div.sk-label input.sk-toggleable__control:checked~label.sk-toggleable__label {background-color: #d4ebff;}#sk-container-id-3 input.sk-hidden--visually {border: 0;clip: rect(1px 1px 1px 1px);clip: rect(1px, 1px, 1px, 1px);height: 1px;margin: -1px;overflow: hidden;padding: 0;position: absolute;width: 1px;}#sk-container-id-3 div.sk-estimator {font-family: monospace;background-color: #f0f8ff;border: 1px dotted black;border-radius: 0.25em;box-sizing: border-box;margin-bottom: 0.5em;}#sk-container-id-3 div.sk-estimator:hover {background-color: #d4ebff;}#sk-container-id-3 div.sk-parallel-item::after {content: \"\";width: 100%;border-bottom: 1px solid gray;flex-grow: 1;}#sk-container-id-3 div.sk-label:hover label.sk-toggleable__label {background-color: #d4ebff;}#sk-container-id-3 div.sk-serial::before {content: \"\";position: absolute;border-left: 1px solid gray;box-sizing: border-box;top: 0;bottom: 0;left: 50%;z-index: 0;}#sk-container-id-3 div.sk-serial {display: flex;flex-direction: column;align-items: center;background-color: white;padding-right: 0.2em;padding-left: 0.2em;position: relative;}#sk-container-id-3 div.sk-item {position: relative;z-index: 1;}#sk-container-id-3 div.sk-parallel {display: flex;align-items: stretch;justify-content: center;background-color: white;position: relative;}#sk-container-id-3 div.sk-item::before, #sk-container-id-3 div.sk-parallel-item::before {content: \"\";position: absolute;border-left: 1px solid gray;box-sizing: border-box;top: 0;bottom: 0;left: 50%;z-index: -1;}#sk-container-id-3 div.sk-parallel-item {display: flex;flex-direction: column;z-index: 1;position: relative;background-color: white;}#sk-container-id-3 div.sk-parallel-item:first-child::after {align-self: flex-end;width: 50%;}#sk-container-id-3 div.sk-parallel-item:last-child::after {align-self: flex-start;width: 50%;}#sk-container-id-3 div.sk-parallel-item:only-child::after {width: 0;}#sk-container-id-3 div.sk-dashed-wrapped {border: 1px dashed gray;margin: 0 0.4em 0.5em 0.4em;box-sizing: border-box;padding-bottom: 0.4em;background-color: white;}#sk-container-id-3 div.sk-label label {font-family: monospace;font-weight: bold;display: inline-block;line-height: 1.2em;}#sk-container-id-3 div.sk-label-container {text-align: center;}#sk-container-id-3 div.sk-container {/* jupyter's `normalize.less` sets `[hidden] { display: none; }` but bootstrap.min.css set `[hidden] { display: none !important; }` so we also need the `!important` here to be able to override the default hidden behavior on the sphinx rendered scikit-learn.org. See: https://github.com/scikit-learn/scikit-learn/issues/21755 */display: inline-block !important;position: relative;}#sk-container-id-3 div.sk-text-repr-fallback {display: none;}</style><div id=\"sk-container-id-3\" class=\"sk-top-container\"><div class=\"sk-text-repr-fallback\"><pre>MLPClassifier()</pre><b>In a Jupyter environment, please rerun this cell to show the HTML representation or trust the notebook. <br />On GitHub, the HTML representation is unable to render, please try loading this page with nbviewer.org.</b></div><div class=\"sk-container\" hidden><div class=\"sk-item\"><div class=\"sk-estimator sk-toggleable\"><input class=\"sk-toggleable__control sk-hidden--visually\" id=\"sk-estimator-id-3\" type=\"checkbox\" checked><label for=\"sk-estimator-id-3\" class=\"sk-toggleable__label sk-toggleable__label-arrow\">MLPClassifier</label><div class=\"sk-toggleable__content\"><pre>MLPClassifier()</pre></div></div></div></div></div>"
      ],
      "text/plain": [
       "MLPClassifier()"
      ]
     },
     "execution_count": 40,
     "metadata": {},
     "output_type": "execute_result"
    }
   ],
   "source": [
    "MLPClassifier()"
   ]
  },
  {
   "cell_type": "code",
   "execution_count": 41,
   "id": "e4ee4eeb",
   "metadata": {},
   "outputs": [],
   "source": [
    "# from sklearn.datasets import load_iris\n",
    "# load_iris = load_iris()\n",
    "# data  = pd.DataFrame(data = load_iris.data, columns = load_iris.feature_names)\n",
    "# data['target'] = load_iris.target\n",
    "\n",
    "# from sklearn.linear_model import LogisticRegression\n",
    "# logistic_regression_objects.fit()"
   ]
  },
  {
   "cell_type": "code",
   "execution_count": null,
   "id": "d42e7cba",
   "metadata": {},
   "outputs": [],
   "source": []
  }
 ],
 "metadata": {
  "kernelspec": {
   "display_name": "Python 3 (ipykernel)",
   "language": "python",
   "name": "python3"
  },
  "language_info": {
   "codemirror_mode": {
    "name": "ipython",
    "version": 3
   },
   "file_extension": ".py",
   "mimetype": "text/x-python",
   "name": "python",
   "nbconvert_exporter": "python",
   "pygments_lexer": "ipython3",
   "version": "3.10.6"
  },
  "toc": {
   "base_numbering": 1,
   "nav_menu": {},
   "number_sections": true,
   "sideBar": true,
   "skip_h1_title": false,
   "title_cell": "Table of Contents",
   "title_sidebar": "Contents",
   "toc_cell": false,
   "toc_position": {},
   "toc_section_display": true,
   "toc_window_display": true
  },
  "varInspector": {
   "cols": {
    "lenName": 16,
    "lenType": 16,
    "lenVar": 40
   },
   "kernels_config": {
    "python": {
     "delete_cmd_postfix": "",
     "delete_cmd_prefix": "del ",
     "library": "var_list.py",
     "varRefreshCmd": "print(var_dic_list())"
    },
    "r": {
     "delete_cmd_postfix": ") ",
     "delete_cmd_prefix": "rm(",
     "library": "var_list.r",
     "varRefreshCmd": "cat(var_dic_list()) "
    }
   },
   "types_to_exclude": [
    "module",
    "function",
    "builtin_function_or_method",
    "instance",
    "_Feature"
   ],
   "window_display": false
  }
 },
 "nbformat": 4,
 "nbformat_minor": 5
}
