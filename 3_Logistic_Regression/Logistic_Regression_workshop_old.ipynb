{
 "cells": [
  {
   "cell_type": "markdown",
   "metadata": {},
   "source": [
    "Data for response status of subjects in clinical trials. There are 5 variables in the datasets:\n",
    "\n",
    "- SITEID and SUBJID – variables  that identifies subject <br>\n",
    "  SITEID $-$ Study Site Identifier. A facility in which study/protocol activities are conducted. <br>\n",
    "  SUBJID $-$ Subject Identifier. An identifier for a person who is the subject in a study.\n",
    "- TRTPN – treatment code (1 or 2)\n",
    "- Response Category – best response achieved by subject as a result of treatment exposure: <br>\n",
    "    **CR** – Complete Response <br>\n",
    "    **PR** – Partial Response <br>\n",
    "    SD – Stable Disease <br>\n",
    "    PD – Progressive Disease <br> \n",
    "    NE – Not Evaluable <br>\n",
    "    Subjects are considered as having response to treatment if they have CR or PR and non-responders in all other cases for analysis purpose.\n",
    "\n",
    "- Gender – Gender of the subject"
   ]
  },
  {
   "cell_type": "code",
   "execution_count": 57,
   "metadata": {},
   "outputs": [],
   "source": [
    "import pandas as pd\n",
    "import numpy as np\n",
    "\n",
    "import pandas as pd\n",
    "import matplotlib.pyplot as plt\n",
    "import seaborn as sns\n",
    "\n",
    "from sklearn.metrics import roc_auc_score, accuracy_score\n",
    "from sklearn.linear_model import LogisticRegression\n",
    "\n",
    "pd.options.mode.chained_assignment = None"
   ]
  },
  {
   "cell_type": "markdown",
   "metadata": {},
   "source": [
    "# Data preprocessing"
   ]
  },
  {
   "cell_type": "code",
   "execution_count": 39,
   "metadata": {},
   "outputs": [
    {
     "data": {
      "text/html": [
       "<div>\n",
       "<style scoped>\n",
       "    .dataframe tbody tr th:only-of-type {\n",
       "        vertical-align: middle;\n",
       "    }\n",
       "\n",
       "    .dataframe tbody tr th {\n",
       "        vertical-align: top;\n",
       "    }\n",
       "\n",
       "    .dataframe thead th {\n",
       "        text-align: right;\n",
       "    }\n",
       "</style>\n",
       "<table border=\"1\" class=\"dataframe\">\n",
       "  <thead>\n",
       "    <tr style=\"text-align: right;\">\n",
       "      <th></th>\n",
       "      <th>gender</th>\n",
       "      <th>SITEID</th>\n",
       "      <th>SUBJID</th>\n",
       "      <th>TRTPN</th>\n",
       "      <th>responseCategory</th>\n",
       "    </tr>\n",
       "  </thead>\n",
       "  <tbody>\n",
       "    <tr>\n",
       "      <th>0</th>\n",
       "      <td>MALE</td>\n",
       "      <td>1</td>\n",
       "      <td>27</td>\n",
       "      <td>2</td>\n",
       "      <td>SD</td>\n",
       "    </tr>\n",
       "    <tr>\n",
       "      <th>1</th>\n",
       "      <td>FEMALE</td>\n",
       "      <td>1</td>\n",
       "      <td>39</td>\n",
       "      <td>1</td>\n",
       "      <td>PD</td>\n",
       "    </tr>\n",
       "    <tr>\n",
       "      <th>2</th>\n",
       "      <td>MALE</td>\n",
       "      <td>1</td>\n",
       "      <td>126</td>\n",
       "      <td>2</td>\n",
       "      <td>PD</td>\n",
       "    </tr>\n",
       "    <tr>\n",
       "      <th>3</th>\n",
       "      <td>MALE</td>\n",
       "      <td>1</td>\n",
       "      <td>154</td>\n",
       "      <td>1</td>\n",
       "      <td>SD</td>\n",
       "    </tr>\n",
       "    <tr>\n",
       "      <th>4</th>\n",
       "      <td>FEMALE</td>\n",
       "      <td>1</td>\n",
       "      <td>161</td>\n",
       "      <td>1</td>\n",
       "      <td>PD</td>\n",
       "    </tr>\n",
       "    <tr>\n",
       "      <th>...</th>\n",
       "      <td>...</td>\n",
       "      <td>...</td>\n",
       "      <td>...</td>\n",
       "      <td>...</td>\n",
       "      <td>...</td>\n",
       "    </tr>\n",
       "    <tr>\n",
       "      <th>577</th>\n",
       "      <td>FEMALE</td>\n",
       "      <td>97</td>\n",
       "      <td>758</td>\n",
       "      <td>2</td>\n",
       "      <td>SD</td>\n",
       "    </tr>\n",
       "    <tr>\n",
       "      <th>578</th>\n",
       "      <td>FEMALE</td>\n",
       "      <td>98</td>\n",
       "      <td>293</td>\n",
       "      <td>2</td>\n",
       "      <td>SD</td>\n",
       "    </tr>\n",
       "    <tr>\n",
       "      <th>579</th>\n",
       "      <td>MALE</td>\n",
       "      <td>99</td>\n",
       "      <td>176</td>\n",
       "      <td>2</td>\n",
       "      <td>SD</td>\n",
       "    </tr>\n",
       "    <tr>\n",
       "      <th>580</th>\n",
       "      <td>MALE</td>\n",
       "      <td>99</td>\n",
       "      <td>564</td>\n",
       "      <td>2</td>\n",
       "      <td>PR</td>\n",
       "    </tr>\n",
       "    <tr>\n",
       "      <th>581</th>\n",
       "      <td>MALE</td>\n",
       "      <td>99</td>\n",
       "      <td>723</td>\n",
       "      <td>1</td>\n",
       "      <td>NE</td>\n",
       "    </tr>\n",
       "  </tbody>\n",
       "</table>\n",
       "<p>582 rows × 5 columns</p>\n",
       "</div>"
      ],
      "text/plain": [
       "     gender  SITEID  SUBJID  TRTPN responseCategory\n",
       "0      MALE       1      27      2               SD\n",
       "1    FEMALE       1      39      1               PD\n",
       "2      MALE       1     126      2               PD\n",
       "3      MALE       1     154      1               SD\n",
       "4    FEMALE       1     161      1               PD\n",
       "..      ...     ...     ...    ...              ...\n",
       "577  FEMALE      97     758      2               SD\n",
       "578  FEMALE      98     293      2               SD\n",
       "579    MALE      99     176      2               SD\n",
       "580    MALE      99     564      2               PR\n",
       "581    MALE      99     723      1               NE\n",
       "\n",
       "[582 rows x 5 columns]"
      ]
     },
     "execution_count": 39,
     "metadata": {},
     "output_type": "execute_result"
    }
   ],
   "source": [
    "treatment = pd.read_csv('treatment.csv', sep = '@')\n",
    "treatment"
   ]
  },
  {
   "cell_type": "code",
   "execution_count": 40,
   "metadata": {
    "scrolled": true
   },
   "outputs": [
    {
     "data": {
      "text/plain": [
       "PD    214\n",
       "SD    196\n",
       "PR     87\n",
       "NE     80\n",
       "CR      5\n",
       "Name: responseCategory, dtype: int64"
      ]
     },
     "execution_count": 40,
     "metadata": {},
     "output_type": "execute_result"
    }
   ],
   "source": [
    "treatment['responseCategory'].value_counts(dropna=False)"
   ]
  },
  {
   "cell_type": "code",
   "execution_count": 41,
   "metadata": {},
   "outputs": [
    {
     "data": {
      "text/html": [
       "<div>\n",
       "<style scoped>\n",
       "    .dataframe tbody tr th:only-of-type {\n",
       "        vertical-align: middle;\n",
       "    }\n",
       "\n",
       "    .dataframe tbody tr th {\n",
       "        vertical-align: top;\n",
       "    }\n",
       "\n",
       "    .dataframe thead th {\n",
       "        text-align: right;\n",
       "    }\n",
       "</style>\n",
       "<table border=\"1\" class=\"dataframe\">\n",
       "  <thead>\n",
       "    <tr style=\"text-align: right;\">\n",
       "      <th></th>\n",
       "      <th>responseCategory</th>\n",
       "      <th>is_response</th>\n",
       "      <th>is_female</th>\n",
       "      <th>is_treatment_1</th>\n",
       "    </tr>\n",
       "  </thead>\n",
       "  <tbody>\n",
       "    <tr>\n",
       "      <th>0</th>\n",
       "      <td>SD</td>\n",
       "      <td>0.0</td>\n",
       "      <td>0</td>\n",
       "      <td>0</td>\n",
       "    </tr>\n",
       "    <tr>\n",
       "      <th>1</th>\n",
       "      <td>PD</td>\n",
       "      <td>0.0</td>\n",
       "      <td>1</td>\n",
       "      <td>1</td>\n",
       "    </tr>\n",
       "    <tr>\n",
       "      <th>2</th>\n",
       "      <td>PD</td>\n",
       "      <td>0.0</td>\n",
       "      <td>0</td>\n",
       "      <td>0</td>\n",
       "    </tr>\n",
       "    <tr>\n",
       "      <th>3</th>\n",
       "      <td>SD</td>\n",
       "      <td>0.0</td>\n",
       "      <td>0</td>\n",
       "      <td>1</td>\n",
       "    </tr>\n",
       "    <tr>\n",
       "      <th>4</th>\n",
       "      <td>PD</td>\n",
       "      <td>0.0</td>\n",
       "      <td>1</td>\n",
       "      <td>1</td>\n",
       "    </tr>\n",
       "    <tr>\n",
       "      <th>...</th>\n",
       "      <td>...</td>\n",
       "      <td>...</td>\n",
       "      <td>...</td>\n",
       "      <td>...</td>\n",
       "    </tr>\n",
       "    <tr>\n",
       "      <th>576</th>\n",
       "      <td>PD</td>\n",
       "      <td>0.0</td>\n",
       "      <td>0</td>\n",
       "      <td>1</td>\n",
       "    </tr>\n",
       "    <tr>\n",
       "      <th>577</th>\n",
       "      <td>SD</td>\n",
       "      <td>0.0</td>\n",
       "      <td>1</td>\n",
       "      <td>0</td>\n",
       "    </tr>\n",
       "    <tr>\n",
       "      <th>578</th>\n",
       "      <td>SD</td>\n",
       "      <td>0.0</td>\n",
       "      <td>1</td>\n",
       "      <td>0</td>\n",
       "    </tr>\n",
       "    <tr>\n",
       "      <th>579</th>\n",
       "      <td>SD</td>\n",
       "      <td>0.0</td>\n",
       "      <td>0</td>\n",
       "      <td>0</td>\n",
       "    </tr>\n",
       "    <tr>\n",
       "      <th>580</th>\n",
       "      <td>PR</td>\n",
       "      <td>1.0</td>\n",
       "      <td>0</td>\n",
       "      <td>0</td>\n",
       "    </tr>\n",
       "  </tbody>\n",
       "</table>\n",
       "<p>502 rows × 4 columns</p>\n",
       "</div>"
      ],
      "text/plain": [
       "    responseCategory  is_response  is_female  is_treatment_1\n",
       "0                 SD          0.0          0               0\n",
       "1                 PD          0.0          1               1\n",
       "2                 PD          0.0          0               0\n",
       "3                 SD          0.0          0               1\n",
       "4                 PD          0.0          1               1\n",
       "..               ...          ...        ...             ...\n",
       "576               PD          0.0          0               1\n",
       "577               SD          0.0          1               0\n",
       "578               SD          0.0          1               0\n",
       "579               SD          0.0          0               0\n",
       "580               PR          1.0          0               0\n",
       "\n",
       "[502 rows x 4 columns]"
      ]
     },
     "execution_count": 41,
     "metadata": {},
     "output_type": "execute_result"
    }
   ],
   "source": [
    "def is_response(responseCategory):\n",
    "    if responseCategory == 'NE':\n",
    "        return np.nan\n",
    "    elif responseCategory in ['CR', 'PR']:\n",
    "        return 1\n",
    "    return 0\n",
    "\n",
    "# Где CR или PR ставим 1\n",
    "treatment['is_response'] = treatment['responseCategory'].apply(is_response)\n",
    "treatment['is_female'] = treatment['gender'].apply(lambda x: 1 if x == 'FEMALE' else 0)\n",
    "treatment['is_treatment_1'] = treatment['TRTPN'].apply(lambda x: 1 if x == 1 else 0)\n",
    "treatment = treatment.drop(['gender', 'TRTPN', 'SITEID', 'SUBJID'], axis = 1)\n",
    "\n",
    "# Оставим только строчки с какой-то реакцией\n",
    "treatment = treatment[treatment.responseCategory != 'NE']\n",
    "treatment"
   ]
  },
  {
   "cell_type": "markdown",
   "metadata": {},
   "source": [
    "# Задание 1"
   ]
  },
  {
   "cell_type": "markdown",
   "metadata": {},
   "source": [
    "1. Разделите данные на train/test в соотношении 70/30\n",
    "2. Постройте логистическую регрессию в зависимости от принимаемого лекарства.\n",
    "    1. Выведите коэффициенты логистической регрессии. \n",
    "    2. Найти шансы выжить у людей, принимающих 1 лекаство.\n",
    "    3. Найти шансы выжить у людей, принимающих 2 лекарство.\n",
    "    4. Найти отношение шансов выжить у людей, принимающих 1 лекарство и людей принимающих 2 лекарство.\n",
    "    5. Замерить качество на трейне и тесте: ROC AUC, с порогом 0.5: Accuracy, Sensitivity, Specifity, Precision, Recall"
   ]
  },
  {
   "cell_type": "markdown",
   "metadata": {},
   "source": [
    "## Preparing features for the model"
   ]
  },
  {
   "cell_type": "code",
   "execution_count": 45,
   "metadata": {},
   "outputs": [],
   "source": [
    "from sklearn.model_selection import train_test_split\n",
    "treatment_train, treatment_test = train_test_split(treatment, test_size = 0.3)"
   ]
  },
  {
   "cell_type": "code",
   "execution_count": 46,
   "metadata": {
    "scrolled": true
   },
   "outputs": [],
   "source": [
    "X_train = treatment_train[['is_female', 'is_treatment_1']]\n",
    "y_train = treatment_train['is_response']\n",
    "X_test = treatment_test[['is_female', 'is_treatment_1']]\n",
    "y_test = treatment_test['is_response']"
   ]
  },
  {
   "cell_type": "markdown",
   "metadata": {},
   "source": [
    "# Model training and results"
   ]
  },
  {
   "cell_type": "code",
   "execution_count": 60,
   "metadata": {},
   "outputs": [
    {
     "name": "stdout",
     "output_type": "stream",
     "text": [
      "0.5722356527223039 - Train ROC AUC\n",
      "0.5515873015873016 - Test ROC AUC\n",
      "\n",
      "0.8091168091168092 - Train ACCURACY\n",
      "0.8344370860927153 - Test ACCURACY\n"
     ]
    }
   ],
   "source": [
    "logisticregression_object = LogisticRegression()\n",
    "logisticregression_object.fit(X_train, y_train)\n",
    "\n",
    "y_train_score = logisticregression_object.predict_proba(X_train)[:, 1]\n",
    "y_test_score = logisticregression_object.predict_proba(X_test)[:, 1]\n",
    "print(roc_auc_score(y_true = y_train, y_score = y_train_score), '- Train ROC AUC')\n",
    "print(roc_auc_score(y_true = y_test, y_score = y_test_score), '- Test ROC AUC')\n",
    "print()\n",
    "print(accuracy_score(y_true = y_train, y_pred = y_train_score > 0.5), '- Train ACCURACY')\n",
    "print(accuracy_score(y_true = y_test, y_pred = y_test_score > 0.5), '- Test ACCURACY')"
   ]
  },
  {
   "cell_type": "code",
   "execution_count": 56,
   "metadata": {},
   "outputs": [
    {
     "data": {
      "text/plain": [
       "array([-1.66718909])"
      ]
     },
     "execution_count": 56,
     "metadata": {},
     "output_type": "execute_result"
    }
   ],
   "source": [
    "logisticregression_object.intercept_"
   ]
  },
  {
   "cell_type": "code",
   "execution_count": 55,
   "metadata": {},
   "outputs": [
    {
     "data": {
      "text/plain": [
       "array([[-0.09524146,  0.50164637]])"
      ]
     },
     "execution_count": 55,
     "metadata": {},
     "output_type": "execute_result"
    }
   ],
   "source": [
    "logisticregression_object.coef_"
   ]
  },
  {
   "cell_type": "markdown",
   "metadata": {},
   "source": [
    "## is_response ~ trmnt"
   ]
  },
  {
   "cell_type": "code",
   "execution_count": 102,
   "metadata": {
    "scrolled": false
   },
   "outputs": [
    {
     "name": "stdout",
     "output_type": "stream",
     "text": [
      "                           Logit Regression Results                           \n",
      "==============================================================================\n",
      "Dep. Variable:            is_response   No. Observations:                  502\n",
      "Model:                          Logit   Df Residuals:                      500\n",
      "Method:                           MLE   Df Model:                            1\n",
      "Date:                Thu, 23 Sep 2021   Pseudo R-squ.:                0.008180\n",
      "Time:                        14:14:40   Log-Likelihood:                -237.15\n",
      "converged:                       True   LL-Null:                       -239.11\n",
      "Covariance Type:            nonrobust   LLR p-value:                   0.04795\n",
      "==================================================================================\n",
      "                     coef    std err          z      P>|z|      [0.025      0.975]\n",
      "----------------------------------------------------------------------------------\n",
      "Intercept         -1.7492      0.181     -9.687      0.000      -2.103      -1.395\n",
      "is_treatment_1     0.4613      0.235      1.960      0.050    5.84e-05       0.923\n",
      "==================================================================================\n"
     ]
    }
   ],
   "source": [
    "print(result1.summary())"
   ]
  },
  {
   "cell_type": "markdown",
   "metadata": {},
   "source": [
    "**- Report an odds ratio derived from this model of treatment 1 over treatment 2.**\n",
    "\n",
    "From coefficients of logistic models we can get:\n",
    "\n",
    "\\begin{equation}\n",
    "\\begin{cases}\n",
    "    Log(Odds_1) = -1.7492 + 0.4613 \\\\\n",
    "    Log(Odds_2) = -1.7492 \n",
    "\\end{cases}\n",
    "\\end{equation}\n",
    "\n",
    "After subtracting the second equation from the first:\n",
    "\n",
    "$$Log\\Big(\\frac{Odds_1}{Odds_2}\\Big) = 0.4613$$\n",
    "\n",
    "And finally we get Odds ratio of treatment 1 over treatment 2\n",
    "\n",
    "$$ \\boxed{\\frac{Odds_1}{Odds_2} = exp\\big[0.4613\\Big] \\approx 1.59 }$$\n",
    "\n",
    "<center>\n",
    "<b><i> \n",
    "    Confidential intervals: (1.00, 2.52)\n",
    "</i></b>\n",
    "</center>"
   ]
  },
  {
   "cell_type": "markdown",
   "metadata": {},
   "source": [
    "<br><br><br><br><br>"
   ]
  },
  {
   "cell_type": "markdown",
   "metadata": {},
   "source": [
    "**- Give a definition of Odds Ratio.**\n",
    "\n",
    "Odds Ration in our case is the ratio of odds to get response after using first treatment to the odds to get response after using first treatment\n",
    "\n",
    "$$\\boxed{OddsRatio = \\frac{Odds_1}{Odds_2}}$$\n",
    "\n",
    "Where Odds_i means the ratio of probability to get response to the probability not to get response:\n",
    "\n",
    "$$Odds_i = \\frac{p_i}{1-p_i}$$\n",
    "\n",
    "**- Give definition of confidence interval**\n",
    "\n",
    "Confidence interval is the interval, that would be contain 90% of all observations of our value if we would repeat the experiment a lot of times.\n",
    "\n",
    "**- How it is related with regression coefficients estimated in this model?**\n",
    "\n",
    "All confidence intervals can be obtaind by Wald rule, using coefficients and their standart errors:\n",
    "\n",
    "$$interval = exp\\Big[\\beta_{i}*SE(\\beta_{i})\\Big]$$\n",
    "\n",
    "where $SE(\\beta_{i})$ is standart error of coefficient $\\beta_{i}$"
   ]
  },
  {
   "cell_type": "code",
   "execution_count": 115,
   "metadata": {},
   "outputs": [
    {
     "name": "stdout",
     "output_type": "stream",
     "text": [
      "                  5%   95%  Odds Ratio\n",
      "Intercept       0.12  0.25        0.17\n",
      "is_treatment_1  1.00  2.52        1.59\n"
     ]
    }
   ],
   "source": [
    "# Calculating confidence intervals\n",
    "\n",
    "# conf = result1.conf_int()\n",
    "conf['Odds Ratio'] = result1.params\n",
    "conf.columns = ['5%', '95%', 'Odds Ratio']\n",
    "print(np.exp(conf).round(decimals = 2))"
   ]
  },
  {
   "cell_type": "markdown",
   "metadata": {},
   "source": [
    " "
   ]
  },
  {
   "cell_type": "markdown",
   "metadata": {},
   "source": [
    "## is_resplonse ~ trmnt + gender + trmnt:gender"
   ]
  },
  {
   "cell_type": "code",
   "execution_count": 104,
   "metadata": {
    "scrolled": false
   },
   "outputs": [
    {
     "name": "stdout",
     "output_type": "stream",
     "text": [
      "                           Logit Regression Results                           \n",
      "==============================================================================\n",
      "Dep. Variable:            is_response   No. Observations:                  502\n",
      "Model:                          Logit   Df Residuals:                      498\n",
      "Method:                           MLE   Df Model:                            3\n",
      "Date:                Thu, 23 Sep 2021   Pseudo R-squ.:                 0.01003\n",
      "Time:                        14:14:44   Log-Likelihood:                -236.71\n",
      "converged:                       True   LL-Null:                       -239.11\n",
      "Covariance Type:            nonrobust   LLR p-value:                    0.1873\n",
      "================================================================================================\n",
      "                                   coef    std err          z      P>|z|      [0.025      0.975]\n",
      "------------------------------------------------------------------------------------------------\n",
      "Intercept                       -1.7834      0.242     -7.380      0.000      -2.257      -1.310\n",
      "is_treatment_1                   0.6242      0.315      1.979      0.048       0.006       1.242\n",
      "is_sex_female                    0.0786      0.364      0.216      0.829      -0.634       0.791\n",
      "is_sex_female:is_treatment_1    -0.3565      0.474     -0.752      0.452      -1.286       0.573\n",
      "================================================================================================\n"
     ]
    }
   ],
   "source": [
    "print(result2.summary())"
   ]
  },
  {
   "cell_type": "markdown",
   "metadata": {},
   "source": [
    "**- Report an 4 conditional odds ratio derived from this model:**\n",
    "\n",
    "Treatment 1 vs Treatment 2 | Female\n",
    "\n",
    "$$\\frac{Odds_{1F}}{Odds_{2F}} = exp\\Big[ \\big(-1.7834 + 0.6242 + 0.0786 -0.3565\\big) - \\big(-1.7834 + 0.0786\\big) \\Big]$$\n",
    "\n",
    "$$\\boxed{\\frac{Odds_{1F}}{Odds_{2F}} = exp\\Big[ \\big(0.6242 - 0.3565\\big) \\Big] \\approx 1.31}$$\n",
    "\n",
    "<center>\n",
    "<b><i> \n",
    "    Confidential intervals: (0.28, 1.95)\n",
    "</i></b>\n",
    "</center>\n",
    "\n",
    "\n",
    "\n",
    "Treatment 1 vs Treatment 2 | Male\n",
    "\n",
    "$$\\frac{Odds_{1M}}{Odds_{2M}} = exp\\Big[ \\big(-1.7834 + 0.6242\\big)-\\big(-1.7834\\big) \\Big]$$\n",
    "\n",
    "$$\\boxed{\\frac{Odds_{1M}}{Odds_{2M}} = exp\\Big[ 0.6242 \\Big] \\approx 1.87}$$\n",
    "\n",
    "<center>\n",
    "<b><i> \n",
    "    Confidential intervals: (1.01, 3.46)\n",
    "</i></b>\n",
    "</center>\n",
    "\n",
    "\n",
    "Female vs Male | Treatment 1\n",
    "\n",
    "$$\\frac{Odds_{1F}}{Odds_{1M}} =  exp\\Big[ \\big(-1.7834 + 0.6242 + 0.0786 -0.3565)-\\big(-1.7834 + 0.6242) \\Big)$$\n",
    "\n",
    "$$\\boxed{\\frac{Odds_{1F}}{Odds_{1M}} =  exp\\Big[0.0786 - 0.3565 \\Big] \\approx 0.76}$$\n",
    "\n",
    "<center>\n",
    "<b><i> \n",
    "    Confidential intervals: (0.15, 3.91)\n",
    "</i></b>\n",
    "</center>\n",
    "\n",
    "\n",
    "\n",
    "Female vs Male | Treatment 2.\n",
    "\n",
    "$$\\frac{Odds_{2F}}{Odds_{2M}} =  exp\\Big[ \\big(-1.7834 + 0.0786\\big)-\\big(-1.7834\\big) \\Big]$$\n",
    "\n",
    "$$\\boxed{\\frac{Odds_{2F}}{Odds_{2M}} =  exp\\Big[ 0.0786 \\Big] \\approx 1.08}$$\n",
    "\n",
    "<center>\n",
    "<b><i> \n",
    "    Confidential intervals: (0.53, 2.21)\n",
    "</i></b>\n",
    "</center>\n",
    "\n",
    "\n",
    "\n",
    "\n",
    "**- How these 4 odds ratio are related to estimated coefficients?**\n",
    "\n",
    "I have provided the calculations above.\n",
    "\n",
    "**- Report pvalue for interaction (of Treatment*Gender) significance.**\n",
    "\n",
    "$$\\boxed{p.value = 0.45}$$\n",
    "\n",
    "**- Give definition of the pvalue.**\n",
    "\n",
    "p.value means the probability of obtaining such and any more pronounced differences by chance, if the null hypothesis is fulfilled. In our case null hypothesis assumes that the coefficient is null. \n",
    "\n",
    "| p.value = probability to get such and more pronounced deviations from $H_0$ by chance |\n",
    "|---------------|\n",
    "\n",
    "<br>\n",
    "\n",
    "**- Based on this pvalue – do we need to update model (simplify it)? Why?**\n",
    "\n",
    "According to this p.value it would be good solution to simplify our model, removing this coefficient"
   ]
  },
  {
   "cell_type": "code",
   "execution_count": 114,
   "metadata": {
    "scrolled": true
   },
   "outputs": [
    {
     "name": "stdout",
     "output_type": "stream",
     "text": [
      "                                 5%    95%  Log(Odds)\n",
      "Intercept                    -2.257 -1.310     -1.783\n",
      "is_treatment_1                0.006  1.242      0.624\n",
      "is_sex_female                -0.634  0.791      0.079\n",
      "is_sex_female:is_treatment_1 -1.286  0.573     -0.356\n",
      "\n",
      "\n",
      "                                 5%    95%  Odds Ratio\n",
      "Intercept                     0.105  0.270       0.168\n",
      "is_treatment_1                1.006  3.463       1.867\n",
      "is_sex_female                 0.530  2.207       1.082\n",
      "is_sex_female:is_treatment_1  0.276  1.774       0.700\n"
     ]
    }
   ],
   "source": [
    "conf = result2.conf_int()\n",
    "conf['Odds Ratio'] = result2.params\n",
    "conf.columns = ['5%', '95%', 'Log(Odds)']\n",
    "print(conf.round(decimals = 3))\n",
    "\n",
    "print('\\n')\n",
    "\n",
    "conf = result2.conf_int()\n",
    "conf['Odds Ratio'] = result2.params\n",
    "conf.columns = ['5%', '95%', 'Odds Ratio']\n",
    "print(np.exp(conf).round(decimals = 3))"
   ]
  },
  {
   "cell_type": "markdown",
   "metadata": {},
   "source": [
    " "
   ]
  },
  {
   "cell_type": "markdown",
   "metadata": {},
   "source": [
    " "
   ]
  },
  {
   "cell_type": "markdown",
   "metadata": {},
   "source": [
    "*Thanks for wathcing my notebook :)*"
   ]
  },
  {
   "cell_type": "code",
   "execution_count": null,
   "metadata": {},
   "outputs": [],
   "source": []
  }
 ],
 "metadata": {
  "kernelspec": {
   "display_name": "Python 3 (ipykernel)",
   "language": "python",
   "name": "python3"
  },
  "language_info": {
   "codemirror_mode": {
    "name": "ipython",
    "version": 3
   },
   "file_extension": ".py",
   "mimetype": "text/x-python",
   "name": "python",
   "nbconvert_exporter": "python",
   "pygments_lexer": "ipython3",
   "version": "3.10.6"
  },
  "toc": {
   "base_numbering": 1,
   "nav_menu": {},
   "number_sections": true,
   "sideBar": true,
   "skip_h1_title": false,
   "title_cell": "Table of Contents",
   "title_sidebar": "Contents",
   "toc_cell": false,
   "toc_position": {
    "height": "calc(100% - 180px)",
    "left": "10px",
    "top": "150px",
    "width": "253.729px"
   },
   "toc_section_display": false,
   "toc_window_display": false
  },
  "varInspector": {
   "cols": {
    "lenName": 16,
    "lenType": 16,
    "lenVar": 40
   },
   "kernels_config": {
    "python": {
     "delete_cmd_postfix": "",
     "delete_cmd_prefix": "del ",
     "library": "var_list.py",
     "varRefreshCmd": "print(var_dic_list())"
    },
    "r": {
     "delete_cmd_postfix": ") ",
     "delete_cmd_prefix": "rm(",
     "library": "var_list.r",
     "varRefreshCmd": "cat(var_dic_list()) "
    }
   },
   "types_to_exclude": [
    "module",
    "function",
    "builtin_function_or_method",
    "instance",
    "_Feature"
   ],
   "window_display": false
  }
 },
 "nbformat": 4,
 "nbformat_minor": 4
}
