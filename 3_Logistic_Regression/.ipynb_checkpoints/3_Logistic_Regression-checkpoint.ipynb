{
 "cells": [
  {
   "cell_type": "code",
   "execution_count": 5,
   "id": "78aa3604",
   "metadata": {
    "ExecuteTime": {
     "end_time": "2022-11-10T18:11:41.250282Z",
     "start_time": "2022-11-10T18:11:40.977077Z"
    }
   },
   "outputs": [
    {
     "name": "stdout",
     "output_type": "stream",
     "text": [
      "Please specify an nbextension/package to enable or disable\r\n"
     ]
    }
   ],
   "source": [
    "!jupyter nbextension enable"
   ]
  },
  {
   "cell_type": "code",
   "execution_count": 4,
   "id": "c5c376cd",
   "metadata": {
    "ExecuteTime": {
     "end_time": "2022-11-10T18:10:44.863687Z",
     "start_time": "2022-11-10T18:10:43.930721Z"
    }
   },
   "outputs": [
    {
     "name": "stdout",
     "output_type": "stream",
     "text": [
      "\u001b[32m[I 21:10:44 InstallContribNbextensionsApp]\u001b[m jupyter contrib nbextension install --user\n",
      "\u001b[32m[I 21:10:44 InstallContribNbextensionsApp]\u001b[m Installing jupyter_contrib_nbextensions nbextension files to jupyter data directory\n",
      "\u001b[32m[I 21:10:44 InstallContribNbextensionsApp]\u001b[m Installing /home/volodya/.local/lib/python3.10/site-packages/jupyter_contrib_nbextensions/nbextensions/runtools -> runtools\n",
      "\u001b[32m[I 21:10:44 InstallContribNbextensionsApp]\u001b[m Up to date: /home/volodya/.local/share/jupyter/nbextensions/runtools/runtools.yaml\n",
      "\u001b[32m[I 21:10:44 InstallContribNbextensionsApp]\u001b[m Up to date: /home/volodya/.local/share/jupyter/nbextensions/runtools/gutter.css\n",
      "\u001b[32m[I 21:10:44 InstallContribNbextensionsApp]\u001b[m Up to date: /home/volodya/.local/share/jupyter/nbextensions/runtools/main.js\n",
      "\u001b[32m[I 21:10:44 InstallContribNbextensionsApp]\u001b[m Up to date: /home/volodya/.local/share/jupyter/nbextensions/runtools/runtools_show_hide.png\n",
      "\u001b[32m[I 21:10:44 InstallContribNbextensionsApp]\u001b[m Up to date: /home/volodya/.local/share/jupyter/nbextensions/runtools/runtools_nb.png\n",
      "\u001b[32m[I 21:10:44 InstallContribNbextensionsApp]\u001b[m Up to date: /home/volodya/.local/share/jupyter/nbextensions/runtools/runtools_lock.png\n",
      "\u001b[32m[I 21:10:44 InstallContribNbextensionsApp]\u001b[m Up to date: /home/volodya/.local/share/jupyter/nbextensions/runtools/cellstate.js\n",
      "\u001b[32m[I 21:10:44 InstallContribNbextensionsApp]\u001b[m Up to date: /home/volodya/.local/share/jupyter/nbextensions/runtools/annotations.odg\n",
      "\u001b[32m[I 21:10:44 InstallContribNbextensionsApp]\u001b[m Up to date: /home/volodya/.local/share/jupyter/nbextensions/runtools/main.css\n",
      "\u001b[32m[I 21:10:44 InstallContribNbextensionsApp]\u001b[m Up to date: /home/volodya/.local/share/jupyter/nbextensions/runtools/icon.png\n",
      "\u001b[32m[I 21:10:44 InstallContribNbextensionsApp]\u001b[m Up to date: /home/volodya/.local/share/jupyter/nbextensions/runtools/runtools_marker.png\n",
      "\u001b[32m[I 21:10:44 InstallContribNbextensionsApp]\u001b[m Up to date: /home/volodya/.local/share/jupyter/nbextensions/runtools/runtools_execute.png\n",
      "\u001b[32m[I 21:10:44 InstallContribNbextensionsApp]\u001b[m Up to date: /home/volodya/.local/share/jupyter/nbextensions/runtools/demo.gif\n",
      "\u001b[32m[I 21:10:44 InstallContribNbextensionsApp]\u001b[m Up to date: /home/volodya/.local/share/jupyter/nbextensions/runtools/readme.md\n",
      "\u001b[32m[I 21:10:44 InstallContribNbextensionsApp]\u001b[m - Validating: \u001b[32mOK\u001b[0m\n",
      "\u001b[32m[I 21:10:44 InstallContribNbextensionsApp]\u001b[m Installing /home/volodya/.local/lib/python3.10/site-packages/jupyter_contrib_nbextensions/nbextensions/keyboard_shortcut_editor -> keyboard_shortcut_editor\n",
      "\u001b[32m[I 21:10:44 InstallContribNbextensionsApp]\u001b[m Up to date: /home/volodya/.local/share/jupyter/nbextensions/keyboard_shortcut_editor/readme_reset_disabled.png\n",
      "\u001b[32m[I 21:10:44 InstallContribNbextensionsApp]\u001b[m Up to date: /home/volodya/.local/share/jupyter/nbextensions/keyboard_shortcut_editor/quickhelp_shim.js\n",
      "\u001b[32m[I 21:10:44 InstallContribNbextensionsApp]\u001b[m Up to date: /home/volodya/.local/share/jupyter/nbextensions/keyboard_shortcut_editor/readme_add_new_link.png\n",
      "\u001b[32m[I 21:10:44 InstallContribNbextensionsApp]\u001b[m Up to date: /home/volodya/.local/share/jupyter/nbextensions/keyboard_shortcut_editor/main.js\n",
      "\u001b[32m[I 21:10:44 InstallContribNbextensionsApp]\u001b[m Up to date: /home/volodya/.local/share/jupyter/nbextensions/keyboard_shortcut_editor/readme_undefined_key.png\n",
      "\u001b[32m[I 21:10:44 InstallContribNbextensionsApp]\u001b[m Up to date: /home/volodya/.local/share/jupyter/nbextensions/keyboard_shortcut_editor/README.md\n",
      "\u001b[32m[I 21:10:44 InstallContribNbextensionsApp]\u001b[m Up to date: /home/volodya/.local/share/jupyter/nbextensions/keyboard_shortcut_editor/readme_conflict.png\n",
      "\u001b[32m[I 21:10:44 InstallContribNbextensionsApp]\u001b[m Up to date: /home/volodya/.local/share/jupyter/nbextensions/keyboard_shortcut_editor/readme_menu_item.png\n",
      "\u001b[32m[I 21:10:44 InstallContribNbextensionsApp]\u001b[m Up to date: /home/volodya/.local/share/jupyter/nbextensions/keyboard_shortcut_editor/readme_dropdown.png\n",
      "\u001b[32m[I 21:10:44 InstallContribNbextensionsApp]\u001b[m Up to date: /home/volodya/.local/share/jupyter/nbextensions/keyboard_shortcut_editor/readme_add_new_select_action.png\n",
      "\u001b[32m[I 21:10:44 InstallContribNbextensionsApp]\u001b[m Up to date: /home/volodya/.local/share/jupyter/nbextensions/keyboard_shortcut_editor/readme_comma.png\n",
      "\u001b[32m[I 21:10:44 InstallContribNbextensionsApp]\u001b[m Up to date: /home/volodya/.local/share/jupyter/nbextensions/keyboard_shortcut_editor/main.css\n",
      "\u001b[32m[I 21:10:44 InstallContribNbextensionsApp]\u001b[m Up to date: /home/volodya/.local/share/jupyter/nbextensions/keyboard_shortcut_editor/keyboard_shortcut_editor.yaml\n",
      "\u001b[32m[I 21:10:44 InstallContribNbextensionsApp]\u001b[m Up to date: /home/volodya/.local/share/jupyter/nbextensions/keyboard_shortcut_editor/kse_components.js\n",
      "\u001b[32m[I 21:10:44 InstallContribNbextensionsApp]\u001b[m Up to date: /home/volodya/.local/share/jupyter/nbextensions/keyboard_shortcut_editor/icon.png\n",
      "\u001b[32m[I 21:10:44 InstallContribNbextensionsApp]\u001b[m Up to date: /home/volodya/.local/share/jupyter/nbextensions/keyboard_shortcut_editor/readme_shortcut_editor_success.png\n",
      "\u001b[32m[I 21:10:44 InstallContribNbextensionsApp]\u001b[m Up to date: /home/volodya/.local/share/jupyter/nbextensions/keyboard_shortcut_editor/readme_shortcut_editor_blank.png\n",
      "\u001b[32m[I 21:10:44 InstallContribNbextensionsApp]\u001b[m - Validating: \u001b[32mOK\u001b[0m\n",
      "\u001b[32m[I 21:10:44 InstallContribNbextensionsApp]\u001b[m Installing /home/volodya/.local/lib/python3.10/site-packages/jupyter_contrib_nbextensions/nbextensions/scratchpad -> scratchpad\n",
      "\u001b[32m[I 21:10:44 InstallContribNbextensionsApp]\u001b[m Up to date: /home/volodya/.local/share/jupyter/nbextensions/scratchpad/LICENSE\n",
      "\u001b[32m[I 21:10:44 InstallContribNbextensionsApp]\u001b[m Up to date: /home/volodya/.local/share/jupyter/nbextensions/scratchpad/scratchpad.yaml\n",
      "\u001b[32m[I 21:10:44 InstallContribNbextensionsApp]\u001b[m Up to date: /home/volodya/.local/share/jupyter/nbextensions/scratchpad/main.js\n",
      "\u001b[32m[I 21:10:44 InstallContribNbextensionsApp]\u001b[m Up to date: /home/volodya/.local/share/jupyter/nbextensions/scratchpad/README.md\n",
      "\u001b[32m[I 21:10:44 InstallContribNbextensionsApp]\u001b[m Up to date: /home/volodya/.local/share/jupyter/nbextensions/scratchpad/scratchpad.css\n",
      "\u001b[32m[I 21:10:44 InstallContribNbextensionsApp]\u001b[m Up to date: /home/volodya/.local/share/jupyter/nbextensions/scratchpad/demo.gif\n",
      "\u001b[32m[I 21:10:44 InstallContribNbextensionsApp]\u001b[m - Validating: \u001b[32mOK\u001b[0m\n",
      "\u001b[32m[I 21:10:44 InstallContribNbextensionsApp]\u001b[m Installing /home/volodya/.local/lib/python3.10/site-packages/jupyter_contrib_nbextensions/nbextensions/limit_output -> limit_output\n",
      "\u001b[32m[I 21:10:44 InstallContribNbextensionsApp]\u001b[m Up to date: /home/volodya/.local/share/jupyter/nbextensions/limit_output/limit-output.yaml\n",
      "\u001b[32m[I 21:10:44 InstallContribNbextensionsApp]\u001b[m Up to date: /home/volodya/.local/share/jupyter/nbextensions/limit_output/main.js\n",
      "\u001b[32m[I 21:10:44 InstallContribNbextensionsApp]\u001b[m Up to date: /home/volodya/.local/share/jupyter/nbextensions/limit_output/icon.png\n",
      "\u001b[32m[I 21:10:44 InstallContribNbextensionsApp]\u001b[m Up to date: /home/volodya/.local/share/jupyter/nbextensions/limit_output/readme.md\n",
      "\u001b[32m[I 21:10:44 InstallContribNbextensionsApp]\u001b[m - Validating: \u001b[32mOK\u001b[0m\n",
      "\u001b[32m[I 21:10:44 InstallContribNbextensionsApp]\u001b[m Installing /home/volodya/.local/lib/python3.10/site-packages/jupyter_contrib_nbextensions/nbextensions/execute_time -> execute_time\n",
      "\u001b[32m[I 21:10:44 InstallContribNbextensionsApp]\u001b[m Up to date: /home/volodya/.local/share/jupyter/nbextensions/execute_time/ExecuteTime.js\n",
      "\u001b[32m[I 21:10:44 InstallContribNbextensionsApp]\u001b[m Up to date: /home/volodya/.local/share/jupyter/nbextensions/execute_time/execution-timings-box.png\n",
      "\u001b[32m[I 21:10:44 InstallContribNbextensionsApp]\u001b[m Up to date: /home/volodya/.local/share/jupyter/nbextensions/execute_time/execution-timings-menu.png\n",
      "\u001b[32m[I 21:10:44 InstallContribNbextensionsApp]\u001b[m Up to date: /home/volodya/.local/share/jupyter/nbextensions/execute_time/ExecuteTime.yaml\n",
      "\u001b[32m[I 21:10:44 InstallContribNbextensionsApp]\u001b[m Up to date: /home/volodya/.local/share/jupyter/nbextensions/execute_time/ExecuteTime.css\n",
      "\u001b[32m[I 21:10:44 InstallContribNbextensionsApp]\u001b[m Up to date: /home/volodya/.local/share/jupyter/nbextensions/execute_time/icon.png\n",
      "\u001b[32m[I 21:10:44 InstallContribNbextensionsApp]\u001b[m Up to date: /home/volodya/.local/share/jupyter/nbextensions/execute_time/readme.md\n",
      "\u001b[32m[I 21:10:44 InstallContribNbextensionsApp]\u001b[m - Validating: \u001b[32mOK\u001b[0m\n",
      "\u001b[32m[I 21:10:44 InstallContribNbextensionsApp]\u001b[m Installing /home/volodya/.local/lib/python3.10/site-packages/jupyter_contrib_nbextensions/nbextensions/hinterland -> hinterland\n",
      "\u001b[32m[I 21:10:44 InstallContribNbextensionsApp]\u001b[m Up to date: /home/volodya/.local/share/jupyter/nbextensions/hinterland/hinterland.js\n",
      "\u001b[32m[I 21:10:44 InstallContribNbextensionsApp]\u001b[m Up to date: /home/volodya/.local/share/jupyter/nbextensions/hinterland/hinterland.yaml\n",
      "\u001b[32m[I 21:10:44 InstallContribNbextensionsApp]\u001b[m Up to date: /home/volodya/.local/share/jupyter/nbextensions/hinterland/README.md\n",
      "\u001b[32m[I 21:10:44 InstallContribNbextensionsApp]\u001b[m - Validating: \u001b[32mOK\u001b[0m\n",
      "\u001b[32m[I 21:10:44 InstallContribNbextensionsApp]\u001b[m Installing /home/volodya/.local/lib/python3.10/site-packages/jupyter_contrib_nbextensions/nbextensions/highlighter -> highlighter\n",
      "\u001b[32m[I 21:10:44 InstallContribNbextensionsApp]\u001b[m Up to date: /home/volodya/.local/share/jupyter/nbextensions/highlighter/export_highlights.tex\n",
      "\u001b[32m[I 21:10:44 InstallContribNbextensionsApp]\u001b[m Up to date: /home/volodya/.local/share/jupyter/nbextensions/highlighter/tst_highlights.tex\n",
      "\u001b[32m[I 21:10:44 InstallContribNbextensionsApp]\u001b[m Up to date: /home/volodya/.local/share/jupyter/nbextensions/highlighter/export_highlights.pdf\n",
      "\u001b[32m[I 21:10:44 InstallContribNbextensionsApp]\u001b[m Up to date: /home/volodya/.local/share/jupyter/nbextensions/highlighter/export_highlights.html\n",
      "\u001b[32m[I 21:10:44 InstallContribNbextensionsApp]\u001b[m Up to date: /home/volodya/.local/share/jupyter/nbextensions/highlighter/highlighter.css\n",
      "\u001b[32m[I 21:10:44 InstallContribNbextensionsApp]\u001b[m Up to date: /home/volodya/.local/share/jupyter/nbextensions/highlighter/tst_highlights.html\n",
      "\u001b[32m[I 21:10:44 InstallContribNbextensionsApp]\u001b[m Up to date: /home/volodya/.local/share/jupyter/nbextensions/highlighter/export_highlights.ipynb\n",
      "\u001b[32m[I 21:10:44 InstallContribNbextensionsApp]\u001b[m Up to date: /home/volodya/.local/share/jupyter/nbextensions/highlighter/highlighter.yaml\n",
      "\u001b[32m[I 21:10:44 InstallContribNbextensionsApp]\u001b[m Up to date: /home/volodya/.local/share/jupyter/nbextensions/highlighter/demo_highlighter.html\n",
      "\u001b[32m[I 21:10:44 InstallContribNbextensionsApp]\u001b[m Up to date: /home/volodya/.local/share/jupyter/nbextensions/highlighter/tst_highlights.pdf\n",
      "\u001b[32m[I 21:10:44 InstallContribNbextensionsApp]\u001b[m Up to date: /home/volodya/.local/share/jupyter/nbextensions/highlighter/tst_highlights.ipynb\n",
      "\u001b[32m[I 21:10:44 InstallContribNbextensionsApp]\u001b[m Up to date: /home/volodya/.local/share/jupyter/nbextensions/highlighter/highlighter.js\n",
      "\u001b[32m[I 21:10:44 InstallContribNbextensionsApp]\u001b[m Up to date: /home/volodya/.local/share/jupyter/nbextensions/highlighter/icon.png\n",
      "\u001b[32m[I 21:10:44 InstallContribNbextensionsApp]\u001b[m Up to date: /home/volodya/.local/share/jupyter/nbextensions/highlighter/readme.md\n",
      "\u001b[32m[I 21:10:44 InstallContribNbextensionsApp]\u001b[m Up to date: /home/volodya/.local/share/jupyter/nbextensions/highlighter/demo_highlighter.ipynb\n",
      "\u001b[32m[I 21:10:44 InstallContribNbextensionsApp]\u001b[m Up to date: /home/volodya/.local/share/jupyter/nbextensions/highlighter/image.gif\n",
      "\u001b[32m[I 21:10:44 InstallContribNbextensionsApp]\u001b[m - Validating: \u001b[32mOK\u001b[0m\n",
      "\u001b[32m[I 21:10:44 InstallContribNbextensionsApp]\u001b[m Installing /home/volodya/.local/lib/python3.10/site-packages/jupyter_contrib_nbextensions/nbextensions/table_beautifier -> table_beautifier\n",
      "\u001b[32m[I 21:10:44 InstallContribNbextensionsApp]\u001b[m Up to date: /home/volodya/.local/share/jupyter/nbextensions/table_beautifier/main.js\n",
      "\u001b[32m[I 21:10:44 InstallContribNbextensionsApp]\u001b[m Up to date: /home/volodya/.local/share/jupyter/nbextensions/table_beautifier/README.md\n",
      "\u001b[32m[I 21:10:44 InstallContribNbextensionsApp]\u001b[m Up to date: /home/volodya/.local/share/jupyter/nbextensions/table_beautifier/main.css\n",
      "\u001b[32m[I 21:10:44 InstallContribNbextensionsApp]\u001b[m Up to date: /home/volodya/.local/share/jupyter/nbextensions/table_beautifier/table_beautifier.yaml\n",
      "\u001b[32m[I 21:10:44 InstallContribNbextensionsApp]\u001b[m - Validating: \u001b[32mOK\u001b[0m\n",
      "\u001b[32m[I 21:10:44 InstallContribNbextensionsApp]\u001b[m Installing /home/volodya/.local/lib/python3.10/site-packages/jupyter_contrib_nbextensions/nbextensions/zenmode -> zenmode\n",
      "\u001b[32m[I 21:10:44 InstallContribNbextensionsApp]\u001b[m Up to date: /home/volodya/.local/share/jupyter/nbextensions/zenmode/main.js\n",
      "\u001b[32m[I 21:10:44 InstallContribNbextensionsApp]\u001b[m Up to date: /home/volodya/.local/share/jupyter/nbextensions/zenmode/README.md\n",
      "\u001b[32m[I 21:10:44 InstallContribNbextensionsApp]\u001b[m Up to date: /home/volodya/.local/share/jupyter/nbextensions/zenmode/main.css\n",
      "\u001b[32m[I 21:10:44 InstallContribNbextensionsApp]\u001b[m Up to date: /home/volodya/.local/share/jupyter/nbextensions/zenmode/zenmode.yaml\n",
      "\u001b[32m[I 21:10:44 InstallContribNbextensionsApp]\u001b[m Up to date: /home/volodya/.local/share/jupyter/nbextensions/zenmode/images/back11.jpg\n",
      "\u001b[32m[I 21:10:44 InstallContribNbextensionsApp]\u001b[m Up to date: /home/volodya/.local/share/jupyter/nbextensions/zenmode/images/back3.jpg\n",
      "\u001b[32m[I 21:10:44 InstallContribNbextensionsApp]\u001b[m Up to date: /home/volodya/.local/share/jupyter/nbextensions/zenmode/images/back1.jpg\n",
      "\u001b[32m[I 21:10:44 InstallContribNbextensionsApp]\u001b[m Up to date: /home/volodya/.local/share/jupyter/nbextensions/zenmode/images/back2.jpg\n",
      "\u001b[32m[I 21:10:44 InstallContribNbextensionsApp]\u001b[m Up to date: /home/volodya/.local/share/jupyter/nbextensions/zenmode/images/back12.jpg\n",
      "\u001b[32m[I 21:10:44 InstallContribNbextensionsApp]\u001b[m Up to date: /home/volodya/.local/share/jupyter/nbextensions/zenmode/images/back22.jpg\n",
      "\u001b[32m[I 21:10:44 InstallContribNbextensionsApp]\u001b[m Up to date: /home/volodya/.local/share/jupyter/nbextensions/zenmode/images/ipynblogo1.png\n",
      "\u001b[32m[I 21:10:44 InstallContribNbextensionsApp]\u001b[m Up to date: /home/volodya/.local/share/jupyter/nbextensions/zenmode/images/back21.jpg\n",
      "\u001b[32m[I 21:10:44 InstallContribNbextensionsApp]\u001b[m Up to date: /home/volodya/.local/share/jupyter/nbextensions/zenmode/images/ipynblogo0.png\n",
      "\u001b[32m[I 21:10:44 InstallContribNbextensionsApp]\u001b[m - Validating: \u001b[32mOK\u001b[0m\n",
      "\u001b[32m[I 21:10:44 InstallContribNbextensionsApp]\u001b[m Installing /home/volodya/.local/lib/python3.10/site-packages/jupyter_contrib_nbextensions/nbextensions/splitcell -> splitcell\n",
      "\u001b[32m[I 21:10:44 InstallContribNbextensionsApp]\u001b[m Up to date: /home/volodya/.local/share/jupyter/nbextensions/splitcell/splitcell.yaml\n",
      "\u001b[32m[I 21:10:44 InstallContribNbextensionsApp]\u001b[m Up to date: /home/volodya/.local/share/jupyter/nbextensions/splitcell/splitcell.js\n",
      "\u001b[32m[I 21:10:44 InstallContribNbextensionsApp]\u001b[m Up to date: /home/volodya/.local/share/jupyter/nbextensions/splitcell/icon.png\n",
      "\u001b[32m[I 21:10:44 InstallContribNbextensionsApp]\u001b[m Up to date: /home/volodya/.local/share/jupyter/nbextensions/splitcell/readme.md\n",
      "\u001b[32m[I 21:10:44 InstallContribNbextensionsApp]\u001b[m - Validating: \u001b[32mOK\u001b[0m\n",
      "\u001b[32m[I 21:10:44 InstallContribNbextensionsApp]\u001b[m Installing /home/volodya/.local/lib/python3.10/site-packages/jupyter_contrib_nbextensions/nbextensions/export_embedded -> export_embedded\n",
      "\u001b[32m[I 21:10:44 InstallContribNbextensionsApp]\u001b[m Up to date: /home/volodya/.local/share/jupyter/nbextensions/export_embedded/main.js\n",
      "\u001b[32m[I 21:10:44 InstallContribNbextensionsApp]\u001b[m Up to date: /home/volodya/.local/share/jupyter/nbextensions/export_embedded/export_embedded.yaml\n",
      "\u001b[32m[I 21:10:44 InstallContribNbextensionsApp]\u001b[m Up to date: /home/volodya/.local/share/jupyter/nbextensions/export_embedded/icon.png\n",
      "\u001b[32m[I 21:10:44 InstallContribNbextensionsApp]\u001b[m Up to date: /home/volodya/.local/share/jupyter/nbextensions/export_embedded/readme.md\n",
      "\u001b[32m[I 21:10:44 InstallContribNbextensionsApp]\u001b[m - Validating: \u001b[32mOK\u001b[0m\n",
      "\u001b[32m[I 21:10:44 InstallContribNbextensionsApp]\u001b[m Installing /home/volodya/.local/lib/python3.10/site-packages/jupyter_contrib_nbextensions/nbextensions/load_tex_macros -> load_tex_macros\n",
      "\u001b[32m[I 21:10:44 InstallContribNbextensionsApp]\u001b[m Up to date: /home/volodya/.local/share/jupyter/nbextensions/load_tex_macros/main.js\n",
      "\u001b[32m[I 21:10:44 InstallContribNbextensionsApp]\u001b[m Up to date: /home/volodya/.local/share/jupyter/nbextensions/load_tex_macros/icon.png\n",
      "\u001b[32m[I 21:10:44 InstallContribNbextensionsApp]\u001b[m Up to date: /home/volodya/.local/share/jupyter/nbextensions/load_tex_macros/readme.md\n",
      "\u001b[32m[I 21:10:44 InstallContribNbextensionsApp]\u001b[m Up to date: /home/volodya/.local/share/jupyter/nbextensions/load_tex_macros/load_tex_macros.yaml\n",
      "\u001b[32m[I 21:10:44 InstallContribNbextensionsApp]\u001b[m - Validating: \u001b[32mOK\u001b[0m\n",
      "\u001b[32m[I 21:10:44 InstallContribNbextensionsApp]\u001b[m Installing /home/volodya/.local/lib/python3.10/site-packages/jupyter_contrib_nbextensions/nbextensions/freeze -> freeze\n",
      "\u001b[32m[I 21:10:44 InstallContribNbextensionsApp]\u001b[m Up to date: /home/volodya/.local/share/jupyter/nbextensions/freeze/main.js\n",
      "\u001b[32m[I 21:10:44 InstallContribNbextensionsApp]\u001b[m Up to date: /home/volodya/.local/share/jupyter/nbextensions/freeze/icon.png\n",
      "\u001b[32m[I 21:10:44 InstallContribNbextensionsApp]\u001b[m Up to date: /home/volodya/.local/share/jupyter/nbextensions/freeze/config.yaml\n",
      "\u001b[32m[I 21:10:44 InstallContribNbextensionsApp]\u001b[m Up to date: /home/volodya/.local/share/jupyter/nbextensions/freeze/readme.md\n",
      "\u001b[32m[I 21:10:44 InstallContribNbextensionsApp]\u001b[m - Validating: \u001b[32mOK\u001b[0m\n",
      "\u001b[32m[I 21:10:44 InstallContribNbextensionsApp]\u001b[m Installing /home/volodya/.local/lib/python3.10/site-packages/jupyter_contrib_nbextensions/nbextensions/gist_it -> gist_it\n",
      "\u001b[32m[I 21:10:44 InstallContribNbextensionsApp]\u001b[m Up to date: /home/volodya/.local/share/jupyter/nbextensions/gist_it/main.js\n",
      "\u001b[32m[I 21:10:44 InstallContribNbextensionsApp]\u001b[m Up to date: /home/volodya/.local/share/jupyter/nbextensions/gist_it/icon.png\n",
      "\u001b[32m[I 21:10:44 InstallContribNbextensionsApp]\u001b[m Up to date: /home/volodya/.local/share/jupyter/nbextensions/gist_it/readme.md\n",
      "\u001b[32m[I 21:10:44 InstallContribNbextensionsApp]\u001b[m Up to date: /home/volodya/.local/share/jupyter/nbextensions/gist_it/gist_it.yaml\n",
      "\u001b[32m[I 21:10:44 InstallContribNbextensionsApp]\u001b[m - Validating: \u001b[32mOK\u001b[0m\n",
      "\u001b[32m[I 21:10:44 InstallContribNbextensionsApp]\u001b[m Installing /home/volodya/.local/lib/python3.10/site-packages/jupyter_contrib_nbextensions/nbextensions/varInspector -> varInspector\n",
      "\u001b[32m[I 21:10:44 InstallContribNbextensionsApp]\u001b[m Up to date: /home/volodya/.local/share/jupyter/nbextensions/varInspector/tablesorter_LICENSE.txt\n",
      "\u001b[32m[I 21:10:44 InstallContribNbextensionsApp]\u001b[m Up to date: /home/volodya/.local/share/jupyter/nbextensions/varInspector/main.js\n",
      "\u001b[32m[I 21:10:44 InstallContribNbextensionsApp]\u001b[m Up to date: /home/volodya/.local/share/jupyter/nbextensions/varInspector/var_list.r\n",
      "\u001b[32m[I 21:10:44 InstallContribNbextensionsApp]\u001b[m Up to date: /home/volodya/.local/share/jupyter/nbextensions/varInspector/jquery.tablesorter.min.js\n",
      "\u001b[32m[I 21:10:44 InstallContribNbextensionsApp]\u001b[m Up to date: /home/volodya/.local/share/jupyter/nbextensions/varInspector/README.md\n",
      "\u001b[32m[I 21:10:44 InstallContribNbextensionsApp]\u001b[m Up to date: /home/volodya/.local/share/jupyter/nbextensions/varInspector/main.css\n",
      "\u001b[32m[I 21:10:44 InstallContribNbextensionsApp]\u001b[m Up to date: /home/volodya/.local/share/jupyter/nbextensions/varInspector/varInspector.yaml\n",
      "\u001b[32m[I 21:10:44 InstallContribNbextensionsApp]\u001b[m Up to date: /home/volodya/.local/share/jupyter/nbextensions/varInspector/icon.png\n",
      "\u001b[32m[I 21:10:44 InstallContribNbextensionsApp]\u001b[m Up to date: /home/volodya/.local/share/jupyter/nbextensions/varInspector/var_list.py\n",
      "\u001b[32m[I 21:10:44 InstallContribNbextensionsApp]\u001b[m Up to date: /home/volodya/.local/share/jupyter/nbextensions/varInspector/demo.gif\n",
      "\u001b[32m[I 21:10:44 InstallContribNbextensionsApp]\u001b[m Up to date: /home/volodya/.local/share/jupyter/nbextensions/varInspector/__pycache__/var_list.cpython-310.pyc\n",
      "\u001b[32m[I 21:10:44 InstallContribNbextensionsApp]\u001b[m - Validating: \u001b[32mOK\u001b[0m\n",
      "\u001b[32m[I 21:10:44 InstallContribNbextensionsApp]\u001b[m Installing /home/volodya/.local/lib/python3.10/site-packages/jupyter_contrib_nbextensions/nbextensions/tree-filter -> tree-filter\n",
      "\u001b[32m[I 21:10:44 InstallContribNbextensionsApp]\u001b[m Up to date: /home/volodya/.local/share/jupyter/nbextensions/tree-filter/tree-filter.yaml\n",
      "\u001b[32m[I 21:10:44 InstallContribNbextensionsApp]\u001b[m Up to date: /home/volodya/.local/share/jupyter/nbextensions/tree-filter/index.js\n",
      "\u001b[32m[I 21:10:44 InstallContribNbextensionsApp]\u001b[m Up to date: /home/volodya/.local/share/jupyter/nbextensions/tree-filter/demo.gif\n",
      "\u001b[32m[I 21:10:44 InstallContribNbextensionsApp]\u001b[m Up to date: /home/volodya/.local/share/jupyter/nbextensions/tree-filter/readme.md\n",
      "\u001b[32m[I 21:10:44 InstallContribNbextensionsApp]\u001b[m - Validating: \u001b[32mOK\u001b[0m\n",
      "\u001b[32m[I 21:10:44 InstallContribNbextensionsApp]\u001b[m Installing /home/volodya/.local/lib/python3.10/site-packages/jupyter_contrib_nbextensions/nbextensions/livemdpreview -> livemdpreview\n",
      "\u001b[32m[I 21:10:44 InstallContribNbextensionsApp]\u001b[m Up to date: /home/volodya/.local/share/jupyter/nbextensions/livemdpreview/livemdpreview.js\n",
      "\u001b[32m[I 21:10:44 InstallContribNbextensionsApp]\u001b[m Up to date: /home/volodya/.local/share/jupyter/nbextensions/livemdpreview/livemdpreview.yml\n",
      "\u001b[32m[I 21:10:44 InstallContribNbextensionsApp]\u001b[m - Validating: \u001b[32mOK\u001b[0m\n",
      "\u001b[32m[I 21:10:44 InstallContribNbextensionsApp]\u001b[m Installing /home/volodya/.local/lib/python3.10/site-packages/jupyter_contrib_nbextensions/nbextensions/navigation-hotkeys -> navigation-hotkeys\n",
      "\u001b[32m[I 21:10:44 InstallContribNbextensionsApp]\u001b[m Up to date: /home/volodya/.local/share/jupyter/nbextensions/navigation-hotkeys/main.js\n",
      "\u001b[32m[I 21:10:44 InstallContribNbextensionsApp]\u001b[m Up to date: /home/volodya/.local/share/jupyter/nbextensions/navigation-hotkeys/hotkeys.yaml\n",
      "\u001b[32m[I 21:10:44 InstallContribNbextensionsApp]\u001b[m Up to date: /home/volodya/.local/share/jupyter/nbextensions/navigation-hotkeys/icon.png\n",
      "\u001b[32m[I 21:10:44 InstallContribNbextensionsApp]\u001b[m Up to date: /home/volodya/.local/share/jupyter/nbextensions/navigation-hotkeys/readme.md\n",
      "\u001b[32m[I 21:10:44 InstallContribNbextensionsApp]\u001b[m - Validating: \u001b[32mOK\u001b[0m\n",
      "\u001b[32m[I 21:10:44 InstallContribNbextensionsApp]\u001b[m Installing /home/volodya/.local/lib/python3.10/site-packages/jupyter_contrib_nbextensions/nbextensions/exercise -> exercise\n",
      "\u001b[32m[I 21:10:44 InstallContribNbextensionsApp]\u001b[m Up to date: /home/volodya/.local/share/jupyter/nbextensions/exercise/main.js\n",
      "\u001b[32m[I 21:10:44 InstallContribNbextensionsApp]\u001b[m Up to date: /home/volodya/.local/share/jupyter/nbextensions/exercise/history.md\n",
      "\u001b[32m[I 21:10:44 InstallContribNbextensionsApp]\u001b[m Up to date: /home/volodya/.local/share/jupyter/nbextensions/exercise/exercise.yaml\n",
      "\u001b[32m[I 21:10:44 InstallContribNbextensionsApp]\u001b[m Up to date: /home/volodya/.local/share/jupyter/nbextensions/exercise/main.css\n",
      "\u001b[32m[I 21:10:44 InstallContribNbextensionsApp]\u001b[m Up to date: /home/volodya/.local/share/jupyter/nbextensions/exercise/icon.png\n",
      "\u001b[32m[I 21:10:44 InstallContribNbextensionsApp]\u001b[m Up to date: /home/volodya/.local/share/jupyter/nbextensions/exercise/readme.md\n",
      "\u001b[32m[I 21:10:44 InstallContribNbextensionsApp]\u001b[m Up to date: /home/volodya/.local/share/jupyter/nbextensions/exercise/image.gif\n",
      "\u001b[32m[I 21:10:44 InstallContribNbextensionsApp]\u001b[m - Validating: \u001b[32mOK\u001b[0m\n",
      "\u001b[32m[I 21:10:44 InstallContribNbextensionsApp]\u001b[m Installing /home/volodya/.local/lib/python3.10/site-packages/jupyter_contrib_nbextensions/nbextensions/datestamper -> datestamper\n",
      "\u001b[32m[I 21:10:44 InstallContribNbextensionsApp]\u001b[m Up to date: /home/volodya/.local/share/jupyter/nbextensions/datestamper/main.js\n",
      "\u001b[32m[I 21:10:44 InstallContribNbextensionsApp]\u001b[m Up to date: /home/volodya/.local/share/jupyter/nbextensions/datestamper/main.yaml\n",
      "\u001b[32m[I 21:10:44 InstallContribNbextensionsApp]\u001b[m Up to date: /home/volodya/.local/share/jupyter/nbextensions/datestamper/icon.png\n",
      "\u001b[32m[I 21:10:44 InstallContribNbextensionsApp]\u001b[m Up to date: /home/volodya/.local/share/jupyter/nbextensions/datestamper/readme.md\n",
      "\u001b[32m[I 21:10:44 InstallContribNbextensionsApp]\u001b[m - Validating: \u001b[32mOK\u001b[0m\n",
      "\u001b[32m[I 21:10:44 InstallContribNbextensionsApp]\u001b[m Installing /home/volodya/.local/lib/python3.10/site-packages/jupyter_contrib_nbextensions/nbextensions/autoscroll -> autoscroll\n",
      "\u001b[32m[I 21:10:44 InstallContribNbextensionsApp]\u001b[m Up to date: /home/volodya/.local/share/jupyter/nbextensions/autoscroll/autoscroll.yaml\n",
      "\u001b[32m[I 21:10:44 InstallContribNbextensionsApp]\u001b[m Up to date: /home/volodya/.local/share/jupyter/nbextensions/autoscroll/main.js\n",
      "\u001b[32m[I 21:10:44 InstallContribNbextensionsApp]\u001b[m Up to date: /home/volodya/.local/share/jupyter/nbextensions/autoscroll/README.md\n",
      "\u001b[32m[I 21:10:44 InstallContribNbextensionsApp]\u001b[m Up to date: /home/volodya/.local/share/jupyter/nbextensions/autoscroll/icon.png\n",
      "\u001b[32m[I 21:10:44 InstallContribNbextensionsApp]\u001b[m - Validating: \u001b[32mOK\u001b[0m\n",
      "\u001b[32m[I 21:10:44 InstallContribNbextensionsApp]\u001b[m Installing /home/volodya/.local/lib/python3.10/site-packages/jupyter_contrib_nbextensions/nbextensions/ruler -> ruler\n",
      "\u001b[32m[I 21:10:44 InstallContribNbextensionsApp]\u001b[m Up to date: /home/volodya/.local/share/jupyter/nbextensions/ruler/ruler.yaml\n",
      "\u001b[32m[I 21:10:44 InstallContribNbextensionsApp]\u001b[m Up to date: /home/volodya/.local/share/jupyter/nbextensions/ruler/main.js\n",
      "\u001b[32m[I 21:10:44 InstallContribNbextensionsApp]\u001b[m Up to date: /home/volodya/.local/share/jupyter/nbextensions/ruler/ruler_editor.yaml\n",
      "\u001b[32m[I 21:10:44 InstallContribNbextensionsApp]\u001b[m Up to date: /home/volodya/.local/share/jupyter/nbextensions/ruler/edit.js\n",
      "\u001b[32m[I 21:10:44 InstallContribNbextensionsApp]\u001b[m Up to date: /home/volodya/.local/share/jupyter/nbextensions/ruler/icon.png\n",
      "\u001b[32m[I 21:10:44 InstallContribNbextensionsApp]\u001b[m Up to date: /home/volodya/.local/share/jupyter/nbextensions/ruler/readme.md\n",
      "\u001b[32m[I 21:10:44 InstallContribNbextensionsApp]\u001b[m - Validating: \u001b[32mOK\u001b[0m\n",
      "\u001b[32m[I 21:10:44 InstallContribNbextensionsApp]\u001b[m Installing /home/volodya/.local/lib/python3.10/site-packages/jupyter_contrib_nbextensions/nbextensions/ruler -> ruler\n",
      "\u001b[32m[I 21:10:44 InstallContribNbextensionsApp]\u001b[m Up to date: /home/volodya/.local/share/jupyter/nbextensions/ruler/ruler.yaml\n",
      "\u001b[32m[I 21:10:44 InstallContribNbextensionsApp]\u001b[m Up to date: /home/volodya/.local/share/jupyter/nbextensions/ruler/main.js\n",
      "\u001b[32m[I 21:10:44 InstallContribNbextensionsApp]\u001b[m Up to date: /home/volodya/.local/share/jupyter/nbextensions/ruler/ruler_editor.yaml\n",
      "\u001b[32m[I 21:10:44 InstallContribNbextensionsApp]\u001b[m Up to date: /home/volodya/.local/share/jupyter/nbextensions/ruler/edit.js\n",
      "\u001b[32m[I 21:10:44 InstallContribNbextensionsApp]\u001b[m Up to date: /home/volodya/.local/share/jupyter/nbextensions/ruler/icon.png\n",
      "\u001b[32m[I 21:10:44 InstallContribNbextensionsApp]\u001b[m Up to date: /home/volodya/.local/share/jupyter/nbextensions/ruler/readme.md\n",
      "\u001b[32m[I 21:10:44 InstallContribNbextensionsApp]\u001b[m - Validating: \u001b[32mOK\u001b[0m\n",
      "\u001b[32m[I 21:10:44 InstallContribNbextensionsApp]\u001b[m Installing /home/volodya/.local/lib/python3.10/site-packages/jupyter_contrib_nbextensions/nbextensions/help_panel -> help_panel\n",
      "\u001b[32m[I 21:10:44 InstallContribNbextensionsApp]\u001b[m Up to date: /home/volodya/.local/share/jupyter/nbextensions/help_panel/help_panel_ext.png\n",
      "\u001b[32m[I 21:10:44 InstallContribNbextensionsApp]\u001b[m Up to date: /home/volodya/.local/share/jupyter/nbextensions/help_panel/help_panel_ext_fullscreen.png\n",
      "\u001b[32m[I 21:10:44 InstallContribNbextensionsApp]\u001b[m Up to date: /home/volodya/.local/share/jupyter/nbextensions/help_panel/help_panel.js\n",
      "\u001b[32m[I 21:10:44 InstallContribNbextensionsApp]\u001b[m Up to date: /home/volodya/.local/share/jupyter/nbextensions/help_panel/help_panel.yaml\n",
      "\u001b[32m[I 21:10:44 InstallContribNbextensionsApp]\u001b[m Up to date: /home/volodya/.local/share/jupyter/nbextensions/help_panel/icon.png\n",
      "\u001b[32m[I 21:10:44 InstallContribNbextensionsApp]\u001b[m Up to date: /home/volodya/.local/share/jupyter/nbextensions/help_panel/help_panel.css\n",
      "\u001b[32m[I 21:10:44 InstallContribNbextensionsApp]\u001b[m Up to date: /home/volodya/.local/share/jupyter/nbextensions/help_panel/readme.md\n",
      "\u001b[32m[I 21:10:44 InstallContribNbextensionsApp]\u001b[m Up to date: /home/volodya/.local/share/jupyter/nbextensions/help_panel/img/handle-v.png\n",
      "\u001b[32m[I 21:10:44 InstallContribNbextensionsApp]\u001b[m - Validating: \u001b[32mOK\u001b[0m\n",
      "\u001b[32m[I 21:10:44 InstallContribNbextensionsApp]\u001b[m Installing /home/volodya/.local/lib/python3.10/site-packages/jupyter_contrib_nbextensions/nbextensions/skill -> skill\n",
      "\u001b[32m[I 21:10:44 InstallContribNbextensionsApp]\u001b[m Up to date: /home/volodya/.local/share/jupyter/nbextensions/skill/main.js\n",
      "\u001b[32m[I 21:10:44 InstallContribNbextensionsApp]\u001b[m Up to date: /home/volodya/.local/share/jupyter/nbextensions/skill/README.md\n",
      "\u001b[32m[I 21:10:44 InstallContribNbextensionsApp]\u001b[m Up to date: /home/volodya/.local/share/jupyter/nbextensions/skill/skill.yaml\n",
      "\u001b[32m[I 21:10:44 InstallContribNbextensionsApp]\u001b[m Up to date: /home/volodya/.local/share/jupyter/nbextensions/skill/skill.js\n",
      "\u001b[32m[I 21:10:44 InstallContribNbextensionsApp]\u001b[m - Validating: \u001b[32mOK\u001b[0m\n",
      "\u001b[32m[I 21:10:44 InstallContribNbextensionsApp]\u001b[m Installing /home/volodya/.local/lib/python3.10/site-packages/jupyter_contrib_nbextensions/nbextensions/equation-numbering -> equation-numbering\n",
      "\u001b[32m[I 21:10:44 InstallContribNbextensionsApp]\u001b[m Up to date: /home/volodya/.local/share/jupyter/nbextensions/equation-numbering/button.png\n",
      "\u001b[32m[I 21:10:44 InstallContribNbextensionsApp]\u001b[m Up to date: /home/volodya/.local/share/jupyter/nbextensions/equation-numbering/main.js\n",
      "\u001b[32m[I 21:10:44 InstallContribNbextensionsApp]\u001b[m Up to date: /home/volodya/.local/share/jupyter/nbextensions/equation-numbering/info.yaml\n",
      "\u001b[32m[I 21:10:44 InstallContribNbextensionsApp]\u001b[m Up to date: /home/volodya/.local/share/jupyter/nbextensions/equation-numbering/icon.png\n",
      "\u001b[32m[I 21:10:44 InstallContribNbextensionsApp]\u001b[m Up to date: /home/volodya/.local/share/jupyter/nbextensions/equation-numbering/readme.md\n",
      "\u001b[32m[I 21:10:44 InstallContribNbextensionsApp]\u001b[m - Validating: \u001b[32mOK\u001b[0m\n",
      "\u001b[32m[I 21:10:44 InstallContribNbextensionsApp]\u001b[m Installing /home/volodya/.local/lib/python3.10/site-packages/jupyter_contrib_nbextensions/nbextensions/comment-uncomment -> comment-uncomment\n",
      "\u001b[32m[I 21:10:44 InstallContribNbextensionsApp]\u001b[m Up to date: /home/volodya/.local/share/jupyter/nbextensions/comment-uncomment/comment-uncomment.yaml\n",
      "\u001b[32m[I 21:10:44 InstallContribNbextensionsApp]\u001b[m Up to date: /home/volodya/.local/share/jupyter/nbextensions/comment-uncomment/main.js\n",
      "\u001b[32m[I 21:10:44 InstallContribNbextensionsApp]\u001b[m Up to date: /home/volodya/.local/share/jupyter/nbextensions/comment-uncomment/icon.png\n",
      "\u001b[32m[I 21:10:44 InstallContribNbextensionsApp]\u001b[m Up to date: /home/volodya/.local/share/jupyter/nbextensions/comment-uncomment/readme.md\n",
      "\u001b[32m[I 21:10:44 InstallContribNbextensionsApp]\u001b[m - Validating: \u001b[32mOK\u001b[0m\n",
      "\u001b[32m[I 21:10:44 InstallContribNbextensionsApp]\u001b[m Installing /home/volodya/.local/lib/python3.10/site-packages/jupyter_contrib_nbextensions/nbextensions/contrib_nbextensions_help_item -> contrib_nbextensions_help_item\n",
      "\u001b[32m[I 21:10:44 InstallContribNbextensionsApp]\u001b[m Up to date: /home/volodya/.local/share/jupyter/nbextensions/contrib_nbextensions_help_item/main.js\n",
      "\u001b[32m[I 21:10:44 InstallContribNbextensionsApp]\u001b[m Up to date: /home/volodya/.local/share/jupyter/nbextensions/contrib_nbextensions_help_item/README.md\n",
      "\u001b[32m[I 21:10:44 InstallContribNbextensionsApp]\u001b[m Up to date: /home/volodya/.local/share/jupyter/nbextensions/contrib_nbextensions_help_item/contrib_nbextensions_help_item.yaml\n",
      "\u001b[32m[I 21:10:44 InstallContribNbextensionsApp]\u001b[m - Validating: \u001b[32mOK\u001b[0m\n",
      "\u001b[32m[I 21:10:44 InstallContribNbextensionsApp]\u001b[m Installing /home/volodya/.local/lib/python3.10/site-packages/jupyter_contrib_nbextensions/nbextensions/hide_input -> hide_input\n",
      "\u001b[32m[I 21:10:44 InstallContribNbextensionsApp]\u001b[m Up to date: /home/volodya/.local/share/jupyter/nbextensions/hide_input/main.js\n",
      "\u001b[32m[I 21:10:44 InstallContribNbextensionsApp]\u001b[m Up to date: /home/volodya/.local/share/jupyter/nbextensions/hide_input/icon.png\n",
      "\u001b[32m[I 21:10:44 InstallContribNbextensionsApp]\u001b[m Up to date: /home/volodya/.local/share/jupyter/nbextensions/hide_input/readme.md\n",
      "\u001b[32m[I 21:10:44 InstallContribNbextensionsApp]\u001b[m Up to date: /home/volodya/.local/share/jupyter/nbextensions/hide_input/hide-input.yaml\n",
      "\u001b[32m[I 21:10:44 InstallContribNbextensionsApp]\u001b[m - Validating: \u001b[32mOK\u001b[0m\n",
      "\u001b[32m[I 21:10:44 InstallContribNbextensionsApp]\u001b[m Installing /home/volodya/.local/lib/python3.10/site-packages/jupyter_contrib_nbextensions/nbextensions/select_keymap -> select_keymap\n",
      "\u001b[32m[I 21:10:44 InstallContribNbextensionsApp]\u001b[m Up to date: /home/volodya/.local/share/jupyter/nbextensions/select_keymap/select_keymap.png\n",
      "\u001b[32m[I 21:10:44 InstallContribNbextensionsApp]\u001b[m Up to date: /home/volodya/.local/share/jupyter/nbextensions/select_keymap/main.js\n",
      "\u001b[32m[I 21:10:44 InstallContribNbextensionsApp]\u001b[m Up to date: /home/volodya/.local/share/jupyter/nbextensions/select_keymap/README.md\n",
      "\u001b[32m[I 21:10:44 InstallContribNbextensionsApp]\u001b[m Up to date: /home/volodya/.local/share/jupyter/nbextensions/select_keymap/select_keymap.yaml\n",
      "\u001b[32m[I 21:10:44 InstallContribNbextensionsApp]\u001b[m - Validating: \u001b[32mOK\u001b[0m\n",
      "\u001b[32m[I 21:10:44 InstallContribNbextensionsApp]\u001b[m Installing /home/volodya/.local/lib/python3.10/site-packages/jupyter_contrib_nbextensions/nbextensions/scroll_down -> scroll_down\n",
      "\u001b[32m[I 21:10:44 InstallContribNbextensionsApp]\u001b[m Up to date: /home/volodya/.local/share/jupyter/nbextensions/scroll_down/main.js\n",
      "\u001b[32m[I 21:10:44 InstallContribNbextensionsApp]\u001b[m Up to date: /home/volodya/.local/share/jupyter/nbextensions/scroll_down/icon.png\n",
      "\u001b[32m[I 21:10:44 InstallContribNbextensionsApp]\u001b[m Up to date: /home/volodya/.local/share/jupyter/nbextensions/scroll_down/config.yaml\n",
      "\u001b[32m[I 21:10:44 InstallContribNbextensionsApp]\u001b[m Up to date: /home/volodya/.local/share/jupyter/nbextensions/scroll_down/readme.md\n",
      "\u001b[32m[I 21:10:44 InstallContribNbextensionsApp]\u001b[m - Validating: \u001b[32mOK\u001b[0m\n",
      "\u001b[32m[I 21:10:44 InstallContribNbextensionsApp]\u001b[m Installing /home/volodya/.local/lib/python3.10/site-packages/jupyter_contrib_nbextensions/nbextensions/exercise2 -> exercise2\n",
      "\u001b[32m[I 21:10:44 InstallContribNbextensionsApp]\u001b[m Up to date: /home/volodya/.local/share/jupyter/nbextensions/exercise2/exercise2.yaml\n",
      "\u001b[32m[I 21:10:44 InstallContribNbextensionsApp]\u001b[m Up to date: /home/volodya/.local/share/jupyter/nbextensions/exercise2/main.js\n",
      "\u001b[32m[I 21:10:44 InstallContribNbextensionsApp]\u001b[m Up to date: /home/volodya/.local/share/jupyter/nbextensions/exercise2/main.css\n",
      "\u001b[32m[I 21:10:44 InstallContribNbextensionsApp]\u001b[m Up to date: /home/volodya/.local/share/jupyter/nbextensions/exercise2/icon.png\n",
      "\u001b[32m[I 21:10:44 InstallContribNbextensionsApp]\u001b[m Up to date: /home/volodya/.local/share/jupyter/nbextensions/exercise2/readme.md\n",
      "\u001b[32m[I 21:10:44 InstallContribNbextensionsApp]\u001b[m Up to date: /home/volodya/.local/share/jupyter/nbextensions/exercise2/image.gif\n",
      "\u001b[32m[I 21:10:44 InstallContribNbextensionsApp]\u001b[m - Validating: \u001b[32mOK\u001b[0m\n",
      "\u001b[32m[I 21:10:44 InstallContribNbextensionsApp]\u001b[m Installing /home/volodya/.local/lib/python3.10/site-packages/jupyter_contrib_nbextensions/nbextensions/snippets_menu -> snippets_menu\n",
      "\u001b[32m[I 21:10:44 InstallContribNbextensionsApp]\u001b[m Up to date: /home/volodya/.local/share/jupyter/nbextensions/snippets_menu/thumbnail.png\n",
      "\u001b[32m[I 21:10:44 InstallContribNbextensionsApp]\u001b[m Up to date: /home/volodya/.local/share/jupyter/nbextensions/snippets_menu/snippets_menu.css\n",
      "\u001b[32m[I 21:10:44 InstallContribNbextensionsApp]\u001b[m Up to date: /home/volodya/.local/share/jupyter/nbextensions/snippets_menu/main.js\n",
      "\u001b[32m[I 21:10:44 InstallContribNbextensionsApp]\u001b[m Up to date: /home/volodya/.local/share/jupyter/nbextensions/snippets_menu/examples_for_custom.js\n",
      "\u001b[32m[I 21:10:44 InstallContribNbextensionsApp]\u001b[m Up to date: /home/volodya/.local/share/jupyter/nbextensions/snippets_menu/screenshot3.png\n",
      "\u001b[32m[I 21:10:44 InstallContribNbextensionsApp]\u001b[m Up to date: /home/volodya/.local/share/jupyter/nbextensions/snippets_menu/snippets_submenu_markdown.js\n",
      "\u001b[32m[I 21:10:44 InstallContribNbextensionsApp]\u001b[m Up to date: /home/volodya/.local/share/jupyter/nbextensions/snippets_menu/screenshot2.png\n",
      "\u001b[32m[I 21:10:44 InstallContribNbextensionsApp]\u001b[m Up to date: /home/volodya/.local/share/jupyter/nbextensions/snippets_menu/config.yaml\n",
      "\u001b[32m[I 21:10:44 InstallContribNbextensionsApp]\u001b[m Up to date: /home/volodya/.local/share/jupyter/nbextensions/snippets_menu/screenshot1.png\n",
      "\u001b[32m[I 21:10:44 InstallContribNbextensionsApp]\u001b[m Up to date: /home/volodya/.local/share/jupyter/nbextensions/snippets_menu/readme.md\n",
      "\u001b[32m[I 21:10:44 InstallContribNbextensionsApp]\u001b[m Up to date: /home/volodya/.local/share/jupyter/nbextensions/snippets_menu/snippets_submenu_python.js\n",
      "\u001b[32m[I 21:10:44 InstallContribNbextensionsApp]\u001b[m Up to date: /home/volodya/.local/share/jupyter/nbextensions/snippets_menu/snippets_submenus_python/python.js\n",
      "\u001b[32m[I 21:10:44 InstallContribNbextensionsApp]\u001b[m Up to date: /home/volodya/.local/share/jupyter/nbextensions/snippets_menu/snippets_submenus_python/numpy_polynomial.js\n",
      "\u001b[32m[I 21:10:44 InstallContribNbextensionsApp]\u001b[m Up to date: /home/volodya/.local/share/jupyter/nbextensions/snippets_menu/snippets_submenus_python/sympy.js\n",
      "\u001b[32m[I 21:10:44 InstallContribNbextensionsApp]\u001b[m Up to date: /home/volodya/.local/share/jupyter/nbextensions/snippets_menu/snippets_submenus_python/scipy_special.js\n",
      "\u001b[32m[I 21:10:44 InstallContribNbextensionsApp]\u001b[m Up to date: /home/volodya/.local/share/jupyter/nbextensions/snippets_menu/snippets_submenus_python/scipy.js\n",
      "\u001b[32m[I 21:10:44 InstallContribNbextensionsApp]\u001b[m Up to date: /home/volodya/.local/share/jupyter/nbextensions/snippets_menu/snippets_submenus_python/astropy.js\n",
      "\u001b[32m[I 21:10:44 InstallContribNbextensionsApp]\u001b[m Up to date: /home/volodya/.local/share/jupyter/nbextensions/snippets_menu/snippets_submenus_python/numba.js\n",
      "\u001b[32m[I 21:10:44 InstallContribNbextensionsApp]\u001b[m Up to date: /home/volodya/.local/share/jupyter/nbextensions/snippets_menu/snippets_submenus_python/h5py.js\n",
      "\u001b[32m[I 21:10:44 InstallContribNbextensionsApp]\u001b[m Up to date: /home/volodya/.local/share/jupyter/nbextensions/snippets_menu/snippets_submenus_python/sympy_functions.js\n",
      "\u001b[32m[I 21:10:44 InstallContribNbextensionsApp]\u001b[m Up to date: /home/volodya/.local/share/jupyter/nbextensions/snippets_menu/snippets_submenus_python/pandas.js\n",
      "\u001b[32m[I 21:10:44 InstallContribNbextensionsApp]\u001b[m Up to date: /home/volodya/.local/share/jupyter/nbextensions/snippets_menu/snippets_submenus_python/sympy_assumptions.js\n",
      "\u001b[32m[I 21:10:44 InstallContribNbextensionsApp]\u001b[m Up to date: /home/volodya/.local/share/jupyter/nbextensions/snippets_menu/snippets_submenus_python/numpy.js\n",
      "\u001b[32m[I 21:10:44 InstallContribNbextensionsApp]\u001b[m Up to date: /home/volodya/.local/share/jupyter/nbextensions/snippets_menu/snippets_submenus_python/python_regex.js\n",
      "\u001b[32m[I 21:10:44 InstallContribNbextensionsApp]\u001b[m Up to date: /home/volodya/.local/share/jupyter/nbextensions/snippets_menu/snippets_submenus_python/matplotlib.js\n",
      "\u001b[32m[I 21:10:44 InstallContribNbextensionsApp]\u001b[m Up to date: /home/volodya/.local/share/jupyter/nbextensions/snippets_menu/snippets_submenus_python/scipy_constants.js\n",
      "\u001b[32m[I 21:10:44 InstallContribNbextensionsApp]\u001b[m Up to date: /home/volodya/.local/share/jupyter/nbextensions/snippets_menu/snippets_submenus_python/numpy_ufuncs.js\n",
      "\u001b[32m[I 21:10:44 InstallContribNbextensionsApp]\u001b[m - Validating: \u001b[32mOK\u001b[0m\n",
      "\u001b[32m[I 21:10:44 InstallContribNbextensionsApp]\u001b[m Installing /home/volodya/.local/lib/python3.10/site-packages/jupyter_contrib_nbextensions/nbextensions/execution_dependencies -> execution_dependencies\n",
      "\u001b[32m[I 21:10:44 InstallContribNbextensionsApp]\u001b[m Up to date: /home/volodya/.local/share/jupyter/nbextensions/execution_dependencies/README.md\n",
      "\u001b[32m[I 21:10:44 InstallContribNbextensionsApp]\u001b[m Up to date: /home/volodya/.local/share/jupyter/nbextensions/execution_dependencies/execution_dependencies.js\n",
      "\u001b[32m[I 21:10:44 InstallContribNbextensionsApp]\u001b[m Up to date: /home/volodya/.local/share/jupyter/nbextensions/execution_dependencies/execution_dependencies.yml\n",
      "\u001b[32m[I 21:10:44 InstallContribNbextensionsApp]\u001b[m - Validating: \u001b[32mOK\u001b[0m\n",
      "\u001b[32m[I 21:10:44 InstallContribNbextensionsApp]\u001b[m Installing /home/volodya/.local/lib/python3.10/site-packages/jupyter_contrib_nbextensions/nbextensions/snippets -> snippets\n",
      "\u001b[32m[I 21:10:44 InstallContribNbextensionsApp]\u001b[m Up to date: /home/volodya/.local/share/jupyter/nbextensions/snippets/snippets-demo.gif\n",
      "\u001b[32m[I 21:10:44 InstallContribNbextensionsApp]\u001b[m Up to date: /home/volodya/.local/share/jupyter/nbextensions/snippets/main.js\n",
      "\u001b[32m[I 21:10:44 InstallContribNbextensionsApp]\u001b[m Up to date: /home/volodya/.local/share/jupyter/nbextensions/snippets/README.md\n",
      "\u001b[32m[I 21:10:44 InstallContribNbextensionsApp]\u001b[m Up to date: /home/volodya/.local/share/jupyter/nbextensions/snippets/snippets.json\n",
      "\u001b[32m[I 21:10:44 InstallContribNbextensionsApp]\u001b[m Up to date: /home/volodya/.local/share/jupyter/nbextensions/snippets/snippets.yaml\n",
      "\u001b[32m[I 21:10:44 InstallContribNbextensionsApp]\u001b[m - Validating: \u001b[32mOK\u001b[0m\n",
      "\u001b[32m[I 21:10:44 InstallContribNbextensionsApp]\u001b[m Installing /home/volodya/.local/lib/python3.10/site-packages/jupyter_contrib_nbextensions/nbextensions/autosavetime -> autosavetime\n",
      "\u001b[32m[I 21:10:44 InstallContribNbextensionsApp]\u001b[m Up to date: /home/volodya/.local/share/jupyter/nbextensions/autosavetime/main.js\n",
      "\u001b[32m[I 21:10:44 InstallContribNbextensionsApp]\u001b[m Up to date: /home/volodya/.local/share/jupyter/nbextensions/autosavetime/README.md\n",
      "\u001b[32m[I 21:10:44 InstallContribNbextensionsApp]\u001b[m Up to date: /home/volodya/.local/share/jupyter/nbextensions/autosavetime/autosavetime.yaml\n",
      "\u001b[32m[I 21:10:44 InstallContribNbextensionsApp]\u001b[m Up to date: /home/volodya/.local/share/jupyter/nbextensions/autosavetime/icon.png\n",
      "\u001b[32m[I 21:10:44 InstallContribNbextensionsApp]\u001b[m - Validating: \u001b[32mOK\u001b[0m\n",
      "\u001b[32m[I 21:10:44 InstallContribNbextensionsApp]\u001b[m Installing /home/volodya/.local/lib/python3.10/site-packages/jupyter_contrib_nbextensions/nbextensions/rubberband -> rubberband\n",
      "\u001b[32m[I 21:10:44 InstallContribNbextensionsApp]\u001b[m Up to date: /home/volodya/.local/share/jupyter/nbextensions/rubberband/rubberband.yaml\n",
      "\u001b[32m[I 21:10:44 InstallContribNbextensionsApp]\u001b[m Up to date: /home/volodya/.local/share/jupyter/nbextensions/rubberband/main.js\n",
      "\u001b[32m[I 21:10:44 InstallContribNbextensionsApp]\u001b[m Up to date: /home/volodya/.local/share/jupyter/nbextensions/rubberband/main.css\n",
      "\u001b[32m[I 21:10:44 InstallContribNbextensionsApp]\u001b[m Up to date: /home/volodya/.local/share/jupyter/nbextensions/rubberband/icon.png\n",
      "\u001b[32m[I 21:10:44 InstallContribNbextensionsApp]\u001b[m Up to date: /home/volodya/.local/share/jupyter/nbextensions/rubberband/readme.md\n",
      "\u001b[32m[I 21:10:44 InstallContribNbextensionsApp]\u001b[m - Validating: \u001b[32mOK\u001b[0m\n",
      "\u001b[32m[I 21:10:44 InstallContribNbextensionsApp]\u001b[m Installing /home/volodya/.local/lib/python3.10/site-packages/jupyter_contrib_nbextensions/nbextensions/init_cell -> init_cell\n",
      "\u001b[32m[I 21:10:44 InstallContribNbextensionsApp]\u001b[m Up to date: /home/volodya/.local/share/jupyter/nbextensions/init_cell/init_cell.yaml\n",
      "\u001b[32m[I 21:10:44 InstallContribNbextensionsApp]\u001b[m Up to date: /home/volodya/.local/share/jupyter/nbextensions/init_cell/main.js\n",
      "\u001b[32m[I 21:10:44 InstallContribNbextensionsApp]\u001b[m Up to date: /home/volodya/.local/share/jupyter/nbextensions/init_cell/cell_toolbar_menu.png\n",
      "\u001b[32m[I 21:10:44 InstallContribNbextensionsApp]\u001b[m Up to date: /home/volodya/.local/share/jupyter/nbextensions/init_cell/README.md\n",
      "\u001b[32m[I 21:10:44 InstallContribNbextensionsApp]\u001b[m Up to date: /home/volodya/.local/share/jupyter/nbextensions/init_cell/icon.png\n",
      "\u001b[32m[I 21:10:44 InstallContribNbextensionsApp]\u001b[m - Validating: \u001b[32mOK\u001b[0m\n",
      "\u001b[32m[I 21:10:44 InstallContribNbextensionsApp]\u001b[m Installing /home/volodya/.local/lib/python3.10/site-packages/jupyter_contrib_nbextensions/nbextensions/qtconsole -> qtconsole\n",
      "\u001b[32m[I 21:10:44 InstallContribNbextensionsApp]\u001b[m Up to date: /home/volodya/.local/share/jupyter/nbextensions/qtconsole/README.md\n",
      "\u001b[32m[I 21:10:44 InstallContribNbextensionsApp]\u001b[m Up to date: /home/volodya/.local/share/jupyter/nbextensions/qtconsole/qtconsole.yaml\n",
      "\u001b[32m[I 21:10:44 InstallContribNbextensionsApp]\u001b[m Up to date: /home/volodya/.local/share/jupyter/nbextensions/qtconsole/qtconsole.js\n",
      "\u001b[32m[I 21:10:44 InstallContribNbextensionsApp]\u001b[m - Validating: \u001b[32mOK\u001b[0m\n",
      "\u001b[32m[I 21:10:44 InstallContribNbextensionsApp]\u001b[m Installing /home/volodya/.local/lib/python3.10/site-packages/jupyter_contrib_nbextensions/nbextensions/hide_header -> hide_header\n",
      "\u001b[32m[I 21:10:44 InstallContribNbextensionsApp]\u001b[m Up to date: /home/volodya/.local/share/jupyter/nbextensions/hide_header/main.js\n",
      "\u001b[32m[I 21:10:44 InstallContribNbextensionsApp]\u001b[m Up to date: /home/volodya/.local/share/jupyter/nbextensions/hide_header/README.md\n",
      "\u001b[32m[I 21:10:44 InstallContribNbextensionsApp]\u001b[m Up to date: /home/volodya/.local/share/jupyter/nbextensions/hide_header/hide_header.yaml\n",
      "\u001b[32m[I 21:10:44 InstallContribNbextensionsApp]\u001b[m - Validating: \u001b[32mOK\u001b[0m\n",
      "\u001b[32m[I 21:10:44 InstallContribNbextensionsApp]\u001b[m Installing /home/volodya/.local/lib/python3.10/site-packages/jupyter_contrib_nbextensions/nbextensions/codemirror_mode_extensions -> codemirror_mode_extensions\n",
      "\u001b[32m[I 21:10:44 InstallContribNbextensionsApp]\u001b[m Up to date: /home/volodya/.local/share/jupyter/nbextensions/codemirror_mode_extensions/main.js\n",
      "\u001b[32m[I 21:10:44 InstallContribNbextensionsApp]\u001b[m Up to date: /home/volodya/.local/share/jupyter/nbextensions/codemirror_mode_extensions/codemirror_mode_extensions.yaml\n",
      "\u001b[32m[I 21:10:44 InstallContribNbextensionsApp]\u001b[m - Validating: \u001b[32mOK\u001b[0m\n",
      "\u001b[32m[I 21:10:44 InstallContribNbextensionsApp]\u001b[m Installing /home/volodya/.local/lib/python3.10/site-packages/jupyter_contrib_nbextensions/nbextensions/cell_filter -> cell_filter\n",
      "\u001b[32m[I 21:10:44 InstallContribNbextensionsApp]\u001b[m Up to date: /home/volodya/.local/share/jupyter/nbextensions/cell_filter/cell_filter.js\n",
      "\u001b[32m[I 21:10:44 InstallContribNbextensionsApp]\u001b[m Up to date: /home/volodya/.local/share/jupyter/nbextensions/cell_filter/README.md\n",
      "\u001b[32m[I 21:10:44 InstallContribNbextensionsApp]\u001b[m Up to date: /home/volodya/.local/share/jupyter/nbextensions/cell_filter/cell_filter.yml\n",
      "\u001b[32m[I 21:10:44 InstallContribNbextensionsApp]\u001b[m - Validating: \u001b[32mOK\u001b[0m\n",
      "\u001b[32m[I 21:10:44 InstallContribNbextensionsApp]\u001b[m Installing /home/volodya/.local/lib/python3.10/site-packages/jupyter_contrib_nbextensions/nbextensions/python-markdown -> python-markdown\n",
      "\u001b[32m[I 21:10:44 InstallContribNbextensionsApp]\u001b[m Up to date: /home/volodya/.local/share/jupyter/nbextensions/python-markdown/python-markdown.png\n",
      "\u001b[32m[I 21:10:44 InstallContribNbextensionsApp]\u001b[m Up to date: /home/volodya/.local/share/jupyter/nbextensions/python-markdown/python-markdown.yaml\n",
      "\u001b[32m[I 21:10:44 InstallContribNbextensionsApp]\u001b[m Up to date: /home/volodya/.local/share/jupyter/nbextensions/python-markdown/main.js\n",
      "\u001b[32m[I 21:10:44 InstallContribNbextensionsApp]\u001b[m Up to date: /home/volodya/.local/share/jupyter/nbextensions/python-markdown/python-markdown-pre.png\n",
      "\u001b[32m[I 21:10:44 InstallContribNbextensionsApp]\u001b[m Up to date: /home/volodya/.local/share/jupyter/nbextensions/python-markdown/trusted.png\n",
      "\u001b[32m[I 21:10:44 InstallContribNbextensionsApp]\u001b[m Up to date: /home/volodya/.local/share/jupyter/nbextensions/python-markdown/main.css\n",
      "\u001b[32m[I 21:10:44 InstallContribNbextensionsApp]\u001b[m Up to date: /home/volodya/.local/share/jupyter/nbextensions/python-markdown/python-markdown-post.png\n",
      "\u001b[32m[I 21:10:44 InstallContribNbextensionsApp]\u001b[m Up to date: /home/volodya/.local/share/jupyter/nbextensions/python-markdown/readme.md\n",
      "\u001b[32m[I 21:10:44 InstallContribNbextensionsApp]\u001b[m Up to date: /home/volodya/.local/share/jupyter/nbextensions/python-markdown/untrusted.png\n",
      "\u001b[32m[I 21:10:44 InstallContribNbextensionsApp]\u001b[m - Validating: \u001b[32mOK\u001b[0m\n",
      "\u001b[32m[I 21:10:44 InstallContribNbextensionsApp]\u001b[m Installing /home/volodya/.local/lib/python3.10/site-packages/jupyter_contrib_nbextensions/nbextensions/skip-traceback -> skip-traceback\n",
      "\u001b[32m[I 21:10:44 InstallContribNbextensionsApp]\u001b[m Up to date: /home/volodya/.local/share/jupyter/nbextensions/skip-traceback/skip-traceback.png\n",
      "\u001b[32m[I 21:10:44 InstallContribNbextensionsApp]\u001b[m Up to date: /home/volodya/.local/share/jupyter/nbextensions/skip-traceback/main.js\n",
      "\u001b[32m[I 21:10:44 InstallContribNbextensionsApp]\u001b[m Up to date: /home/volodya/.local/share/jupyter/nbextensions/skip-traceback/icon.png\n",
      "\u001b[32m[I 21:10:44 InstallContribNbextensionsApp]\u001b[m Up to date: /home/volodya/.local/share/jupyter/nbextensions/skip-traceback/readme.md\n",
      "\u001b[32m[I 21:10:44 InstallContribNbextensionsApp]\u001b[m Up to date: /home/volodya/.local/share/jupyter/nbextensions/skip-traceback/skip-traceback.yaml\n",
      "\u001b[32m[I 21:10:44 InstallContribNbextensionsApp]\u001b[m Up to date: /home/volodya/.local/share/jupyter/nbextensions/skip-traceback/traceback.png\n",
      "\u001b[32m[I 21:10:44 InstallContribNbextensionsApp]\u001b[m - Validating: \u001b[32mOK\u001b[0m\n",
      "\u001b[32m[I 21:10:44 InstallContribNbextensionsApp]\u001b[m Installing /home/volodya/.local/lib/python3.10/site-packages/jupyter_contrib_nbextensions/nbextensions/printview -> printview\n",
      "\u001b[32m[I 21:10:44 InstallContribNbextensionsApp]\u001b[m Up to date: /home/volodya/.local/share/jupyter/nbextensions/printview/main.js\n",
      "\u001b[32m[I 21:10:44 InstallContribNbextensionsApp]\u001b[m Up to date: /home/volodya/.local/share/jupyter/nbextensions/printview/printview.yaml\n",
      "\u001b[32m[I 21:10:44 InstallContribNbextensionsApp]\u001b[m Up to date: /home/volodya/.local/share/jupyter/nbextensions/printview/printview-button.png\n",
      "\u001b[32m[I 21:10:44 InstallContribNbextensionsApp]\u001b[m Up to date: /home/volodya/.local/share/jupyter/nbextensions/printview/icon.png\n",
      "\u001b[32m[I 21:10:44 InstallContribNbextensionsApp]\u001b[m Up to date: /home/volodya/.local/share/jupyter/nbextensions/printview/readme.md\n",
      "\u001b[32m[I 21:10:44 InstallContribNbextensionsApp]\u001b[m - Validating: \u001b[32mOK\u001b[0m\n",
      "\u001b[32m[I 21:10:44 InstallContribNbextensionsApp]\u001b[m Installing /home/volodya/.local/lib/python3.10/site-packages/jupyter_contrib_nbextensions/nbextensions/notify -> notify\n",
      "\u001b[32m[I 21:10:44 InstallContribNbextensionsApp]\u001b[m Up to date: /home/volodya/.local/share/jupyter/nbextensions/notify/notify.yaml\n",
      "\u001b[32m[I 21:10:44 InstallContribNbextensionsApp]\u001b[m Up to date: /home/volodya/.local/share/jupyter/nbextensions/notify/notify.mp3\n",
      "\u001b[32m[I 21:10:44 InstallContribNbextensionsApp]\u001b[m Up to date: /home/volodya/.local/share/jupyter/nbextensions/notify/notification.png\n",
      "\u001b[32m[I 21:10:44 InstallContribNbextensionsApp]\u001b[m Up to date: /home/volodya/.local/share/jupyter/nbextensions/notify/notify.js\n",
      "\u001b[32m[I 21:10:44 InstallContribNbextensionsApp]\u001b[m Up to date: /home/volodya/.local/share/jupyter/nbextensions/notify/readme.md\n",
      "\u001b[32m[I 21:10:44 InstallContribNbextensionsApp]\u001b[m - Validating: \u001b[32mOK\u001b[0m\n",
      "\u001b[32m[I 21:10:44 InstallContribNbextensionsApp]\u001b[m Installing /home/volodya/.local/lib/python3.10/site-packages/jupyter_contrib_nbextensions/nbextensions/codefolding -> codefolding\n",
      "\u001b[32m[I 21:10:44 InstallContribNbextensionsApp]\u001b[m Up to date: /home/volodya/.local/share/jupyter/nbextensions/codefolding/codefolding_editor.png\n",
      "\u001b[32m[I 21:10:44 InstallContribNbextensionsApp]\u001b[m Up to date: /home/volodya/.local/share/jupyter/nbextensions/codefolding/codefolding_indent_folded_1.png\n",
      "\u001b[32m[I 21:10:44 InstallContribNbextensionsApp]\u001b[m Up to date: /home/volodya/.local/share/jupyter/nbextensions/codefolding/magic-unfolded.png\n",
      "\u001b[32m[I 21:10:44 InstallContribNbextensionsApp]\u001b[m Up to date: /home/volodya/.local/share/jupyter/nbextensions/codefolding/magic-folded.png\n",
      "\u001b[32m[I 21:10:44 InstallContribNbextensionsApp]\u001b[m Up to date: /home/volodya/.local/share/jupyter/nbextensions/codefolding/main.js\n",
      "\u001b[32m[I 21:10:44 InstallContribNbextensionsApp]\u001b[m Up to date: /home/volodya/.local/share/jupyter/nbextensions/codefolding/codefolding_indent_unfolded.png\n",
      "\u001b[32m[I 21:10:44 InstallContribNbextensionsApp]\u001b[m Up to date: /home/volodya/.local/share/jupyter/nbextensions/codefolding/edit.js\n",
      "\u001b[32m[I 21:10:44 InstallContribNbextensionsApp]\u001b[m Up to date: /home/volodya/.local/share/jupyter/nbextensions/codefolding/codefolding_firstline_folded.png\n",
      "\u001b[32m[I 21:10:44 InstallContribNbextensionsApp]\u001b[m Up to date: /home/volodya/.local/share/jupyter/nbextensions/codefolding/foldgutter.css\n",
      "\u001b[32m[I 21:10:44 InstallContribNbextensionsApp]\u001b[m Up to date: /home/volodya/.local/share/jupyter/nbextensions/codefolding/magic-fold.js\n",
      "\u001b[32m[I 21:10:44 InstallContribNbextensionsApp]\u001b[m Up to date: /home/volodya/.local/share/jupyter/nbextensions/codefolding/codefolding.yaml\n",
      "\u001b[32m[I 21:10:44 InstallContribNbextensionsApp]\u001b[m Up to date: /home/volodya/.local/share/jupyter/nbextensions/codefolding/firstline-fold.js\n",
      "\u001b[32m[I 21:10:44 InstallContribNbextensionsApp]\u001b[m Up to date: /home/volodya/.local/share/jupyter/nbextensions/codefolding/codefolding_firstline_unfolded.png\n",
      "\u001b[32m[I 21:10:44 InstallContribNbextensionsApp]\u001b[m Up to date: /home/volodya/.local/share/jupyter/nbextensions/codefolding/icon.png\n",
      "\u001b[32m[I 21:10:44 InstallContribNbextensionsApp]\u001b[m Up to date: /home/volodya/.local/share/jupyter/nbextensions/codefolding/codefolding_editor.yaml\n",
      "\u001b[32m[I 21:10:44 InstallContribNbextensionsApp]\u001b[m Up to date: /home/volodya/.local/share/jupyter/nbextensions/codefolding/codefolding_indent_folded_2.png\n",
      "\u001b[32m[I 21:10:44 InstallContribNbextensionsApp]\u001b[m Up to date: /home/volodya/.local/share/jupyter/nbextensions/codefolding/readme.md\n",
      "\u001b[32m[I 21:10:44 InstallContribNbextensionsApp]\u001b[m - Validating: \u001b[32mOK\u001b[0m\n",
      "\u001b[32m[I 21:10:44 InstallContribNbextensionsApp]\u001b[m Installing /home/volodya/.local/lib/python3.10/site-packages/jupyter_contrib_nbextensions/nbextensions/codefolding -> codefolding\n",
      "\u001b[32m[I 21:10:44 InstallContribNbextensionsApp]\u001b[m Up to date: /home/volodya/.local/share/jupyter/nbextensions/codefolding/codefolding_editor.png\n",
      "\u001b[32m[I 21:10:44 InstallContribNbextensionsApp]\u001b[m Up to date: /home/volodya/.local/share/jupyter/nbextensions/codefolding/codefolding_indent_folded_1.png\n",
      "\u001b[32m[I 21:10:44 InstallContribNbextensionsApp]\u001b[m Up to date: /home/volodya/.local/share/jupyter/nbextensions/codefolding/magic-unfolded.png\n",
      "\u001b[32m[I 21:10:44 InstallContribNbextensionsApp]\u001b[m Up to date: /home/volodya/.local/share/jupyter/nbextensions/codefolding/magic-folded.png\n",
      "\u001b[32m[I 21:10:44 InstallContribNbextensionsApp]\u001b[m Up to date: /home/volodya/.local/share/jupyter/nbextensions/codefolding/main.js\n",
      "\u001b[32m[I 21:10:44 InstallContribNbextensionsApp]\u001b[m Up to date: /home/volodya/.local/share/jupyter/nbextensions/codefolding/codefolding_indent_unfolded.png\n",
      "\u001b[32m[I 21:10:44 InstallContribNbextensionsApp]\u001b[m Up to date: /home/volodya/.local/share/jupyter/nbextensions/codefolding/edit.js\n",
      "\u001b[32m[I 21:10:44 InstallContribNbextensionsApp]\u001b[m Up to date: /home/volodya/.local/share/jupyter/nbextensions/codefolding/codefolding_firstline_folded.png\n",
      "\u001b[32m[I 21:10:44 InstallContribNbextensionsApp]\u001b[m Up to date: /home/volodya/.local/share/jupyter/nbextensions/codefolding/foldgutter.css\n",
      "\u001b[32m[I 21:10:44 InstallContribNbextensionsApp]\u001b[m Up to date: /home/volodya/.local/share/jupyter/nbextensions/codefolding/magic-fold.js\n",
      "\u001b[32m[I 21:10:44 InstallContribNbextensionsApp]\u001b[m Up to date: /home/volodya/.local/share/jupyter/nbextensions/codefolding/codefolding.yaml\n",
      "\u001b[32m[I 21:10:44 InstallContribNbextensionsApp]\u001b[m Up to date: /home/volodya/.local/share/jupyter/nbextensions/codefolding/firstline-fold.js\n",
      "\u001b[32m[I 21:10:44 InstallContribNbextensionsApp]\u001b[m Up to date: /home/volodya/.local/share/jupyter/nbextensions/codefolding/codefolding_firstline_unfolded.png\n",
      "\u001b[32m[I 21:10:44 InstallContribNbextensionsApp]\u001b[m Up to date: /home/volodya/.local/share/jupyter/nbextensions/codefolding/icon.png\n",
      "\u001b[32m[I 21:10:44 InstallContribNbextensionsApp]\u001b[m Up to date: /home/volodya/.local/share/jupyter/nbextensions/codefolding/codefolding_editor.yaml\n",
      "\u001b[32m[I 21:10:44 InstallContribNbextensionsApp]\u001b[m Up to date: /home/volodya/.local/share/jupyter/nbextensions/codefolding/codefolding_indent_folded_2.png\n",
      "\u001b[32m[I 21:10:44 InstallContribNbextensionsApp]\u001b[m Up to date: /home/volodya/.local/share/jupyter/nbextensions/codefolding/readme.md\n",
      "\u001b[32m[I 21:10:44 InstallContribNbextensionsApp]\u001b[m - Validating: \u001b[32mOK\u001b[0m\n",
      "\u001b[32m[I 21:10:44 InstallContribNbextensionsApp]\u001b[m Installing /home/volodya/.local/lib/python3.10/site-packages/jupyter_contrib_nbextensions/nbextensions/collapsible_headings -> collapsible_headings\n",
      "\u001b[32m[I 21:10:44 InstallContribNbextensionsApp]\u001b[m Up to date: /home/volodya/.local/share/jupyter/nbextensions/collapsible_headings/main.js\n",
      "\u001b[32m[I 21:10:44 InstallContribNbextensionsApp]\u001b[m Up to date: /home/volodya/.local/share/jupyter/nbextensions/collapsible_headings/screenshot.png\n",
      "\u001b[32m[I 21:10:44 InstallContribNbextensionsApp]\u001b[m Up to date: /home/volodya/.local/share/jupyter/nbextensions/collapsible_headings/collapsible_headings.yaml\n",
      "\u001b[32m[I 21:10:44 InstallContribNbextensionsApp]\u001b[m Up to date: /home/volodya/.local/share/jupyter/nbextensions/collapsible_headings/main.css\n",
      "\u001b[32m[I 21:10:44 InstallContribNbextensionsApp]\u001b[m Up to date: /home/volodya/.local/share/jupyter/nbextensions/collapsible_headings/icon.png\n",
      "\u001b[32m[I 21:10:44 InstallContribNbextensionsApp]\u001b[m Up to date: /home/volodya/.local/share/jupyter/nbextensions/collapsible_headings/readme.md\n",
      "\u001b[32m[I 21:10:44 InstallContribNbextensionsApp]\u001b[m - Validating: \u001b[32mOK\u001b[0m\n",
      "\u001b[32m[I 21:10:44 InstallContribNbextensionsApp]\u001b[m Installing /home/volodya/.local/lib/python3.10/site-packages/jupyter_contrib_nbextensions/nbextensions/toc2 -> toc2\n",
      "\u001b[32m[I 21:10:44 InstallContribNbextensionsApp]\u001b[m Up to date: /home/volodya/.local/share/jupyter/nbextensions/toc2/image.png\n",
      "\u001b[32m[I 21:10:44 InstallContribNbextensionsApp]\u001b[m Up to date: /home/volodya/.local/share/jupyter/nbextensions/toc2/main.js\n",
      "\u001b[32m[I 21:10:44 InstallContribNbextensionsApp]\u001b[m Up to date: /home/volodya/.local/share/jupyter/nbextensions/toc2/demo3.gif\n",
      "\u001b[32m[I 21:10:44 InstallContribNbextensionsApp]\u001b[m Up to date: /home/volodya/.local/share/jupyter/nbextensions/toc2/README.md\n",
      "\u001b[32m[I 21:10:44 InstallContribNbextensionsApp]\u001b[m Up to date: /home/volodya/.local/share/jupyter/nbextensions/toc2/toc2.yaml\n",
      "\u001b[32m[I 21:10:44 InstallContribNbextensionsApp]\u001b[m Up to date: /home/volodya/.local/share/jupyter/nbextensions/toc2/demo_dark.png\n",
      "\u001b[32m[I 21:10:44 InstallContribNbextensionsApp]\u001b[m Up to date: /home/volodya/.local/share/jupyter/nbextensions/toc2/main.css\n",
      "\u001b[32m[I 21:10:44 InstallContribNbextensionsApp]\u001b[m Up to date: /home/volodya/.local/share/jupyter/nbextensions/toc2/demo2.gif\n",
      "\u001b[32m[I 21:10:44 InstallContribNbextensionsApp]\u001b[m Up to date: /home/volodya/.local/share/jupyter/nbextensions/toc2/icon.png\n",
      "\u001b[32m[I 21:10:44 InstallContribNbextensionsApp]\u001b[m Up to date: /home/volodya/.local/share/jupyter/nbextensions/toc2/demo.gif\n",
      "\u001b[32m[I 21:10:44 InstallContribNbextensionsApp]\u001b[m Up to date: /home/volodya/.local/share/jupyter/nbextensions/toc2/toc2.js\n",
      "\u001b[32m[I 21:10:44 InstallContribNbextensionsApp]\u001b[m - Validating: \u001b[32mOK\u001b[0m\n",
      "\u001b[32m[I 21:10:44 InstallContribNbextensionsApp]\u001b[m Installing /home/volodya/.local/lib/python3.10/site-packages/jupyter_contrib_nbextensions/nbextensions/move_selected_cells -> move_selected_cells\n",
      "\u001b[32m[I 21:10:44 InstallContribNbextensionsApp]\u001b[m Up to date: /home/volodya/.local/share/jupyter/nbextensions/move_selected_cells/main.js\n",
      "\u001b[32m[I 21:10:44 InstallContribNbextensionsApp]\u001b[m Up to date: /home/volodya/.local/share/jupyter/nbextensions/move_selected_cells/README.md\n",
      "\u001b[32m[I 21:10:44 InstallContribNbextensionsApp]\u001b[m Up to date: /home/volodya/.local/share/jupyter/nbextensions/move_selected_cells/move_selected_cells.yaml\n",
      "\u001b[32m[I 21:10:44 InstallContribNbextensionsApp]\u001b[m - Validating: \u001b[32mOK\u001b[0m\n",
      "\u001b[32m[I 21:10:44 InstallContribNbextensionsApp]\u001b[m Installing /home/volodya/.local/lib/python3.10/site-packages/jupyter_contrib_nbextensions/nbextensions/spellchecker -> spellchecker\n",
      "\u001b[32m[I 21:10:44 InstallContribNbextensionsApp]\u001b[m Up to date: /home/volodya/.local/share/jupyter/nbextensions/spellchecker/main.js\n",
      "\u001b[32m[I 21:10:44 InstallContribNbextensionsApp]\u001b[m Up to date: /home/volodya/.local/share/jupyter/nbextensions/spellchecker/screenshot.png\n",
      "\u001b[32m[I 21:10:44 InstallContribNbextensionsApp]\u001b[m Up to date: /home/volodya/.local/share/jupyter/nbextensions/spellchecker/README.md\n",
      "\u001b[32m[I 21:10:44 InstallContribNbextensionsApp]\u001b[m Up to date: /home/volodya/.local/share/jupyter/nbextensions/spellchecker/main.css\n",
      "\u001b[32m[I 21:10:44 InstallContribNbextensionsApp]\u001b[m Up to date: /home/volodya/.local/share/jupyter/nbextensions/spellchecker/download_new_dict.py\n",
      "\u001b[32m[I 21:10:44 InstallContribNbextensionsApp]\u001b[m Up to date: /home/volodya/.local/share/jupyter/nbextensions/spellchecker/config.yaml\n",
      "\u001b[32m[I 21:10:44 InstallContribNbextensionsApp]\u001b[m Up to date: /home/volodya/.local/share/jupyter/nbextensions/spellchecker/typo/LICENSE.txt\n",
      "\u001b[32m[I 21:10:44 InstallContribNbextensionsApp]\u001b[m Up to date: /home/volodya/.local/share/jupyter/nbextensions/spellchecker/typo/typo.js\n",
      "\u001b[32m[I 21:10:44 InstallContribNbextensionsApp]\u001b[m Up to date: /home/volodya/.local/share/jupyter/nbextensions/spellchecker/__pycache__/download_new_dict.cpython-310.pyc\n",
      "\u001b[32m[I 21:10:44 InstallContribNbextensionsApp]\u001b[m - Validating: \u001b[32mOK\u001b[0m\n",
      "\u001b[32m[I 21:10:44 InstallContribNbextensionsApp]\u001b[m Installing /home/volodya/.local/lib/python3.10/site-packages/jupyter_contrib_nbextensions/nbextensions/addbefore -> addbefore\n",
      "\u001b[32m[I 21:10:44 InstallContribNbextensionsApp]\u001b[m Up to date: /home/volodya/.local/share/jupyter/nbextensions/addbefore/main.js\n",
      "\u001b[32m[I 21:10:44 InstallContribNbextensionsApp]\u001b[m Up to date: /home/volodya/.local/share/jupyter/nbextensions/addbefore/addbefore.yaml\n",
      "\u001b[32m[I 21:10:44 InstallContribNbextensionsApp]\u001b[m Up to date: /home/volodya/.local/share/jupyter/nbextensions/addbefore/icon.png\n",
      "\u001b[32m[I 21:10:44 InstallContribNbextensionsApp]\u001b[m Up to date: /home/volodya/.local/share/jupyter/nbextensions/addbefore/readme.md\n",
      "\u001b[32m[I 21:10:44 InstallContribNbextensionsApp]\u001b[m - Validating: \u001b[32mOK\u001b[0m\n",
      "\u001b[32m[I 21:10:44 InstallContribNbextensionsApp]\u001b[m Installing /home/volodya/.local/lib/python3.10/site-packages/jupyter_contrib_nbextensions/nbextensions/hide_input_all -> hide_input_all\n",
      "\u001b[32m[I 21:10:44 InstallContribNbextensionsApp]\u001b[m Up to date: /home/volodya/.local/share/jupyter/nbextensions/hide_input_all/hide_input_all_show.png\n",
      "\u001b[32m[I 21:10:44 InstallContribNbextensionsApp]\u001b[m Up to date: /home/volodya/.local/share/jupyter/nbextensions/hide_input_all/hide_input_all_hide.png\n",
      "\u001b[32m[I 21:10:44 InstallContribNbextensionsApp]\u001b[m Up to date: /home/volodya/.local/share/jupyter/nbextensions/hide_input_all/main.js\n",
      "\u001b[32m[I 21:10:44 InstallContribNbextensionsApp]\u001b[m Up to date: /home/volodya/.local/share/jupyter/nbextensions/hide_input_all/icon.png\n",
      "\u001b[32m[I 21:10:44 InstallContribNbextensionsApp]\u001b[m Up to date: /home/volodya/.local/share/jupyter/nbextensions/hide_input_all/readme.md\n",
      "\u001b[32m[I 21:10:44 InstallContribNbextensionsApp]\u001b[m Up to date: /home/volodya/.local/share/jupyter/nbextensions/hide_input_all/hide_input_all.yaml\n",
      "\u001b[32m[I 21:10:44 InstallContribNbextensionsApp]\u001b[m - Validating: \u001b[32mOK\u001b[0m\n",
      "\u001b[32m[I 21:10:44 InstallContribNbextensionsApp]\u001b[m Installing /home/volodya/.local/lib/python3.10/site-packages/jupyter_contrib_nbextensions/nbextensions/code_font_size -> code_font_size\n",
      "\u001b[32m[I 21:10:44 InstallContribNbextensionsApp]\u001b[m Up to date: /home/volodya/.local/share/jupyter/nbextensions/code_font_size/code_font_size.yaml\n",
      "\u001b[32m[I 21:10:44 InstallContribNbextensionsApp]\u001b[m Up to date: /home/volodya/.local/share/jupyter/nbextensions/code_font_size/code_font_size.js\n",
      "\u001b[32m[I 21:10:44 InstallContribNbextensionsApp]\u001b[m Up to date: /home/volodya/.local/share/jupyter/nbextensions/code_font_size/README.md\n",
      "\u001b[32m[I 21:10:44 InstallContribNbextensionsApp]\u001b[m - Validating: \u001b[32mOK\u001b[0m\n",
      "\u001b[32m[I 21:10:44 InstallContribNbextensionsApp]\u001b[m Installing /home/volodya/.local/lib/python3.10/site-packages/jupyter_contrib_nbextensions/nbextensions/toggle_all_line_numbers -> toggle_all_line_numbers\n",
      "\u001b[32m[I 21:10:44 InstallContribNbextensionsApp]\u001b[m Up to date: /home/volodya/.local/share/jupyter/nbextensions/toggle_all_line_numbers/main.js\n",
      "\u001b[32m[I 21:10:44 InstallContribNbextensionsApp]\u001b[m Up to date: /home/volodya/.local/share/jupyter/nbextensions/toggle_all_line_numbers/main.yaml\n",
      "\u001b[32m[I 21:10:44 InstallContribNbextensionsApp]\u001b[m Up to date: /home/volodya/.local/share/jupyter/nbextensions/toggle_all_line_numbers/icon.png\n",
      "\u001b[32m[I 21:10:44 InstallContribNbextensionsApp]\u001b[m Up to date: /home/volodya/.local/share/jupyter/nbextensions/toggle_all_line_numbers/readme.md\n",
      "\u001b[32m[I 21:10:44 InstallContribNbextensionsApp]\u001b[m - Validating: \u001b[32mOK\u001b[0m\n",
      "\u001b[32m[I 21:10:44 InstallContribNbextensionsApp]\u001b[m Installing /home/volodya/.local/lib/python3.10/site-packages/jupyter_contrib_nbextensions/nbextensions/nbTranslate -> nbTranslate\n",
      "\u001b[32m[I 21:10:44 InstallContribNbextensionsApp]\u001b[m Up to date: /home/volodya/.local/share/jupyter/nbextensions/nbTranslate/nbTranslate.yaml\n",
      "\u001b[32m[I 21:10:44 InstallContribNbextensionsApp]\u001b[m Up to date: /home/volodya/.local/share/jupyter/nbextensions/nbTranslate/mutils.js\n",
      "\u001b[32m[I 21:10:44 InstallContribNbextensionsApp]\u001b[m Up to date: /home/volodya/.local/share/jupyter/nbextensions/nbTranslate/languages.js\n",
      "\u001b[32m[I 21:10:44 InstallContribNbextensionsApp]\u001b[m Up to date: /home/volodya/.local/share/jupyter/nbextensions/nbTranslate/main.js\n",
      "\u001b[32m[I 21:10:44 InstallContribNbextensionsApp]\u001b[m Up to date: /home/volodya/.local/share/jupyter/nbextensions/nbTranslate/README.md\n",
      "\u001b[32m[I 21:10:44 InstallContribNbextensionsApp]\u001b[m Up to date: /home/volodya/.local/share/jupyter/nbextensions/nbTranslate/nbTranslate.js\n",
      "\u001b[32m[I 21:10:44 InstallContribNbextensionsApp]\u001b[m Up to date: /home/volodya/.local/share/jupyter/nbextensions/nbTranslate/demo1.gif\n",
      "\u001b[32m[I 21:10:44 InstallContribNbextensionsApp]\u001b[m Up to date: /home/volodya/.local/share/jupyter/nbextensions/nbTranslate/demo2.gif\n",
      "\u001b[32m[I 21:10:44 InstallContribNbextensionsApp]\u001b[m - Validating: \u001b[32mOK\u001b[0m\n",
      "\u001b[32m[I 21:10:44 InstallContribNbextensionsApp]\u001b[m Installing /home/volodya/.local/lib/python3.10/site-packages/jupyter_contrib_nbextensions/nbextensions/code_prettify -> code_prettify\n",
      "\u001b[32m[I 21:10:44 InstallContribNbextensionsApp]\u001b[m Up to date: /home/volodya/.local/share/jupyter/nbextensions/code_prettify/demo-jv.gif\n",
      "\u001b[32m[I 21:10:44 InstallContribNbextensionsApp]\u001b[m Up to date: /home/volodya/.local/share/jupyter/nbextensions/code_prettify/2to3.js\n",
      "\u001b[32m[I 21:10:44 InstallContribNbextensionsApp]\u001b[m Up to date: /home/volodya/.local/share/jupyter/nbextensions/code_prettify/isort.yaml\n",
      "\u001b[32m[I 21:10:44 InstallContribNbextensionsApp]\u001b[m Up to date: /home/volodya/.local/share/jupyter/nbextensions/code_prettify/autopep8.js\n",
      "\u001b[32m[I 21:10:44 InstallContribNbextensionsApp]\u001b[m Up to date: /home/volodya/.local/share/jupyter/nbextensions/code_prettify/README_code_prettify.md\n",
      "\u001b[32m[I 21:10:44 InstallContribNbextensionsApp]\u001b[m Up to date: /home/volodya/.local/share/jupyter/nbextensions/code_prettify/demo_2to3.gif\n",
      "\u001b[32m[I 21:10:44 InstallContribNbextensionsApp]\u001b[m Up to date: /home/volodya/.local/share/jupyter/nbextensions/code_prettify/kernel_exec_on_cell.js\n",
      "\u001b[32m[I 21:10:44 InstallContribNbextensionsApp]\u001b[m Up to date: /home/volodya/.local/share/jupyter/nbextensions/code_prettify/code_prettify.yaml\n",
      "\u001b[32m[I 21:10:44 InstallContribNbextensionsApp]\u001b[m Up to date: /home/volodya/.local/share/jupyter/nbextensions/code_prettify/README_2to3.md\n",
      "\u001b[32m[I 21:10:44 InstallContribNbextensionsApp]\u001b[m Up to date: /home/volodya/.local/share/jupyter/nbextensions/code_prettify/demo-py.gif\n",
      "\u001b[32m[I 21:10:44 InstallContribNbextensionsApp]\u001b[m Up to date: /home/volodya/.local/share/jupyter/nbextensions/code_prettify/README_isort.md\n",
      "\u001b[32m[I 21:10:44 InstallContribNbextensionsApp]\u001b[m Up to date: /home/volodya/.local/share/jupyter/nbextensions/code_prettify/isort.js\n",
      "\u001b[32m[I 21:10:44 InstallContribNbextensionsApp]\u001b[m Up to date: /home/volodya/.local/share/jupyter/nbextensions/code_prettify/README.md\n",
      "\u001b[32m[I 21:10:44 InstallContribNbextensionsApp]\u001b[m Up to date: /home/volodya/.local/share/jupyter/nbextensions/code_prettify/code_prettify.js\n",
      "\u001b[32m[I 21:10:44 InstallContribNbextensionsApp]\u001b[m Up to date: /home/volodya/.local/share/jupyter/nbextensions/code_prettify/README_autopep8.md\n",
      "\u001b[32m[I 21:10:44 InstallContribNbextensionsApp]\u001b[m Up to date: /home/volodya/.local/share/jupyter/nbextensions/code_prettify/2to3.yaml\n",
      "\u001b[32m[I 21:10:44 InstallContribNbextensionsApp]\u001b[m Up to date: /home/volodya/.local/share/jupyter/nbextensions/code_prettify/autopep8.yaml\n",
      "\u001b[32m[I 21:10:44 InstallContribNbextensionsApp]\u001b[m Up to date: /home/volodya/.local/share/jupyter/nbextensions/code_prettify/demo-R.gif\n",
      "\u001b[32m[I 21:10:44 InstallContribNbextensionsApp]\u001b[m - Validating: \u001b[32mOK\u001b[0m\n",
      "\u001b[32m[I 21:10:44 InstallContribNbextensionsApp]\u001b[m Installing /home/volodya/.local/lib/python3.10/site-packages/jupyter_contrib_nbextensions/nbextensions/code_prettify -> code_prettify\n",
      "\u001b[32m[I 21:10:44 InstallContribNbextensionsApp]\u001b[m Up to date: /home/volodya/.local/share/jupyter/nbextensions/code_prettify/demo-jv.gif\n",
      "\u001b[32m[I 21:10:44 InstallContribNbextensionsApp]\u001b[m Up to date: /home/volodya/.local/share/jupyter/nbextensions/code_prettify/2to3.js\n",
      "\u001b[32m[I 21:10:44 InstallContribNbextensionsApp]\u001b[m Up to date: /home/volodya/.local/share/jupyter/nbextensions/code_prettify/isort.yaml\n",
      "\u001b[32m[I 21:10:44 InstallContribNbextensionsApp]\u001b[m Up to date: /home/volodya/.local/share/jupyter/nbextensions/code_prettify/autopep8.js\n",
      "\u001b[32m[I 21:10:44 InstallContribNbextensionsApp]\u001b[m Up to date: /home/volodya/.local/share/jupyter/nbextensions/code_prettify/README_code_prettify.md\n",
      "\u001b[32m[I 21:10:44 InstallContribNbextensionsApp]\u001b[m Up to date: /home/volodya/.local/share/jupyter/nbextensions/code_prettify/demo_2to3.gif\n",
      "\u001b[32m[I 21:10:44 InstallContribNbextensionsApp]\u001b[m Up to date: /home/volodya/.local/share/jupyter/nbextensions/code_prettify/kernel_exec_on_cell.js\n",
      "\u001b[32m[I 21:10:44 InstallContribNbextensionsApp]\u001b[m Up to date: /home/volodya/.local/share/jupyter/nbextensions/code_prettify/code_prettify.yaml\n",
      "\u001b[32m[I 21:10:44 InstallContribNbextensionsApp]\u001b[m Up to date: /home/volodya/.local/share/jupyter/nbextensions/code_prettify/README_2to3.md\n",
      "\u001b[32m[I 21:10:44 InstallContribNbextensionsApp]\u001b[m Up to date: /home/volodya/.local/share/jupyter/nbextensions/code_prettify/demo-py.gif\n",
      "\u001b[32m[I 21:10:44 InstallContribNbextensionsApp]\u001b[m Up to date: /home/volodya/.local/share/jupyter/nbextensions/code_prettify/README_isort.md\n",
      "\u001b[32m[I 21:10:44 InstallContribNbextensionsApp]\u001b[m Up to date: /home/volodya/.local/share/jupyter/nbextensions/code_prettify/isort.js\n",
      "\u001b[32m[I 21:10:44 InstallContribNbextensionsApp]\u001b[m Up to date: /home/volodya/.local/share/jupyter/nbextensions/code_prettify/README.md\n",
      "\u001b[32m[I 21:10:44 InstallContribNbextensionsApp]\u001b[m Up to date: /home/volodya/.local/share/jupyter/nbextensions/code_prettify/code_prettify.js\n",
      "\u001b[32m[I 21:10:44 InstallContribNbextensionsApp]\u001b[m Up to date: /home/volodya/.local/share/jupyter/nbextensions/code_prettify/README_autopep8.md\n",
      "\u001b[32m[I 21:10:44 InstallContribNbextensionsApp]\u001b[m Up to date: /home/volodya/.local/share/jupyter/nbextensions/code_prettify/2to3.yaml\n",
      "\u001b[32m[I 21:10:44 InstallContribNbextensionsApp]\u001b[m Up to date: /home/volodya/.local/share/jupyter/nbextensions/code_prettify/autopep8.yaml\n",
      "\u001b[32m[I 21:10:44 InstallContribNbextensionsApp]\u001b[m Up to date: /home/volodya/.local/share/jupyter/nbextensions/code_prettify/demo-R.gif\n",
      "\u001b[32m[I 21:10:44 InstallContribNbextensionsApp]\u001b[m - Validating: \u001b[32mOK\u001b[0m\n",
      "\u001b[32m[I 21:10:44 InstallContribNbextensionsApp]\u001b[m Installing /home/volodya/.local/lib/python3.10/site-packages/jupyter_contrib_nbextensions/nbextensions/code_prettify -> code_prettify\n",
      "\u001b[32m[I 21:10:44 InstallContribNbextensionsApp]\u001b[m Up to date: /home/volodya/.local/share/jupyter/nbextensions/code_prettify/demo-jv.gif\n",
      "\u001b[32m[I 21:10:44 InstallContribNbextensionsApp]\u001b[m Up to date: /home/volodya/.local/share/jupyter/nbextensions/code_prettify/2to3.js\n",
      "\u001b[32m[I 21:10:44 InstallContribNbextensionsApp]\u001b[m Up to date: /home/volodya/.local/share/jupyter/nbextensions/code_prettify/isort.yaml\n",
      "\u001b[32m[I 21:10:44 InstallContribNbextensionsApp]\u001b[m Up to date: /home/volodya/.local/share/jupyter/nbextensions/code_prettify/autopep8.js\n",
      "\u001b[32m[I 21:10:44 InstallContribNbextensionsApp]\u001b[m Up to date: /home/volodya/.local/share/jupyter/nbextensions/code_prettify/README_code_prettify.md\n",
      "\u001b[32m[I 21:10:44 InstallContribNbextensionsApp]\u001b[m Up to date: /home/volodya/.local/share/jupyter/nbextensions/code_prettify/demo_2to3.gif\n",
      "\u001b[32m[I 21:10:44 InstallContribNbextensionsApp]\u001b[m Up to date: /home/volodya/.local/share/jupyter/nbextensions/code_prettify/kernel_exec_on_cell.js\n",
      "\u001b[32m[I 21:10:44 InstallContribNbextensionsApp]\u001b[m Up to date: /home/volodya/.local/share/jupyter/nbextensions/code_prettify/code_prettify.yaml\n",
      "\u001b[32m[I 21:10:44 InstallContribNbextensionsApp]\u001b[m Up to date: /home/volodya/.local/share/jupyter/nbextensions/code_prettify/README_2to3.md\n",
      "\u001b[32m[I 21:10:44 InstallContribNbextensionsApp]\u001b[m Up to date: /home/volodya/.local/share/jupyter/nbextensions/code_prettify/demo-py.gif\n",
      "\u001b[32m[I 21:10:44 InstallContribNbextensionsApp]\u001b[m Up to date: /home/volodya/.local/share/jupyter/nbextensions/code_prettify/README_isort.md\n",
      "\u001b[32m[I 21:10:44 InstallContribNbextensionsApp]\u001b[m Up to date: /home/volodya/.local/share/jupyter/nbextensions/code_prettify/isort.js\n",
      "\u001b[32m[I 21:10:44 InstallContribNbextensionsApp]\u001b[m Up to date: /home/volodya/.local/share/jupyter/nbextensions/code_prettify/README.md\n",
      "\u001b[32m[I 21:10:44 InstallContribNbextensionsApp]\u001b[m Up to date: /home/volodya/.local/share/jupyter/nbextensions/code_prettify/code_prettify.js\n",
      "\u001b[32m[I 21:10:44 InstallContribNbextensionsApp]\u001b[m Up to date: /home/volodya/.local/share/jupyter/nbextensions/code_prettify/README_autopep8.md\n",
      "\u001b[32m[I 21:10:44 InstallContribNbextensionsApp]\u001b[m Up to date: /home/volodya/.local/share/jupyter/nbextensions/code_prettify/2to3.yaml\n",
      "\u001b[32m[I 21:10:44 InstallContribNbextensionsApp]\u001b[m Up to date: /home/volodya/.local/share/jupyter/nbextensions/code_prettify/autopep8.yaml\n",
      "\u001b[32m[I 21:10:44 InstallContribNbextensionsApp]\u001b[m Up to date: /home/volodya/.local/share/jupyter/nbextensions/code_prettify/demo-R.gif\n",
      "\u001b[32m[I 21:10:44 InstallContribNbextensionsApp]\u001b[m - Validating: \u001b[32mOK\u001b[0m\n",
      "\u001b[32m[I 21:10:44 InstallContribNbextensionsApp]\u001b[m Installing /home/volodya/.local/lib/python3.10/site-packages/jupyter_contrib_nbextensions/nbextensions/code_prettify -> code_prettify\n",
      "\u001b[32m[I 21:10:44 InstallContribNbextensionsApp]\u001b[m Up to date: /home/volodya/.local/share/jupyter/nbextensions/code_prettify/demo-jv.gif\n",
      "\u001b[32m[I 21:10:44 InstallContribNbextensionsApp]\u001b[m Up to date: /home/volodya/.local/share/jupyter/nbextensions/code_prettify/2to3.js\n",
      "\u001b[32m[I 21:10:44 InstallContribNbextensionsApp]\u001b[m Up to date: /home/volodya/.local/share/jupyter/nbextensions/code_prettify/isort.yaml\n",
      "\u001b[32m[I 21:10:44 InstallContribNbextensionsApp]\u001b[m Up to date: /home/volodya/.local/share/jupyter/nbextensions/code_prettify/autopep8.js\n",
      "\u001b[32m[I 21:10:44 InstallContribNbextensionsApp]\u001b[m Up to date: /home/volodya/.local/share/jupyter/nbextensions/code_prettify/README_code_prettify.md\n",
      "\u001b[32m[I 21:10:44 InstallContribNbextensionsApp]\u001b[m Up to date: /home/volodya/.local/share/jupyter/nbextensions/code_prettify/demo_2to3.gif\n",
      "\u001b[32m[I 21:10:44 InstallContribNbextensionsApp]\u001b[m Up to date: /home/volodya/.local/share/jupyter/nbextensions/code_prettify/kernel_exec_on_cell.js\n",
      "\u001b[32m[I 21:10:44 InstallContribNbextensionsApp]\u001b[m Up to date: /home/volodya/.local/share/jupyter/nbextensions/code_prettify/code_prettify.yaml\n",
      "\u001b[32m[I 21:10:44 InstallContribNbextensionsApp]\u001b[m Up to date: /home/volodya/.local/share/jupyter/nbextensions/code_prettify/README_2to3.md\n",
      "\u001b[32m[I 21:10:44 InstallContribNbextensionsApp]\u001b[m Up to date: /home/volodya/.local/share/jupyter/nbextensions/code_prettify/demo-py.gif\n",
      "\u001b[32m[I 21:10:44 InstallContribNbextensionsApp]\u001b[m Up to date: /home/volodya/.local/share/jupyter/nbextensions/code_prettify/README_isort.md\n",
      "\u001b[32m[I 21:10:44 InstallContribNbextensionsApp]\u001b[m Up to date: /home/volodya/.local/share/jupyter/nbextensions/code_prettify/isort.js\n",
      "\u001b[32m[I 21:10:44 InstallContribNbextensionsApp]\u001b[m Up to date: /home/volodya/.local/share/jupyter/nbextensions/code_prettify/README.md\n",
      "\u001b[32m[I 21:10:44 InstallContribNbextensionsApp]\u001b[m Up to date: /home/volodya/.local/share/jupyter/nbextensions/code_prettify/code_prettify.js\n",
      "\u001b[32m[I 21:10:44 InstallContribNbextensionsApp]\u001b[m Up to date: /home/volodya/.local/share/jupyter/nbextensions/code_prettify/README_autopep8.md\n",
      "\u001b[32m[I 21:10:44 InstallContribNbextensionsApp]\u001b[m Up to date: /home/volodya/.local/share/jupyter/nbextensions/code_prettify/2to3.yaml\n",
      "\u001b[32m[I 21:10:44 InstallContribNbextensionsApp]\u001b[m Up to date: /home/volodya/.local/share/jupyter/nbextensions/code_prettify/autopep8.yaml\n",
      "\u001b[32m[I 21:10:44 InstallContribNbextensionsApp]\u001b[m Up to date: /home/volodya/.local/share/jupyter/nbextensions/code_prettify/demo-R.gif\n",
      "\u001b[32m[I 21:10:44 InstallContribNbextensionsApp]\u001b[m - Validating: \u001b[32mOK\u001b[0m\n",
      "\u001b[32m[I 21:10:44 InstallContribNbextensionsApp]\u001b[m Installing /home/volodya/.local/lib/python3.10/site-packages/jupyter_highlight_selected_word/static/highlight_selected_word -> highlight_selected_word\n",
      "\u001b[32m[I 21:10:44 InstallContribNbextensionsApp]\u001b[m Up to date: /home/volodya/.local/share/jupyter/nbextensions/highlight_selected_word/configurator.yaml\n",
      "\u001b[32m[I 21:10:44 InstallContribNbextensionsApp]\u001b[m Up to date: /home/volodya/.local/share/jupyter/nbextensions/highlight_selected_word/main.js\n",
      "\u001b[32m[I 21:10:44 InstallContribNbextensionsApp]\u001b[m Up to date: /home/volodya/.local/share/jupyter/nbextensions/highlight_selected_word/README.md\n",
      "\u001b[32m[I 21:10:44 InstallContribNbextensionsApp]\u001b[m - Validating: \u001b[32mOK\u001b[0m\n",
      "\u001b[32m[I 21:10:44 InstallContribNbextensionsApp]\u001b[m Installing /home/volodya/.local/lib/python3.10/site-packages/latex_envs/static -> latex_envs\n",
      "\u001b[32m[I 21:10:44 InstallContribNbextensionsApp]\u001b[m Up to date: /home/volodya/.local/share/jupyter/nbextensions/latex_envs/example.png\n",
      "\u001b[32m[I 21:10:44 InstallContribNbextensionsApp]\u001b[m Up to date: /home/volodya/.local/share/jupyter/nbextensions/latex_envs/bibInNb4.js\n",
      "\u001b[32m[I 21:10:44 InstallContribNbextensionsApp]\u001b[m Up to date: /home/volodya/.local/share/jupyter/nbextensions/latex_envs/bibtex2.js\n",
      "\u001b[32m[I 21:10:44 InstallContribNbextensionsApp]\u001b[m Up to date: /home/volodya/.local/share/jupyter/nbextensions/latex_envs/latex_envs.css\n",
      "\u001b[32m[I 21:10:44 InstallContribNbextensionsApp]\u001b[m Up to date: /home/volodya/.local/share/jupyter/nbextensions/latex_envs/envsLatex.json\n",
      "\u001b[32m[I 21:10:44 InstallContribNbextensionsApp]\u001b[m Up to date: /home/volodya/.local/share/jupyter/nbextensions/latex_envs/latex_envs.js\n",
      "\u001b[32m[I 21:10:44 InstallContribNbextensionsApp]\u001b[m Up to date: /home/volodya/.local/share/jupyter/nbextensions/latex_envs/README.md\n",
      "\u001b[32m[I 21:10:44 InstallContribNbextensionsApp]\u001b[m Up to date: /home/volodya/.local/share/jupyter/nbextensions/latex_envs/configuration_toolbar.png\n",
      "\u001b[32m[I 21:10:44 InstallContribNbextensionsApp]\u001b[m Up to date: /home/volodya/.local/share/jupyter/nbextensions/latex_envs/initNb.js\n",
      "\u001b[32m[I 21:10:44 InstallContribNbextensionsApp]\u001b[m Up to date: /home/volodya/.local/share/jupyter/nbextensions/latex_envs/example_user_envs.json\n",
      "\u001b[32m[I 21:10:44 InstallContribNbextensionsApp]\u001b[m Up to date: /home/volodya/.local/share/jupyter/nbextensions/latex_envs/envsLatex.js\n",
      "\u001b[32m[I 21:10:44 InstallContribNbextensionsApp]\u001b[m Up to date: /home/volodya/.local/share/jupyter/nbextensions/latex_envs/icon.png\n",
      "\u001b[32m[I 21:10:44 InstallContribNbextensionsApp]\u001b[m Up to date: /home/volodya/.local/share/jupyter/nbextensions/latex_envs/thmsInNb4.js\n",
      "\u001b[32m[I 21:10:44 InstallContribNbextensionsApp]\u001b[m Up to date: /home/volodya/.local/share/jupyter/nbextensions/latex_envs/main_toolbar.png\n",
      "\u001b[32m[I 21:10:44 InstallContribNbextensionsApp]\u001b[m Up to date: /home/volodya/.local/share/jupyter/nbextensions/latex_envs/latex_envs.yaml\n",
      "\u001b[32m[I 21:10:44 InstallContribNbextensionsApp]\u001b[m Up to date: /home/volodya/.local/share/jupyter/nbextensions/latex_envs/doc/example.png\n",
      "\u001b[32m[I 21:10:44 InstallContribNbextensionsApp]\u001b[m Up to date: /home/volodya/.local/share/jupyter/nbextensions/latex_envs/doc/config_toolbar.png\n",
      "\u001b[32m[I 21:10:44 InstallContribNbextensionsApp]\u001b[m Up to date: /home/volodya/.local/share/jupyter/nbextensions/latex_envs/doc/documentation.tex\n",
      "\u001b[32m[I 21:10:44 InstallContribNbextensionsApp]\u001b[m Up to date: /home/volodya/.local/share/jupyter/nbextensions/latex_envs/doc/biblio_ipython.bib\n",
      "\u001b[32m[I 21:10:44 InstallContribNbextensionsApp]\u001b[m Up to date: /home/volodya/.local/share/jupyter/nbextensions/latex_envs/doc/README.md\n",
      "\u001b[32m[I 21:10:44 InstallContribNbextensionsApp]\u001b[m Up to date: /home/volodya/.local/share/jupyter/nbextensions/latex_envs/doc/latex_env_doc.html\n",
      "\u001b[32m[I 21:10:44 InstallContribNbextensionsApp]\u001b[m Up to date: /home/volodya/.local/share/jupyter/nbextensions/latex_envs/doc/configuration_toolbar.png\n",
      "\u001b[32m[I 21:10:44 InstallContribNbextensionsApp]\u001b[m Up to date: /home/volodya/.local/share/jupyter/nbextensions/latex_envs/doc/Toggles.png\n",
      "\u001b[32m[I 21:10:44 InstallContribNbextensionsApp]\u001b[m Up to date: /home/volodya/.local/share/jupyter/nbextensions/latex_envs/doc/header.tex\n",
      "\u001b[32m[I 21:10:44 InstallContribNbextensionsApp]\u001b[m Up to date: /home/volodya/.local/share/jupyter/nbextensions/latex_envs/doc/documentation.pdf\n",
      "\u001b[32m[I 21:10:44 InstallContribNbextensionsApp]\u001b[m Up to date: /home/volodya/.local/share/jupyter/nbextensions/latex_envs/doc/latex_env_doc.ipynb\n",
      "\u001b[32m[I 21:10:44 InstallContribNbextensionsApp]\u001b[m Up to date: /home/volodya/.local/share/jupyter/nbextensions/latex_envs/doc/IEEEtran.bst\n",
      "\u001b[32m[I 21:10:44 InstallContribNbextensionsApp]\u001b[m Up to date: /home/volodya/.local/share/jupyter/nbextensions/latex_envs/doc/latex_env_doc.tex\n",
      "\u001b[32m[I 21:10:44 InstallContribNbextensionsApp]\u001b[m Up to date: /home/volodya/.local/share/jupyter/nbextensions/latex_envs/doc/main_toolbar.png\n",
      "\u001b[32m[I 21:10:44 InstallContribNbextensionsApp]\u001b[m Up to date: /home/volodya/.local/share/jupyter/nbextensions/latex_envs/doc/LaTeX_envs_menu.png\n",
      "\u001b[32m[I 21:10:44 InstallContribNbextensionsApp]\u001b[m Up to date: /home/volodya/.local/share/jupyter/nbextensions/latex_envs/doc/latex_env_doc_files/latex_env_doc_52_0.png\n",
      "\u001b[32m[I 21:10:44 InstallContribNbextensionsApp]\u001b[m Up to date: /home/volodya/.local/share/jupyter/nbextensions/latex_envs/doc/latex_env_doc_files/latex_env_doc_27_2.png\n",
      "\u001b[32m[I 21:10:44 InstallContribNbextensionsApp]\u001b[m Up to date: /home/volodya/.local/share/jupyter/nbextensions/latex_envs/doc/latex_env_doc_files/latex_env_doc_43_0.png\n",
      "\u001b[32m[I 21:10:44 InstallContribNbextensionsApp]\u001b[m Up to date: /home/volodya/.local/share/jupyter/nbextensions/latex_envs/doc/latex_env_doc_files/latex_env_doc_24_2.png\n",
      "\u001b[32m[I 21:10:44 InstallContribNbextensionsApp]\u001b[m Up to date: /home/volodya/.local/share/jupyter/nbextensions/latex_envs/doc/latex_env_doc_files/latex_env_doc_26_2.png\n",
      "\u001b[32m[I 21:10:44 InstallContribNbextensionsApp]\u001b[m Up to date: /home/volodya/.local/share/jupyter/nbextensions/latex_envs/doc/latex_env_doc_files/latex_env_doc_41_0.png\n",
      "\u001b[32m[I 21:10:44 InstallContribNbextensionsApp]\u001b[m Up to date: /home/volodya/.local/share/jupyter/nbextensions/latex_envs/doc/latex_env_doc_files/latex_env_doc_42_0.png\n",
      "\u001b[32m[I 21:10:44 InstallContribNbextensionsApp]\u001b[m Up to date: /home/volodya/.local/share/jupyter/nbextensions/latex_envs/doc/latex_env_doc_files/latex_env_doc_47_0.png\n",
      "\u001b[32m[I 21:10:44 InstallContribNbextensionsApp]\u001b[m Up to date: /home/volodya/.local/share/jupyter/nbextensions/latex_envs/doc/latex_env_doc_files/latex_env_doc_50_0.png\n",
      "\u001b[32m[I 21:10:44 InstallContribNbextensionsApp]\u001b[m Up to date: /home/volodya/.local/share/jupyter/nbextensions/latex_envs/doc/latex_env_doc_files/latex_env_doc_51_0.png\n",
      "\u001b[32m[I 21:10:44 InstallContribNbextensionsApp]\u001b[m Up to date: /home/volodya/.local/share/jupyter/nbextensions/latex_envs/doc/latex_env_doc_files/latex_env_doc_49_0.png\n",
      "\u001b[32m[I 21:10:44 InstallContribNbextensionsApp]\u001b[m Up to date: /home/volodya/.local/share/jupyter/nbextensions/latex_envs/doc/latex_env_doc_files/latex_env_doc_23_2.png\n",
      "\u001b[32m[I 21:10:44 InstallContribNbextensionsApp]\u001b[m Up to date: /home/volodya/.local/share/jupyter/nbextensions/latex_envs/doc/latex_env_doc_files/latex_env_doc_45_0.png\n",
      "\u001b[32m[I 21:10:44 InstallContribNbextensionsApp]\u001b[m Up to date: /home/volodya/.local/share/jupyter/nbextensions/latex_envs/doc/latex_env_doc_files/latex_env_doc_48_0.png\n",
      "\u001b[32m[I 21:10:44 InstallContribNbextensionsApp]\u001b[m Up to date: /home/volodya/.local/share/jupyter/nbextensions/latex_envs/doc/latex_env_doc_files/latex_env_doc_46_0.png\n",
      "\u001b[32m[I 21:10:44 InstallContribNbextensionsApp]\u001b[m Up to date: /home/volodya/.local/share/jupyter/nbextensions/latex_envs/doc/latex_env_doc_files/latex_env_doc_44_0.png\n",
      "\u001b[32m[I 21:10:44 InstallContribNbextensionsApp]\u001b[m Up to date: /home/volodya/.local/share/jupyter/nbextensions/latex_envs/doc/.ipynb_checkpoints/latex_env_doc-checkpoint.ipynb\n"
     ]
    },
    {
     "name": "stdout",
     "output_type": "stream",
     "text": [
      "\u001b[32m[I 21:10:44 InstallContribNbextensionsApp]\u001b[m - Validating: \u001b[32mOK\u001b[0m\r\n",
      "\u001b[32m[I 21:10:44 InstallContribNbextensionsApp]\u001b[m Installing jupyter_contrib_nbextensions items to config in /home/volodya/.jupyter\r\n",
      "Enabling: jupyter_nbextensions_configurator\r\n",
      "- Writing config: /home/volodya/.jupyter\r\n",
      "    - Validating...\r\n",
      "      jupyter_nbextensions_configurator 0.4.1 \u001b[32mOK\u001b[0m\r\n",
      "Enabling notebook nbextension nbextensions_configurator/config_menu/main...\r\n",
      "Enabling tree nbextension nbextensions_configurator/tree_tab/main...\r\n",
      "\u001b[32m[I 21:10:44 InstallContribNbextensionsApp]\u001b[m Enabling notebook extension contrib_nbextensions_help_item/main...\r\n",
      "\u001b[32m[I 21:10:44 InstallContribNbextensionsApp]\u001b[m       - Validating: \u001b[32mOK\u001b[0m\r\n",
      "\u001b[32m[I 21:10:44 InstallContribNbextensionsApp]\u001b[m - Editing config: /home/volodya/.jupyter/jupyter_nbconvert_config.json\r\n",
      "\u001b[32m[I 21:10:44 InstallContribNbextensionsApp]\u001b[m --  Configuring nbconvert template path\r\n",
      "\u001b[32m[I 21:10:44 InstallContribNbextensionsApp]\u001b[m --  Configuring nbconvert preprocessors\r\n",
      "\u001b[32m[I 21:10:44 InstallContribNbextensionsApp]\u001b[m - Writing config: /home/volodya/.jupyter/jupyter_nbconvert_config.json\r\n",
      "\u001b[32m[I 21:10:44 InstallContribNbextensionsApp]\u001b[m --  Writing updated config file /home/volodya/.jupyter/jupyter_nbconvert_config.json\r\n"
     ]
    }
   ],
   "source": [
    "!jupyter contrib nbextension install --user"
   ]
  },
  {
   "cell_type": "code",
   "execution_count": 2,
   "id": "73c1f044",
   "metadata": {
    "ExecuteTime": {
     "end_time": "2022-11-10T18:10:14.777311Z",
     "start_time": "2022-11-10T18:10:13.465542Z"
    },
    "scrolled": true
   },
   "outputs": [
    {
     "name": "stdout",
     "output_type": "stream",
     "text": [
      "Defaulting to user installation because normal site-packages is not writeable\n",
      "Requirement already satisfied: jupyter_contrib_nbextensions in /home/volodya/.local/lib/python3.10/site-packages (0.5.1)\n",
      "Requirement already satisfied: nbconvert>=4.2 in /usr/lib/python3/dist-packages (from jupyter_contrib_nbextensions) (6.4.0)\n",
      "Requirement already satisfied: notebook>=4.0 in /usr/lib/python3/dist-packages (from jupyter_contrib_nbextensions) (6.4.8)\n",
      "Requirement already satisfied: lxml in /usr/lib/python3/dist-packages (from jupyter_contrib_nbextensions) (4.8.0)\n",
      "Requirement already satisfied: traitlets>=4.1 in /usr/lib/python3/dist-packages (from jupyter_contrib_nbextensions) (5.1.1)\n",
      "Requirement already satisfied: tornado in /usr/lib/python3/dist-packages (from jupyter_contrib_nbextensions) (6.1)\n",
      "Requirement already satisfied: jupyter-contrib-core>=0.3.3 in /home/volodya/.local/lib/python3.10/site-packages (from jupyter_contrib_nbextensions) (0.4.0)\n",
      "Requirement already satisfied: jupyter-highlight-selected-word>=0.1.1 in /home/volodya/.local/lib/python3.10/site-packages (from jupyter_contrib_nbextensions) (0.2.0)\n",
      "Requirement already satisfied: jupyter-core in /usr/lib/python3/dist-packages (from jupyter_contrib_nbextensions) (4.9.1)\n",
      "Requirement already satisfied: jupyter-nbextensions-configurator>=0.4.0 in /home/volodya/.local/lib/python3.10/site-packages (from jupyter_contrib_nbextensions) (0.5.0)\n",
      "Requirement already satisfied: ipython-genutils in /usr/lib/python3/dist-packages (from jupyter_contrib_nbextensions) (0.2.0)\n",
      "Requirement already satisfied: jupyter-latex-envs>=1.3.8 in /home/volodya/.local/lib/python3.10/site-packages (from jupyter_contrib_nbextensions) (1.4.6)\n",
      "Requirement already satisfied: pyyaml in /usr/lib/python3/dist-packages (from jupyter_contrib_nbextensions) (5.4.1)\n",
      "Requirement already satisfied: setuptools in /usr/lib/python3/dist-packages (from jupyter-contrib-core>=0.3.3->jupyter_contrib_nbextensions) (59.6.0)\n",
      "Requirement already satisfied: ipython in /usr/lib/python3/dist-packages (from jupyter-latex-envs>=1.3.8->jupyter_contrib_nbextensions) (7.31.1)\n"
     ]
    }
   ],
   "source": [
    "!pip install --upgrade jupyter_contrib_nbextensions"
   ]
  },
  {
   "cell_type": "code",
   "execution_count": 31,
   "id": "03321258",
   "metadata": {
    "ExecuteTime": {
     "end_time": "2022-11-06T13:07:57.561528Z",
     "start_time": "2022-11-06T13:07:57.548257Z"
    }
   },
   "outputs": [],
   "source": [
    "import pandas as pd\n",
    "import numpy as np\n",
    "from sklearn.datasets import load_iris, load_wine, load_breast_cancer, load_digits\n",
    "\n",
    "from sklearn.linear_model import LogisticRegression\n",
    "from sklearn.model_selection import train_test_split, KFold\n",
    "from sklearn.metrics import roc_auc_score\n",
    "\n",
    "from sklearn.neural_network import MLPClassifier"
   ]
  },
  {
   "cell_type": "code",
   "execution_count": 32,
   "id": "09fe45c7",
   "metadata": {
    "ExecuteTime": {
     "end_time": "2022-11-06T13:07:57.592203Z",
     "start_time": "2022-11-06T13:07:57.566436Z"
    }
   },
   "outputs": [
    {
     "data": {
      "text/html": [
       "<div>\n",
       "<style scoped>\n",
       "    .dataframe tbody tr th:only-of-type {\n",
       "        vertical-align: middle;\n",
       "    }\n",
       "\n",
       "    .dataframe tbody tr th {\n",
       "        vertical-align: top;\n",
       "    }\n",
       "\n",
       "    .dataframe thead th {\n",
       "        text-align: right;\n",
       "    }\n",
       "</style>\n",
       "<table border=\"1\" class=\"dataframe\">\n",
       "  <thead>\n",
       "    <tr style=\"text-align: right;\">\n",
       "      <th></th>\n",
       "      <th>sepal length (cm)</th>\n",
       "      <th>sepal width (cm)</th>\n",
       "      <th>petal length (cm)</th>\n",
       "      <th>petal width (cm)</th>\n",
       "      <th>target</th>\n",
       "    </tr>\n",
       "  </thead>\n",
       "  <tbody>\n",
       "    <tr>\n",
       "      <th>0</th>\n",
       "      <td>5.1</td>\n",
       "      <td>3.5</td>\n",
       "      <td>1.4</td>\n",
       "      <td>0.2</td>\n",
       "      <td>0</td>\n",
       "    </tr>\n",
       "    <tr>\n",
       "      <th>1</th>\n",
       "      <td>4.9</td>\n",
       "      <td>3.0</td>\n",
       "      <td>1.4</td>\n",
       "      <td>0.2</td>\n",
       "      <td>0</td>\n",
       "    </tr>\n",
       "    <tr>\n",
       "      <th>2</th>\n",
       "      <td>4.7</td>\n",
       "      <td>3.2</td>\n",
       "      <td>1.3</td>\n",
       "      <td>0.2</td>\n",
       "      <td>0</td>\n",
       "    </tr>\n",
       "    <tr>\n",
       "      <th>3</th>\n",
       "      <td>4.6</td>\n",
       "      <td>3.1</td>\n",
       "      <td>1.5</td>\n",
       "      <td>0.2</td>\n",
       "      <td>0</td>\n",
       "    </tr>\n",
       "    <tr>\n",
       "      <th>4</th>\n",
       "      <td>5.0</td>\n",
       "      <td>3.6</td>\n",
       "      <td>1.4</td>\n",
       "      <td>0.2</td>\n",
       "      <td>0</td>\n",
       "    </tr>\n",
       "    <tr>\n",
       "      <th>...</th>\n",
       "      <td>...</td>\n",
       "      <td>...</td>\n",
       "      <td>...</td>\n",
       "      <td>...</td>\n",
       "      <td>...</td>\n",
       "    </tr>\n",
       "    <tr>\n",
       "      <th>145</th>\n",
       "      <td>6.7</td>\n",
       "      <td>3.0</td>\n",
       "      <td>5.2</td>\n",
       "      <td>2.3</td>\n",
       "      <td>2</td>\n",
       "    </tr>\n",
       "    <tr>\n",
       "      <th>146</th>\n",
       "      <td>6.3</td>\n",
       "      <td>2.5</td>\n",
       "      <td>5.0</td>\n",
       "      <td>1.9</td>\n",
       "      <td>2</td>\n",
       "    </tr>\n",
       "    <tr>\n",
       "      <th>147</th>\n",
       "      <td>6.5</td>\n",
       "      <td>3.0</td>\n",
       "      <td>5.2</td>\n",
       "      <td>2.0</td>\n",
       "      <td>2</td>\n",
       "    </tr>\n",
       "    <tr>\n",
       "      <th>148</th>\n",
       "      <td>6.2</td>\n",
       "      <td>3.4</td>\n",
       "      <td>5.4</td>\n",
       "      <td>2.3</td>\n",
       "      <td>2</td>\n",
       "    </tr>\n",
       "    <tr>\n",
       "      <th>149</th>\n",
       "      <td>5.9</td>\n",
       "      <td>3.0</td>\n",
       "      <td>5.1</td>\n",
       "      <td>1.8</td>\n",
       "      <td>2</td>\n",
       "    </tr>\n",
       "  </tbody>\n",
       "</table>\n",
       "<p>150 rows × 5 columns</p>\n",
       "</div>"
      ],
      "text/plain": [
       "     sepal length (cm)  sepal width (cm)  petal length (cm)  petal width (cm)  \\\n",
       "0                  5.1               3.5                1.4               0.2   \n",
       "1                  4.9               3.0                1.4               0.2   \n",
       "2                  4.7               3.2                1.3               0.2   \n",
       "3                  4.6               3.1                1.5               0.2   \n",
       "4                  5.0               3.6                1.4               0.2   \n",
       "..                 ...               ...                ...               ...   \n",
       "145                6.7               3.0                5.2               2.3   \n",
       "146                6.3               2.5                5.0               1.9   \n",
       "147                6.5               3.0                5.2               2.0   \n",
       "148                6.2               3.4                5.4               2.3   \n",
       "149                5.9               3.0                5.1               1.8   \n",
       "\n",
       "     target  \n",
       "0         0  \n",
       "1         0  \n",
       "2         0  \n",
       "3         0  \n",
       "4         0  \n",
       "..      ...  \n",
       "145       2  \n",
       "146       2  \n",
       "147       2  \n",
       "148       2  \n",
       "149       2  \n",
       "\n",
       "[150 rows x 5 columns]"
      ]
     },
     "execution_count": 32,
     "metadata": {},
     "output_type": "execute_result"
    }
   ],
   "source": [
    "# Скачиваем датасет\n",
    "load_iris = load_iris()\n",
    "data  = pd.DataFrame(data = load_iris.data, columns = load_iris.feature_names)\n",
    "data['target'] = load_iris.target\n",
    "data"
   ]
  },
  {
   "cell_type": "markdown",
   "id": "2bde5f90",
   "metadata": {},
   "source": [
    "Урок английского\n",
    "- sepal - чашелистик\n",
    "- petal - лепесток\n",
    "\n",
    "Features\n",
    "- sepal length in cm\n",
    "- sepal width in cm\n",
    "- petal length in cm\n",
    "- petal width in cm\n",
    "\n",
    "Target:\n",
    "\n",
    "- 0 - Iris-Setosa (Ирис щетинистый)\n",
    "- 1 - Iris-Versicolour (Ирис разноцветный\n",
    "- 2 - Iris-Virginica (Ирис виргинский)"
   ]
  },
  {
   "cell_type": "code",
   "execution_count": 33,
   "id": "9eb65814",
   "metadata": {
    "ExecuteTime": {
     "end_time": "2022-11-06T13:07:57.613200Z",
     "start_time": "2022-11-06T13:07:57.593556Z"
    }
   },
   "outputs": [],
   "source": [
    "data['target_name'] = data['target'].map({0: 'Iris-Setosa', 1: 'Iris-Versicolour', 2: 'Iris-Virginica'})\n",
    "data['sepal'] = data.apply(lambda row: row['sepal length (cm)'] * row['sepal width (cm)'], axis = 1)\n",
    "data['petal'] = data.apply(lambda row: row['petal length (cm)'] * row['petal length (cm)'], axis = 1)\n",
    "data['target_0'] = data['target'].apply(lambda x: 1 if x == 0 else 0)\n",
    "data['target_1'] = data['target'].apply(lambda x: 1 if x == 1 else 0)\n",
    "data['target_2'] = data['target'].apply(lambda x: 1 if x == 2 else 0)"
   ]
  },
  {
   "cell_type": "code",
   "execution_count": 34,
   "id": "a790f86b",
   "metadata": {
    "ExecuteTime": {
     "end_time": "2022-11-06T13:07:57.786571Z",
     "start_time": "2022-11-06T13:07:57.615625Z"
    }
   },
   "outputs": [
    {
     "data": {
      "image/png": "[encoded data removed]",
      "text/plain": [
       "<Figure size 720x432 with 1 Axes>"
      ]
     },
     "metadata": {
      "needs_background": "light"
     },
     "output_type": "display_data"
    }
   ],
   "source": [
    "import seaborn as sns\n",
    "import matplotlib.pyplot as plt\n",
    "\n",
    "fig = plt.figure(figsize=(10, 6))\n",
    "\n",
    "p = sns.scatterplot(data = data, x = 'sepal', y='petal', hue = 'target_name', palette = ['green', 'yellow', 'blue'])\n",
    "\n",
    "p.set_xlabel('sepal - размер чашелистика', fontsize = 14)\n",
    "p.set_ylabel('petal - размер лепестка', fontsize = 14)\n",
    "\n",
    "plt.show()"
   ]
  },
  {
   "cell_type": "markdown",
   "id": "db3acaac",
   "metadata": {},
   "source": [
    "# Loss для задачи классификации"
   ]
  },
  {
   "cell_type": "markdown",
   "id": "825290b3",
   "metadata": {},
   "source": [
    "В задаче регрессии для подбора коэффициентов мы минимизировали функцию ошибки MSE на всём датасете. В задаче классификации мы будем максимизировать правдоподобие. \n",
    "\n",
    "**Правдоподобие** — это вероятность получить выборку наших наблюдений, то есть вероятность того, что мы имеем наш датасет с разметкой именно такой.\n",
    "\n",
    "$$\\prod_{i = 1}^{l} P(T = t_i | x_i) \\rightarrow \\underset{\\mathbf{w}}{max}$$\n",
    "\n",
    "где $P(T = t_i | x_i)$ — вероятность того, что таргет будет равен $t_i$, если объект обладает признаками $x_i$\n",
    "\n",
    "С произведением работать неудобно. Поэтом возьмём логарифм. Поскольку логарифм - функция возрастающая, то желание найти максимум не поменяется на желание найти минимум.\n",
    "\n",
    "$$ln \\Big( \\prod_{i = 1}^{l} P(T = t_i | x_i) \\Big) \\rightarrow \\underset{\\mathbf{w}}{max}$$\n",
    "\n",
    "$$ \\sum_{i = 1}^{l} ln \\big(P(T = t_i | x_i) \\big) \\rightarrow \\underset{\\mathbf{w}}{max}$$\n",
    "\n",
    "Домножим на минус, чтобы нам необходимо было искать минимум.\n",
    "\n",
    "$$ L(\\mathbf{w}) = -\\sum_{i = 1}^{l} ln \\big(P(T = t_i | x_i) \\big) \\rightarrow \\underset{\\mathbf{w}}{min}$$\n",
    "\n",
    "\n",
    "**Для двух классов**\n",
    "$$ \\boxed{L(\\mathbf{w}) = -\\sum_{i = 1}^{l} \\big(t_i \\ln (p_i) + (1 - t_i) \\ln (1 - p_i) \\big) \\rightarrow \\underset{\\mathbf{w}}{min}}$$\n",
    "\n",
    "$t_i$ - таргет на наблюдении i<br>\n",
    "$p_i$ - вероятность, которая вернула модель на наблюдении i<br>\n",
    "$l$ — количество наблюдений "
   ]
  },
  {
   "cell_type": "markdown",
   "id": "88159d9b",
   "metadata": {},
   "source": [
    "**Для множества классов:**\n",
    "\n",
    "$$ \\boxed{L(\\mathbf{w}) = -\\sum_{i = 1}^{l} \\sum_{c = 0}^{N} \\big[ t_c \\ln (p_c) \\big]_{i}\\rightarrow \\underset{\\mathbf{w}}{min}}$$\n",
    "\n",
    "$N$ — количество классов <br>\n",
    "$l$ — количество наблюдений "
   ]
  },
  {
   "cell_type": "markdown",
   "id": "2ed370c0",
   "metadata": {},
   "source": [
    "**Объяснение, что при бинарной классификации получается формула из двух слагаемых.**<br>\n",
    "Легко видеть, что, в завимимости от таргета каждое слагаемое суммы будет обычным логарифмом.<br><br>\n",
    "$$ln \\big(P(T = t_i | x_i) \\big) = t_i \\ln (p_i) + (1 - t_i) \\ln (1 - p_i)$$\n",
    "\n",
    "$$t_i = 1 \\;\\;\\rightarrow\\;\\; ln \\big(P(T = t_i | x_i) \\big) = \\ln (p_i)$$\n",
    "\n",
    "$$t_i = 0 \\;\\;\\rightarrow\\;\\; ln \\big(P(T = t_i | x_i) \\big) = \\ln (1-p_i)$$ \n",
    "\n",
    "<br>"
   ]
  },
  {
   "cell_type": "markdown",
   "id": "55689402",
   "metadata": {},
   "source": [
    "# Как считать вероятность?"
   ]
  },
  {
   "cell_type": "markdown",
   "id": "3cf75845",
   "metadata": {},
   "source": [
    "Но как же выразить вероятность, которая присутствует в формуле для кросс-энтропии, через признаки классов?"
   ]
  },
  {
   "cell_type": "markdown",
   "id": "4c892371",
   "metadata": {},
   "source": [
    "Шансами называется отношение вероятности принадлежности к классу 1 к вероятности принадлежности к классу 2.\n",
    "\n",
    "$$Odds = \\frac{p}{1-p}$$\n",
    "\n",
    "$$p = \\frac{Odds}{Odds + 1}$$\n",
    "\n",
    "$$p = \\frac{1}{1 + 1/Odds}$$\n",
    "\n",
    "$$p = \\frac{1}{1 + e^{ln(1/Odds)}}$$\n",
    "\n",
    "$$p = \\frac{1}{1 + e^{-ln\\big(Odds\\big)}}$$\n",
    "\n",
    "Стоит отметить, что: \n",
    "- Odds $\\in [0, +\\infty$]\n",
    "- ln(Odds) $\\in [-\\infty, +\\infty$]\n",
    "\n",
    "Поскольку логарифм шансов может принимать любые значения от минус бесконечности до плюс бесконечности, мы можем выходы линейной модели (logits) прогонять через полученную сигмоидальную функцию. В результате обучения модели, линейные выходы будет иметь физический смысл логарифма шансов иметь целевой признак.\n",
    "\n",
    "Обозначив линейный выход модели $log(Odds) = z$, запишем получившуюся формулу:\n",
    "\n",
    "$$\\boxed{\\sigma(z) = \\frac{1}{1+e^{-z}}}$$\n",
    "\n",
    "Физический смысл коэффициентов модели \n",
    "- Intercept: Логарифм шансов иметь признак, если все категориальные и численные признаки равны нулю. \n",
    "- при числовых признаках: При единичном изменении признака, логарифм шансов изменяется на величину коэффициента.\n",
    "- при категориальных признаках: При переходе к новой категории (0  $\\rightarrow$ 1) логарифм шансов изменяется на величину."
   ]
  },
  {
   "cell_type": "markdown",
   "id": "c11571b6",
   "metadata": {},
   "source": [
    "# Train и Test"
   ]
  },
  {
   "cell_type": "code",
   "execution_count": 35,
   "id": "e35c58d9",
   "metadata": {
    "ExecuteTime": {
     "end_time": "2022-11-06T13:07:57.795195Z",
     "start_time": "2022-11-06T13:07:57.787771Z"
    }
   },
   "outputs": [],
   "source": [
    "def add_folds_to_dataframe(df):\n",
    "    df['Type'] = 0\n",
    "    kf = KFold(shuffle=True)\n",
    "    for train_index, test_index in kf.split(df.index):\n",
    "        df.loc[test_index, 'Type'] = 'Test'\n",
    "        df.loc[train_index, 'Type'] = 'Train'\n",
    "    return df\n",
    "\n",
    "data = add_folds_to_dataframe(data)"
   ]
  },
  {
   "cell_type": "code",
   "execution_count": 36,
   "id": "e1eafae3",
   "metadata": {
    "ExecuteTime": {
     "end_time": "2022-11-06T13:07:57.814846Z",
     "start_time": "2022-11-06T13:07:57.796422Z"
    }
   },
   "outputs": [],
   "source": [
    "train = data[data['Type'] == 'Train']\n",
    "X_train = train[['sepal', 'petal']].to_numpy()\n",
    "y_train = train['target_0']\n",
    "\n",
    "test = data[data['Type'] == 'Test']\n",
    "X_test = test[['sepal', 'petal']].to_numpy()\n",
    "y_test = test['target_0']"
   ]
  },
  {
   "cell_type": "markdown",
   "id": "b766e401",
   "metadata": {},
   "source": [
    "# Обучение модели"
   ]
  },
  {
   "cell_type": "markdown",
   "id": "e5d9a1b9",
   "metadata": {},
   "source": [
    "## За класс 1 принимаем (setosa)"
   ]
  },
  {
   "cell_type": "code",
   "execution_count": 37,
   "id": "e7356950",
   "metadata": {
    "ExecuteTime": {
     "end_time": "2022-11-06T13:07:57.841057Z",
     "start_time": "2022-11-06T13:07:57.816028Z"
    }
   },
   "outputs": [
    {
     "name": "stdout",
     "output_type": "stream",
     "text": [
      "1.0 - Train score\n",
      "1.0 - Test score\n"
     ]
    }
   ],
   "source": [
    "logisticregression_object = LogisticRegression()\n",
    "logisticregression_object.fit(X_train, y_train)\n",
    "\n",
    "y_train_score = logisticregression_object.predict_proba(X_train)[:, 1]\n",
    "y_test_score = logisticregression_object.predict_proba(X_test)[:, 1]\n",
    "print(roc_auc_score(y_true = y_train, y_score = y_train_score), '- Train score')\n",
    "print(roc_auc_score(y_true = y_test, y_score = y_test_score), '- Test score')"
   ]
  },
  {
   "cell_type": "markdown",
   "id": "404c409a",
   "metadata": {},
   "source": [
    "https://jakevdp.github.io/PythonDataScienceHandbook/04.04-density-and-contour-plots.html\n",
    "\n",
    "https://stackoverflow.com/questions/22294241/plotting-a-decision-boundary-separating-2-classes-using-matplotlibs-pyplot\n",
    "\n",
    "https://stackoverflow.com/questions/33282368/plotting-a-2d-heatmap"
   ]
  },
  {
   "cell_type": "code",
   "execution_count": 38,
   "id": "5291fe6f",
   "metadata": {
    "ExecuteTime": {
     "end_time": "2022-11-06T13:07:57.847493Z",
     "start_time": "2022-11-06T13:07:57.842332Z"
    }
   },
   "outputs": [],
   "source": [
    "def show_devided_surface(X, y, model, target_column_name):\n",
    "    \"\"\"\n",
    "    Функция строит тепловую карту вероятности и разделяющую поверхность\n",
    "    \"\"\"\n",
    "\n",
    "    # 1. Ищем область, в которой будем рисовать\n",
    "    min1, max1 = X[:, 0].min() - 2, X[:, 0].max() + 2 # 1st feature\n",
    "    min2, max2 = X[:, 1].min() - 3, X[:, 1].max() + 3 # 2nd feature\n",
    "        # создаём массив на каждую ось\n",
    "    x1_scale = np.linspace(min1, max1, 500)\n",
    "    x2_scale = np.linspace(min2, max2, 500)\n",
    "        # Соединяем массивы по x и y\n",
    "    x_grid, y_grid = np.meshgrid(x1_scale, x2_scale)\n",
    "\n",
    "    # 2. Делаем предикт\n",
    "    Z_proba = model.predict_proba(np.c_[x_grid.ravel(), y_grid.ravel()])[:, 1]\n",
    "    Z_proba = Z_proba.reshape(x_grid.shape)\n",
    "    Z_classes = (model.predict_proba(np.c_[x_grid.ravel(), y_grid.ravel()])[:, 1] >= 0.5).astype(int)\n",
    "    Z_classes = Z_classes.reshape(x_grid.shape)\n",
    "\n",
    "    surface = plt.contourf(x_grid, y_grid, Z_proba, 100, cmap='Oranges')\n",
    "    plt.contour(x_grid, y_grid, Z_classes, colors='black')\n",
    "    plt.colorbar(surface)\n",
    "    sns.scatterplot(data = data, x='sepal', y='petal', hue = target_column_name, style=\"Type\")\n",
    "    plt.show()"
   ]
  },
  {
   "cell_type": "code",
   "execution_count": 40,
   "id": "eadc4204",
   "metadata": {
    "ExecuteTime": {
     "end_time": "2022-11-06T13:08:10.328196Z",
     "start_time": "2022-11-06T13:08:09.766484Z"
    }
   },
   "outputs": [
    {
     "data": {
      "image/png": "[encoded data removed]",
      "text/plain": [
       "<Figure size 432x288 with 2 Axes>"
      ]
     },
     "metadata": {
      "needs_background": "light"
     },
     "output_type": "display_data"
    }
   ],
   "source": [
    "show_devided_surface(X_train, y_train, logisticregression_object, target_column_name = 'target_0')"
   ]
  },
  {
   "cell_type": "markdown",
   "id": "453d89fe",
   "metadata": {
    "ExecuteTime": {
     "end_time": "2022-11-06T13:06:30.243983Z",
     "start_time": "2022-11-06T13:06:30.240724Z"
    }
   },
   "source": [
    "## За класс 1 принимаем (versicolor)"
   ]
  },
  {
   "cell_type": "code",
   "execution_count": 41,
   "id": "54dc9385",
   "metadata": {
    "ExecuteTime": {
     "end_time": "2022-11-06T13:08:37.205148Z",
     "start_time": "2022-11-06T13:08:37.198452Z"
    }
   },
   "outputs": [],
   "source": [
    "y_train = train['target_1']\n",
    "y_test = test['target_1']"
   ]
  },
  {
   "cell_type": "code",
   "execution_count": 42,
   "id": "5659112d",
   "metadata": {
    "ExecuteTime": {
     "end_time": "2022-11-06T13:08:37.535380Z",
     "start_time": "2022-11-06T13:08:37.519806Z"
    }
   },
   "outputs": [
    {
     "name": "stdout",
     "output_type": "stream",
     "text": [
      "0.7301636307502315 - Train score\n",
      "0.6666666666666666 - Test score\n"
     ]
    }
   ],
   "source": [
    "logisticregression_object = LogisticRegression()\n",
    "logisticregression_object.fit(X_train, y_train)\n",
    "\n",
    "y_train_score = logisticregression_object.predict_proba(X_train)[:, 1]\n",
    "y_test_score = logisticregression_object.predict_proba(X_test)[:, 1]\n",
    "print(roc_auc_score(y_true = y_train, y_score = y_train_score), '- Train score')\n",
    "print(roc_auc_score(y_true = y_test, y_score = y_test_score), '- Test score')"
   ]
  },
  {
   "cell_type": "code",
   "execution_count": 43,
   "id": "e78859bb",
   "metadata": {
    "ExecuteTime": {
     "end_time": "2022-11-06T13:08:38.489179Z",
     "start_time": "2022-11-06T13:08:37.826139Z"
    }
   },
   "outputs": [
    {
     "data": {
      "image/png": "[encoded data removed]",
      "text/plain": [
       "<Figure size 432x288 with 2 Axes>"
      ]
     },
     "metadata": {
      "needs_background": "light"
     },
     "output_type": "display_data"
    }
   ],
   "source": [
    "show_devided_surface(X_train, y_train, logisticregression_object, target_column_name = 'target_1')"
   ]
  },
  {
   "cell_type": "markdown",
   "id": "a408910f",
   "metadata": {},
   "source": [
    "## За класс 1 принимаем (virginica)"
   ]
  },
  {
   "cell_type": "code",
   "execution_count": 44,
   "id": "aed896da",
   "metadata": {
    "ExecuteTime": {
     "end_time": "2022-11-06T13:09:19.780203Z",
     "start_time": "2022-11-06T13:09:19.776781Z"
    }
   },
   "outputs": [],
   "source": [
    "y_train = train['target_2']\n",
    "y_test = test['target_2']"
   ]
  },
  {
   "cell_type": "code",
   "execution_count": 45,
   "id": "a291168a",
   "metadata": {
    "ExecuteTime": {
     "end_time": "2022-11-06T13:09:20.131150Z",
     "start_time": "2022-11-06T13:09:20.097814Z"
    }
   },
   "outputs": [
    {
     "name": "stdout",
     "output_type": "stream",
     "text": [
      "0.9943019943019943 - Train score\n",
      "0.9952153110047848 - Test score\n"
     ]
    }
   ],
   "source": [
    "logisticregression_object = LogisticRegression()\n",
    "logisticregression_object.fit(X_train, y_train)\n",
    "\n",
    "y_train_score = logisticregression_object.predict_proba(X_train)[:, 1]\n",
    "y_test_score = logisticregression_object.predict_proba(X_test)[:, 1]\n",
    "print(roc_auc_score(y_true = y_train, y_score = y_train_score), '- Train score')\n",
    "print(roc_auc_score(y_true = y_test, y_score = y_test_score), '- Test score')"
   ]
  },
  {
   "cell_type": "code",
   "execution_count": 46,
   "id": "3828edef",
   "metadata": {
    "ExecuteTime": {
     "end_time": "2022-11-06T13:09:21.104867Z",
     "start_time": "2022-11-06T13:09:20.516912Z"
    },
    "scrolled": true
   },
   "outputs": [
    {
     "data": {
      "image/png": "[encoded data removed]",
      "text/plain": [
       "<Figure size 432x288 with 2 Axes>"
      ]
     },
     "metadata": {
      "needs_background": "light"
     },
     "output_type": "display_data"
    }
   ],
   "source": [
    "show_devided_surface(X_train, y_train, logisticregression_object, target_column_name = 'target_1')"
   ]
  },
  {
   "cell_type": "code",
   "execution_count": null,
   "id": "3dcac467",
   "metadata": {},
   "outputs": [],
   "source": []
  }
 ],
 "metadata": {
  "kernelspec": {
   "display_name": "Python 3 (ipykernel)",
   "language": "python",
   "name": "python3"
  },
  "language_info": {
   "codemirror_mode": {
    "name": "ipython",
    "version": 3
   },
   "file_extension": ".py",
   "mimetype": "text/x-python",
   "name": "python",
   "nbconvert_exporter": "python",
   "pygments_lexer": "ipython3",
   "version": "3.10.6"
  },
  "toc": {
   "base_numbering": 1,
   "nav_menu": {},
   "number_sections": true,
   "sideBar": true,
   "skip_h1_title": false,
   "title_cell": "Table of Contents",
   "title_sidebar": "Contents",
   "toc_cell": false,
   "toc_position": {},
   "toc_section_display": true,
   "toc_window_display": true
  },
  "varInspector": {
   "cols": {
    "lenName": 16,
    "lenType": 16,
    "lenVar": 40
   },
   "kernels_config": {
    "python": {
     "delete_cmd_postfix": "",
     "delete_cmd_prefix": "del ",
     "library": "var_list.py",
     "varRefreshCmd": "print(var_dic_list())"
    },
    "r": {
     "delete_cmd_postfix": ") ",
     "delete_cmd_prefix": "rm(",
     "library": "var_list.r",
     "varRefreshCmd": "cat(var_dic_list()) "
    }
   },
   "types_to_exclude": [
    "module",
    "function",
    "builtin_function_or_method",
    "instance",
    "_Feature"
   ],
   "window_display": false
  }
 },
 "nbformat": 4,
 "nbformat_minor": 5
}
