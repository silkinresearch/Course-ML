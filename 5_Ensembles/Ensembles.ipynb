{
 "cells": [
  {
   "cell_type": "markdown",
   "id": "67c467a5",
   "metadata": {},
   "source": [
    "https://scikit-learn.org/stable/datasets/toy_dataset.html#breast-cancer-dataset"
   ]
  },
  {
   "cell_type": "code",
   "execution_count": 2,
   "id": "72cfb07e",
   "metadata": {},
   "outputs": [],
   "source": [
    "# titanic = sns.load_dataset('titanic')\n",
    "# titanic\n",
    "# X = train.drop([\"Survived\", \"Name\", \"Ticket\", \"Cabin\"], axis = 1)\n",
    "# y = train.Survived\n",
    "# X.head()"
   ]
  },
  {
   "cell_type": "code",
   "execution_count": 36,
   "id": "e3c2563e",
   "metadata": {},
   "outputs": [],
   "source": [
    "from sklearn.ensemble import RandomForestClassifier, AdaBoostClassifier, GradientBoostingClassifier\n",
    "from sklearn.model_selection import train_test_split, GridSearchCV, cross_val_score\n",
    "from sklearn.metrics import roc_auc_score\n",
    "from sklearn.tree import DecisionTreeClassifier\n",
    "import seaborn as sns\n",
    "\n",
    "from sklearn.datasets import load_breast_cancer\n",
    "import pandas as pd\n",
    "breast_cancer = load_breast_cancer()"
   ]
  },
  {
   "cell_type": "markdown",
   "id": "0670d35a",
   "metadata": {},
   "source": [
    "# Данные"
   ]
  },
  {
   "cell_type": "code",
   "execution_count": null,
   "id": "b054479e",
   "metadata": {},
   "outputs": [],
   "source": [
    "breast_cancer_df = pd.DataFrame(data = breast_cancer.data, columns = breast_cancer.feature_names)\n",
    "breast_cancer_df['is_benign'] = breast_cancer.target\n",
    "breast_cancer_df"
   ]
  },
  {
   "cell_type": "markdown",
   "id": "6b689c03",
   "metadata": {},
   "source": [
    "- 212 - Malignant (0) (Доброкачественные)\n",
    "- 357 - Benign (1) (Злокачественные)\n"
   ]
  },
  {
   "cell_type": "code",
   "execution_count": 19,
   "id": "2d21818b",
   "metadata": {},
   "outputs": [
    {
     "data": {
      "text/plain": [
       "1    357\n",
       "0    212\n",
       "Name: is_benign, dtype: int64"
      ]
     },
     "execution_count": 19,
     "metadata": {},
     "output_type": "execute_result"
    }
   ],
   "source": [
    "breast_cancer_df['is_benign'].value_counts()"
   ]
  },
  {
   "cell_type": "markdown",
   "id": "59e58419",
   "metadata": {},
   "source": [
    "# Случайный лес как средство борьбы с переобучением"
   ]
  },
  {
   "cell_type": "markdown",
   "id": "0daff185",
   "metadata": {},
   "source": [
    "## Обычное дерево"
   ]
  },
  {
   "cell_type": "code",
   "execution_count": 37,
   "id": "db94eb74",
   "metadata": {},
   "outputs": [],
   "source": [
    "roc_aucs = {'train': [], 'test': [], 'cross_val_scores': []}\n",
    "for depth in range(1, 50):\n",
    "    # Инициализируем (сажаем) дерево решений\n",
    "    clf_tree = DecisionTreeClassifier(criterion = 'entropy', max_depth=depth)\n",
    "    clf_forest = RandomForestClassifier(max_depth=depth)\n",
    "\n",
    "    # Обучаем дерево решений\n",
    "    clf_tree.fit(X_train, y_train)\n",
    "    \n",
    "    mean_cross_val_score = cross_val_score(clf, X_train, y_train, scoring='roc_auc', cv = 5).mean()\n",
    "    roc_aucs['train'].append(roc_auc_score(y_true=y_train, y_score=clf_tree.predict_proba(X_train)[:, 1]))\n",
    "    roc_aucs['test'].append(roc_auc_score(y_true=y_test, y_score=clf_tree.predict_proba(X_test)[:, 1]))\n",
    "    roc_aucs['cross_val_scores'].append(mean_cross_val_score)"
   ]
  },
  {
   "cell_type": "code",
   "execution_count": 39,
   "id": "3e0b4808",
   "metadata": {},
   "outputs": [
    {
     "data": {
      "text/plain": [
       "<AxesSubplot:>"
      ]
     },
     "execution_count": 39,
     "metadata": {},
     "output_type": "execute_result"
    },
    {
     "data": {
      "image/png": "[encoded data removed]",
      "text/plain": [
       "<Figure size 432x288 with 1 Axes>"
      ]
     },
     "metadata": {
      "needs_background": "light"
     },
     "output_type": "display_data"
    }
   ],
   "source": [
    "import seaborn as sns\n",
    "\n",
    "sns.lineplot(y=roc_aucs['train'], x=np.arange(1,50,1), label = 'Train: Tree')\n",
    "sns.lineplot(y=roc_aucs['test'], x=np.arange(1,50,1), label = 'Test: Tree')\n",
    "sns.lineplot(y=roc_aucs['cross_val_scores'], x=np.arange(1,50,1), label = 'Cross-Val: Tree')"
   ]
  },
  {
   "cell_type": "code",
   "execution_count": 6,
   "id": "a44525d1",
   "metadata": {},
   "outputs": [],
   "source": [
    "X = breast_cancer_df.drop(['is_benign'], axis = 1)\n",
    "y = breast_cancer_df['is_benign']\n",
    "X_train, X_test, y_train, y_test = train_test_split(X, y, test_size=0.2)"
   ]
  },
  {
   "cell_type": "markdown",
   "id": "f695bcbc",
   "metadata": {},
   "source": [
    "# GridSearchCV"
   ]
  },
  {
   "cell_type": "code",
   "execution_count": 7,
   "id": "1d48a072",
   "metadata": {},
   "outputs": [
    {
     "data": {
      "text/plain": [
       "{'max_depth': 10, 'n_estimators': 20}"
      ]
     },
     "execution_count": 7,
     "metadata": {},
     "output_type": "execute_result"
    }
   ],
   "source": [
    "# 1. Инициализация \n",
    "clf_rf = RandomForestClassifier()\n",
    "\n",
    "# 2. Выбор параметров для GridSearchCV\n",
    "parameters = {'n_estimators': [10, 20, 30, 40, 50], # количество деревьев\n",
    "             'max_depth': [2, 5, 7, 10]}   # максимальная глубина каждого дерева\n",
    "\n",
    "# Инициализируем стэк классификаторов с параметрами из сетки parameters. \n",
    "grid_search_cv_clf = GridSearchCV(clf_rf, parameters, cv=5, scoring = 'roc_auc')\n",
    "\n",
    "# 3. Обучение кучи моделей в GridSearchCV\n",
    "grid_search_cv_clf.fit(X_train, y_train)\n",
    "grid_search_cv_clf.best_params_"
   ]
  },
  {
   "cell_type": "code",
   "execution_count": 8,
   "id": "690e3544",
   "metadata": {},
   "outputs": [],
   "source": [
    "# Можно сразу получить лучшую модель\n",
    "best_clf = grid_search_cv_clf.best_estimator_"
   ]
  },
  {
   "cell_type": "code",
   "execution_count": 9,
   "id": "8791a5b8",
   "metadata": {},
   "outputs": [
    {
     "data": {
      "text/html": [
       "<div>\n",
       "<style scoped>\n",
       "    .dataframe tbody tr th:only-of-type {\n",
       "        vertical-align: middle;\n",
       "    }\n",
       "\n",
       "    .dataframe tbody tr th {\n",
       "        vertical-align: top;\n",
       "    }\n",
       "\n",
       "    .dataframe thead th {\n",
       "        text-align: right;\n",
       "    }\n",
       "</style>\n",
       "<table border=\"1\" class=\"dataframe\">\n",
       "  <thead>\n",
       "    <tr style=\"text-align: right;\">\n",
       "      <th></th>\n",
       "      <th>param_max_depth</th>\n",
       "      <th>param_max_depth</th>\n",
       "      <th>mean_test_score</th>\n",
       "      <th>std_test_score</th>\n",
       "      <th>rank_test_score</th>\n",
       "    </tr>\n",
       "  </thead>\n",
       "  <tbody>\n",
       "    <tr>\n",
       "      <th>16</th>\n",
       "      <td>10</td>\n",
       "      <td>10</td>\n",
       "      <td>99.00</td>\n",
       "      <td>1.28</td>\n",
       "      <td>1</td>\n",
       "    </tr>\n",
       "    <tr>\n",
       "      <th>12</th>\n",
       "      <td>7</td>\n",
       "      <td>7</td>\n",
       "      <td>98.99</td>\n",
       "      <td>1.23</td>\n",
       "      <td>2</td>\n",
       "    </tr>\n",
       "    <tr>\n",
       "      <th>13</th>\n",
       "      <td>7</td>\n",
       "      <td>7</td>\n",
       "      <td>98.95</td>\n",
       "      <td>1.37</td>\n",
       "      <td>3</td>\n",
       "    </tr>\n",
       "    <tr>\n",
       "      <th>9</th>\n",
       "      <td>5</td>\n",
       "      <td>5</td>\n",
       "      <td>98.91</td>\n",
       "      <td>1.38</td>\n",
       "      <td>4</td>\n",
       "    </tr>\n",
       "    <tr>\n",
       "      <th>5</th>\n",
       "      <td>5</td>\n",
       "      <td>5</td>\n",
       "      <td>98.90</td>\n",
       "      <td>1.67</td>\n",
       "      <td>5</td>\n",
       "    </tr>\n",
       "    <tr>\n",
       "      <th>19</th>\n",
       "      <td>10</td>\n",
       "      <td>10</td>\n",
       "      <td>98.88</td>\n",
       "      <td>1.52</td>\n",
       "      <td>6</td>\n",
       "    </tr>\n",
       "    <tr>\n",
       "      <th>14</th>\n",
       "      <td>7</td>\n",
       "      <td>7</td>\n",
       "      <td>98.87</td>\n",
       "      <td>1.83</td>\n",
       "      <td>7</td>\n",
       "    </tr>\n",
       "    <tr>\n",
       "      <th>3</th>\n",
       "      <td>2</td>\n",
       "      <td>2</td>\n",
       "      <td>98.87</td>\n",
       "      <td>1.26</td>\n",
       "      <td>8</td>\n",
       "    </tr>\n",
       "    <tr>\n",
       "      <th>6</th>\n",
       "      <td>5</td>\n",
       "      <td>5</td>\n",
       "      <td>98.85</td>\n",
       "      <td>1.74</td>\n",
       "      <td>9</td>\n",
       "    </tr>\n",
       "    <tr>\n",
       "      <th>7</th>\n",
       "      <td>5</td>\n",
       "      <td>5</td>\n",
       "      <td>98.81</td>\n",
       "      <td>1.76</td>\n",
       "      <td>10</td>\n",
       "    </tr>\n",
       "  </tbody>\n",
       "</table>\n",
       "</div>"
      ],
      "text/plain": [
       "   param_max_depth param_max_depth  mean_test_score  std_test_score  \\\n",
       "16              10              10            99.00            1.28   \n",
       "12               7               7            98.99            1.23   \n",
       "13               7               7            98.95            1.37   \n",
       "9                5               5            98.91            1.38   \n",
       "5                5               5            98.90            1.67   \n",
       "19              10              10            98.88            1.52   \n",
       "14               7               7            98.87            1.83   \n",
       "3                2               2            98.87            1.26   \n",
       "6                5               5            98.85            1.74   \n",
       "7                5               5            98.81            1.76   \n",
       "\n",
       "    rank_test_score  \n",
       "16                1  \n",
       "12                2  \n",
       "13                3  \n",
       "9                 4  \n",
       "5                 5  \n",
       "19                6  \n",
       "14                7  \n",
       "3                 8  \n",
       "6                 9  \n",
       "7                10  "
      ]
     },
     "execution_count": 9,
     "metadata": {},
     "output_type": "execute_result"
    }
   ],
   "source": [
    "result = pd.DataFrame(grid_search_cv_clf.cv_results_)[['param_max_depth', 'param_max_depth', 'mean_test_score', 'std_test_score', 'rank_test_score']].sort_values('rank_test_score')\n",
    "result['mean_test_score'] = round(result['mean_test_score']*100, 2)\n",
    "result['std_test_score'] = round(result['std_test_score']*100, 2)\n",
    "result[:10]"
   ]
  },
  {
   "cell_type": "code",
   "execution_count": 10,
   "id": "76c856d1",
   "metadata": {},
   "outputs": [
    {
     "data": {
      "text/plain": [
       "98.66"
      ]
     },
     "execution_count": 10,
     "metadata": {},
     "output_type": "execute_result"
    }
   ],
   "source": [
    "# Замеряем итоговое качество на трейне и тесте\n",
    "round(roc_auc_score(y_score = best_clf.predict_proba(X_test)[:, 1], y_true=y_test)*100, 2)"
   ]
  },
  {
   "cell_type": "markdown",
   "id": "2ce7f4f4",
   "metadata": {},
   "source": [
    "# GradientBoosting"
   ]
  },
  {
   "cell_type": "code",
   "execution_count": 16,
   "id": "82ba42cb",
   "metadata": {},
   "outputs": [
    {
     "data": {
      "text/plain": [
       "{'max_depth': 2, 'n_estimators': 40}"
      ]
     },
     "execution_count": 16,
     "metadata": {},
     "output_type": "execute_result"
    }
   ],
   "source": [
    "# 1. Инициализация \n",
    "clf_rf = GradientBoostingClassifier()\n",
    "\n",
    "# 2. Выбор параметров для GridSearchCV\n",
    "parameters = {'n_estimators': [10, 20, 30, 40], # количество деревьев\n",
    "             'max_depth': [2, 5, 7, 10, 12]}   # максимальная глубина каждого дерева\n",
    "\n",
    "# Инициализируем стэк классификаторов с параметрами из сетки parameters. \n",
    "grid_search_cv_clf = GridSearchCV(clf_rf, parameters, cv=5, scoring = 'roc_auc')\n",
    "\n",
    "# 3. Обучение кучи моделей в GridSearchCV\n",
    "grid_search_cv_clf.fit(X_train, y_train)\n",
    "grid_search_cv_clf.best_params_"
   ]
  },
  {
   "cell_type": "code",
   "execution_count": 17,
   "id": "fe21747b",
   "metadata": {},
   "outputs": [],
   "source": [
    "# Можно сразу получить лучшую модель\n",
    "best_clf = grid_search_cv_clf.best_estimator_"
   ]
  },
  {
   "cell_type": "code",
   "execution_count": 18,
   "id": "b152dd02",
   "metadata": {},
   "outputs": [
    {
     "data": {
      "text/plain": [
       "98.07"
      ]
     },
     "execution_count": 18,
     "metadata": {},
     "output_type": "execute_result"
    }
   ],
   "source": [
    "# Замеряем итоговое качество на трейне и тесте\n",
    "round(roc_auc_score(y_score = best_clf.predict_proba(X_test)[:, 1], y_true=y_test)*100, 2)"
   ]
  },
  {
   "cell_type": "code",
   "execution_count": null,
   "id": "d8b64809",
   "metadata": {},
   "outputs": [],
   "source": []
  }
 ],
 "metadata": {
  "kernelspec": {
   "display_name": "Python 3 (ipykernel)",
   "language": "python",
   "name": "python3"
  },
  "language_info": {
   "codemirror_mode": {
    "name": "ipython",
    "version": 3
   },
   "file_extension": ".py",
   "mimetype": "text/x-python",
   "name": "python",
   "nbconvert_exporter": "python",
   "pygments_lexer": "ipython3",
   "version": "3.10.6"
  },
  "toc": {
   "base_numbering": 1,
   "nav_menu": {},
   "number_sections": true,
   "sideBar": true,
   "skip_h1_title": false,
   "title_cell": "Table of Contents",
   "title_sidebar": "Contents",
   "toc_cell": false,
   "toc_position": {},
   "toc_section_display": true,
   "toc_window_display": false
  },
  "varInspector": {
   "cols": {
    "lenName": 16,
    "lenType": 16,
    "lenVar": 40
   },
   "kernels_config": {
    "python": {
     "delete_cmd_postfix": "",
     "delete_cmd_prefix": "del ",
     "library": "var_list.py",
     "varRefreshCmd": "print(var_dic_list())"
    },
    "r": {
     "delete_cmd_postfix": ") ",
     "delete_cmd_prefix": "rm(",
     "library": "var_list.r",
     "varRefreshCmd": "cat(var_dic_list()) "
    }
   },
   "types_to_exclude": [
    "module",
    "function",
    "builtin_function_or_method",
    "instance",
    "_Feature"
   ],
   "window_display": false
  }
 },
 "nbformat": 4,
 "nbformat_minor": 5
}
