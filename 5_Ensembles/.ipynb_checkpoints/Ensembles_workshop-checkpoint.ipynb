{
 "cells": [
  {
   "cell_type": "markdown",
   "id": "aa025acc",
   "metadata": {},
   "source": [
    "Возьмите один из следующих датасетов:\n",
    "- Предсказания сердечной недостаточности по 12 признакам. <br>https://www.kaggle.com/datasets/andrewmvd/heart-failure-clinical-data\n",
    "\n",
    "- Предсказание \"Будет ли завтра дождь\" по 23 признакам на основе 10-летнего опыта наблюдений погоды в Австралии.<br>\n",
    "https://www.kaggle.com/datasets/jsphyg/weather-dataset-rattle-package"
   ]
  },
  {
   "cell_type": "markdown",
   "id": "a49bef29",
   "metadata": {},
   "source": [
    "# Задание"
   ]
  },
  {
   "cell_type": "markdown",
   "id": "5e3fd62d",
   "metadata": {},
   "source": [
    "1. На кросс-валидации подберите параметры и постройте обычное дерево решений. Визуализируйте его. Снимите метрики на трейне и тесте.\n",
    "2. Подберите гиперпараметры для случайного леса. Самое пристальное внимание уделите параметру `max_features`. Снимите метрики на трейне и тесте.\n",
    "3. Постройте градиентный бустинг и снимите метрики.\n",
    "4. С помощью бустинга или случайного леса постройте Feature Importance.\n",
    "5. Нормализуйте фичи и постройте логистическую регресиию. Отсортируйте коэффициенты по убыванию модулю абсолютного значения. (Получится вторая версия Feature Importance). Снимите метрики.\n",
    "6. Составьте итоговую табличку с метриками для каждого алгоритма. "
   ]
  }
 ],
 "metadata": {
  "kernelspec": {
   "display_name": "Python 3 (ipykernel)",
   "language": "python",
   "name": "python3"
  },
  "language_info": {
   "codemirror_mode": {
    "name": "ipython",
    "version": 3
   },
   "file_extension": ".py",
   "mimetype": "text/x-python",
   "name": "python",
   "nbconvert_exporter": "python",
   "pygments_lexer": "ipython3",
   "version": "3.10.6"
  },
  "toc": {
   "base_numbering": 1,
   "nav_menu": {},
   "number_sections": true,
   "sideBar": true,
   "skip_h1_title": false,
   "title_cell": "Table of Contents",
   "title_sidebar": "Contents",
   "toc_cell": false,
   "toc_position": {},
   "toc_section_display": true,
   "toc_window_display": true
  },
  "varInspector": {
   "cols": {
    "lenName": 16,
    "lenType": 16,
    "lenVar": 40
   },
   "kernels_config": {
    "python": {
     "delete_cmd_postfix": "",
     "delete_cmd_prefix": "del ",
     "library": "var_list.py",
     "varRefreshCmd": "print(var_dic_list())"
    },
    "r": {
     "delete_cmd_postfix": ") ",
     "delete_cmd_prefix": "rm(",
     "library": "var_list.r",
     "varRefreshCmd": "cat(var_dic_list()) "
    }
   },
   "types_to_exclude": [
    "module",
    "function",
    "builtin_function_or_method",
    "instance",
    "_Feature"
   ],
   "window_display": false
  }
 },
 "nbformat": 4,
 "nbformat_minor": 5
}
