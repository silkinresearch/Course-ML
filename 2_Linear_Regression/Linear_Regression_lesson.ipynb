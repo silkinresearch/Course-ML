{
 "cells": [
  {
   "cell_type": "code",
   "execution_count": 1,
   "id": "fc07a2bd",
   "metadata": {},
   "outputs": [],
   "source": [
    "import seaborn as sns\n",
    "import pandas as pd\n",
    "from sklearn.model_selection import train_test_split\n",
    "\n",
    "import matplotlib.pyplot as plt"
   ]
  },
  {
   "cell_type": "code",
   "execution_count": 2,
   "id": "5dee6a78",
   "metadata": {
    "scrolled": false
   },
   "outputs": [
    {
     "data": {
      "text/html": [
       "<div>\n",
       "<style scoped>\n",
       "    .dataframe tbody tr th:only-of-type {\n",
       "        vertical-align: middle;\n",
       "    }\n",
       "\n",
       "    .dataframe tbody tr th {\n",
       "        vertical-align: top;\n",
       "    }\n",
       "\n",
       "    .dataframe thead th {\n",
       "        text-align: right;\n",
       "    }\n",
       "</style>\n",
       "<table border=\"1\" class=\"dataframe\">\n",
       "  <thead>\n",
       "    <tr style=\"text-align: right;\">\n",
       "      <th></th>\n",
       "      <th>No</th>\n",
       "      <th>X1 transaction date</th>\n",
       "      <th>X2 house age</th>\n",
       "      <th>X3 distance to the nearest MRT station</th>\n",
       "      <th>X4 number of convenience stores</th>\n",
       "      <th>X5 latitude</th>\n",
       "      <th>X6 longitude</th>\n",
       "      <th>Y house price of unit area</th>\n",
       "    </tr>\n",
       "  </thead>\n",
       "  <tbody>\n",
       "    <tr>\n",
       "      <th>0</th>\n",
       "      <td>1</td>\n",
       "      <td>2012.917</td>\n",
       "      <td>32.0</td>\n",
       "      <td>84.87882</td>\n",
       "      <td>10</td>\n",
       "      <td>24.98298</td>\n",
       "      <td>121.54024</td>\n",
       "      <td>37.9</td>\n",
       "    </tr>\n",
       "    <tr>\n",
       "      <th>1</th>\n",
       "      <td>2</td>\n",
       "      <td>2012.917</td>\n",
       "      <td>19.5</td>\n",
       "      <td>306.59470</td>\n",
       "      <td>9</td>\n",
       "      <td>24.98034</td>\n",
       "      <td>121.53951</td>\n",
       "      <td>42.2</td>\n",
       "    </tr>\n",
       "    <tr>\n",
       "      <th>2</th>\n",
       "      <td>3</td>\n",
       "      <td>2013.583</td>\n",
       "      <td>13.3</td>\n",
       "      <td>561.98450</td>\n",
       "      <td>5</td>\n",
       "      <td>24.98746</td>\n",
       "      <td>121.54391</td>\n",
       "      <td>47.3</td>\n",
       "    </tr>\n",
       "    <tr>\n",
       "      <th>3</th>\n",
       "      <td>4</td>\n",
       "      <td>2013.500</td>\n",
       "      <td>13.3</td>\n",
       "      <td>561.98450</td>\n",
       "      <td>5</td>\n",
       "      <td>24.98746</td>\n",
       "      <td>121.54391</td>\n",
       "      <td>54.8</td>\n",
       "    </tr>\n",
       "    <tr>\n",
       "      <th>4</th>\n",
       "      <td>5</td>\n",
       "      <td>2012.833</td>\n",
       "      <td>5.0</td>\n",
       "      <td>390.56840</td>\n",
       "      <td>5</td>\n",
       "      <td>24.97937</td>\n",
       "      <td>121.54245</td>\n",
       "      <td>43.1</td>\n",
       "    </tr>\n",
       "    <tr>\n",
       "      <th>...</th>\n",
       "      <td>...</td>\n",
       "      <td>...</td>\n",
       "      <td>...</td>\n",
       "      <td>...</td>\n",
       "      <td>...</td>\n",
       "      <td>...</td>\n",
       "      <td>...</td>\n",
       "      <td>...</td>\n",
       "    </tr>\n",
       "    <tr>\n",
       "      <th>409</th>\n",
       "      <td>410</td>\n",
       "      <td>2013.000</td>\n",
       "      <td>13.7</td>\n",
       "      <td>4082.01500</td>\n",
       "      <td>0</td>\n",
       "      <td>24.94155</td>\n",
       "      <td>121.50381</td>\n",
       "      <td>15.4</td>\n",
       "    </tr>\n",
       "    <tr>\n",
       "      <th>410</th>\n",
       "      <td>411</td>\n",
       "      <td>2012.667</td>\n",
       "      <td>5.6</td>\n",
       "      <td>90.45606</td>\n",
       "      <td>9</td>\n",
       "      <td>24.97433</td>\n",
       "      <td>121.54310</td>\n",
       "      <td>50.0</td>\n",
       "    </tr>\n",
       "    <tr>\n",
       "      <th>411</th>\n",
       "      <td>412</td>\n",
       "      <td>2013.250</td>\n",
       "      <td>18.8</td>\n",
       "      <td>390.96960</td>\n",
       "      <td>7</td>\n",
       "      <td>24.97923</td>\n",
       "      <td>121.53986</td>\n",
       "      <td>40.6</td>\n",
       "    </tr>\n",
       "    <tr>\n",
       "      <th>412</th>\n",
       "      <td>413</td>\n",
       "      <td>2013.000</td>\n",
       "      <td>8.1</td>\n",
       "      <td>104.81010</td>\n",
       "      <td>5</td>\n",
       "      <td>24.96674</td>\n",
       "      <td>121.54067</td>\n",
       "      <td>52.5</td>\n",
       "    </tr>\n",
       "    <tr>\n",
       "      <th>413</th>\n",
       "      <td>414</td>\n",
       "      <td>2013.500</td>\n",
       "      <td>6.5</td>\n",
       "      <td>90.45606</td>\n",
       "      <td>9</td>\n",
       "      <td>24.97433</td>\n",
       "      <td>121.54310</td>\n",
       "      <td>63.9</td>\n",
       "    </tr>\n",
       "  </tbody>\n",
       "</table>\n",
       "<p>414 rows × 8 columns</p>\n",
       "</div>"
      ],
      "text/plain": [
       "      No  X1 transaction date  X2 house age  \\\n",
       "0      1             2012.917          32.0   \n",
       "1      2             2012.917          19.5   \n",
       "2      3             2013.583          13.3   \n",
       "3      4             2013.500          13.3   \n",
       "4      5             2012.833           5.0   \n",
       "..   ...                  ...           ...   \n",
       "409  410             2013.000          13.7   \n",
       "410  411             2012.667           5.6   \n",
       "411  412             2013.250          18.8   \n",
       "412  413             2013.000           8.1   \n",
       "413  414             2013.500           6.5   \n",
       "\n",
       "     X3 distance to the nearest MRT station  X4 number of convenience stores  \\\n",
       "0                                  84.87882                               10   \n",
       "1                                 306.59470                                9   \n",
       "2                                 561.98450                                5   \n",
       "3                                 561.98450                                5   \n",
       "4                                 390.56840                                5   \n",
       "..                                      ...                              ...   \n",
       "409                              4082.01500                                0   \n",
       "410                                90.45606                                9   \n",
       "411                               390.96960                                7   \n",
       "412                               104.81010                                5   \n",
       "413                                90.45606                                9   \n",
       "\n",
       "     X5 latitude  X6 longitude  Y house price of unit area  \n",
       "0       24.98298     121.54024                        37.9  \n",
       "1       24.98034     121.53951                        42.2  \n",
       "2       24.98746     121.54391                        47.3  \n",
       "3       24.98746     121.54391                        54.8  \n",
       "4       24.97937     121.54245                        43.1  \n",
       "..           ...           ...                         ...  \n",
       "409     24.94155     121.50381                        15.4  \n",
       "410     24.97433     121.54310                        50.0  \n",
       "411     24.97923     121.53986                        40.6  \n",
       "412     24.96674     121.54067                        52.5  \n",
       "413     24.97433     121.54310                        63.9  \n",
       "\n",
       "[414 rows x 8 columns]"
      ]
     },
     "execution_count": 2,
     "metadata": {},
     "output_type": "execute_result"
    }
   ],
   "source": [
    "data = pd.read_csv('/home/volodya/my_rep/course/data/real_estate.csv',  delimiter=',', low_memory=False)\n",
    "data"
   ]
  },
  {
   "cell_type": "code",
   "execution_count": 3,
   "id": "5b3a7b65",
   "metadata": {},
   "outputs": [
    {
     "data": {
      "image/png": "[encoded data removed]",
      "text/plain": [
       "<Figure size 432x288 with 1 Axes>"
      ]
     },
     "metadata": {
      "needs_background": "light"
     },
     "output_type": "display_data"
    }
   ],
   "source": [
    "sns.scatterplot(data=data, x = 'X1 transaction date', y='Y house price of unit area')\n",
    "\n",
    "plt.show()"
   ]
  },
  {
   "cell_type": "code",
   "execution_count": 4,
   "id": "9fd9ed45",
   "metadata": {},
   "outputs": [
    {
     "data": {
      "image/png": "[encoded data removed]",
      "text/plain": [
       "<Figure size 432x288 with 1 Axes>"
      ]
     },
     "metadata": {
      "needs_background": "light"
     },
     "output_type": "display_data"
    }
   ],
   "source": [
    "sns.scatterplot(data=data, x = 'X2 house age', y='Y house price of unit area')\n",
    "\n",
    "plt.show()"
   ]
  },
  {
   "cell_type": "code",
   "execution_count": 5,
   "id": "69bb9268",
   "metadata": {},
   "outputs": [
    {
     "data": {
      "image/png": "[encoded data removed]",
      "text/plain": [
       "<Figure size 432x288 with 1 Axes>"
      ]
     },
     "metadata": {
      "needs_background": "light"
     },
     "output_type": "display_data"
    }
   ],
   "source": [
    "sns.scatterplot(data=data, x = 'X3 distance to the nearest MRT station', y='Y house price of unit area')\n",
    "\n",
    "plt.show()"
   ]
  },
  {
   "cell_type": "code",
   "execution_count": 6,
   "id": "ec271f54",
   "metadata": {},
   "outputs": [
    {
     "data": {
      "image/png": "[encoded data removed]",
      "text/plain": [
       "<Figure size 432x288 with 1 Axes>"
      ]
     },
     "metadata": {
      "needs_background": "light"
     },
     "output_type": "display_data"
    }
   ],
   "source": [
    "sns.scatterplot(data=data, x = 'X4 number of convenience stores', y='Y house price of unit area')\n",
    "\n",
    "plt.show()"
   ]
  },
  {
   "cell_type": "markdown",
   "id": "d4593965",
   "metadata": {},
   "source": [
    "https://stackoverflow.com/questions/33282368/plotting-a-2d-heatmap"
   ]
  },
  {
   "cell_type": "code",
   "execution_count": 7,
   "id": "6910618b",
   "metadata": {},
   "outputs": [
    {
     "data": {
      "image/png": "[encoded data removed]",
      "text/plain": [
       "<Figure size 432x288 with 2 Axes>"
      ]
     },
     "metadata": {
      "needs_background": "light"
     },
     "output_type": "display_data"
    }
   ],
   "source": [
    "points = plt.scatter(x=data[\"X6 longitude\"], y=data['X5 latitude'],\n",
    "                c=data['Y house price of unit area'], s=75, cmap=\"BuGn\")\n",
    "plt.colorbar(points)\n",
    "plt.xlabel('Долгота (longitude)')\n",
    "plt.ylabel('Широта (latitude)')\n",
    "plt.show()"
   ]
  },
  {
   "cell_type": "code",
   "execution_count": 8,
   "id": "cdee901e",
   "metadata": {},
   "outputs": [],
   "source": [
    "# N24.98, E121.54"
   ]
  },
  {
   "cell_type": "code",
   "execution_count": 9,
   "id": "6b3e2a84",
   "metadata": {},
   "outputs": [],
   "source": [
    "train, test = train_test_split(\n",
    "    data, test_size = 0.33, random_state = 0\n",
    ")\n",
    "\n",
    "feature_names = [\n",
    "    'X2 house age', \n",
    "    'X3 distance to the nearest MRT station', \n",
    "    'X4 number of convenience stores',\n",
    "    \"X5 latitude\",\n",
    "    \"X6 longitude\"]\n",
    "target_name = 'Y house price of unit area'\n",
    "\n",
    "X_train = train[feature_names]\n",
    "y_train = train[target_name]\n",
    "X_test = test[feature_names]\n",
    "y_test = test[target_name]"
   ]
  },
  {
   "cell_type": "markdown",
   "id": "905bb35b",
   "metadata": {},
   "source": [
    "# LinearRegression"
   ]
  },
  {
   "cell_type": "code",
   "execution_count": 10,
   "id": "f7239faf",
   "metadata": {
    "ExecuteTime": {
     "end_time": "2022-10-16T17:50:04.205446Z",
     "start_time": "2022-10-16T17:50:04.176484Z"
    }
   },
   "outputs": [],
   "source": [
    "from sklearn.linear_model import LinearRegression"
   ]
  },
  {
   "cell_type": "code",
   "execution_count": 11,
   "id": "11c3093c",
   "metadata": {},
   "outputs": [
    {
     "data": {
      "text/html": [
       "<div>\n",
       "<style scoped>\n",
       "    .dataframe tbody tr th:only-of-type {\n",
       "        vertical-align: middle;\n",
       "    }\n",
       "\n",
       "    .dataframe tbody tr th {\n",
       "        vertical-align: top;\n",
       "    }\n",
       "\n",
       "    .dataframe thead th {\n",
       "        text-align: right;\n",
       "    }\n",
       "</style>\n",
       "<table border=\"1\" class=\"dataframe\">\n",
       "  <thead>\n",
       "    <tr style=\"text-align: right;\">\n",
       "      <th></th>\n",
       "      <th>features</th>\n",
       "      <th>coeffitients</th>\n",
       "    </tr>\n",
       "  </thead>\n",
       "  <tbody>\n",
       "    <tr>\n",
       "      <th>0</th>\n",
       "      <td>intercept</td>\n",
       "      <td>-5847.757871</td>\n",
       "    </tr>\n",
       "    <tr>\n",
       "      <th>1</th>\n",
       "      <td>X2 house age</td>\n",
       "      <td>-0.268672</td>\n",
       "    </tr>\n",
       "    <tr>\n",
       "      <th>2</th>\n",
       "      <td>X3 distance to the nearest MRT station</td>\n",
       "      <td>-0.004339</td>\n",
       "    </tr>\n",
       "    <tr>\n",
       "      <th>3</th>\n",
       "      <td>X4 number of convenience stores</td>\n",
       "      <td>1.063039</td>\n",
       "    </tr>\n",
       "    <tr>\n",
       "      <th>4</th>\n",
       "      <td>X5 latitude</td>\n",
       "      <td>264.953627</td>\n",
       "    </tr>\n",
       "    <tr>\n",
       "      <th>5</th>\n",
       "      <td>X6 longitude</td>\n",
       "      <td>-5.960477</td>\n",
       "    </tr>\n",
       "  </tbody>\n",
       "</table>\n",
       "</div>"
      ],
      "text/plain": [
       "                                 features  coeffitients\n",
       "0                               intercept  -5847.757871\n",
       "1                            X2 house age     -0.268672\n",
       "2  X3 distance to the nearest MRT station     -0.004339\n",
       "3         X4 number of convenience stores      1.063039\n",
       "4                             X5 latitude    264.953627\n",
       "5                            X6 longitude     -5.960477"
      ]
     },
     "execution_count": 11,
     "metadata": {},
     "output_type": "execute_result"
    }
   ],
   "source": [
    "lr_object = LinearRegression(fit_intercept=True)\n",
    "lr_object.fit(X_train, y_train)\n",
    "\n",
    "pd.DataFrame({'features': ['intercept'] + list(lr_object.feature_names_in_),\n",
    "             'coeffitients': [lr_object.intercept_] + list(lr_object.coef_)})"
   ]
  },
  {
   "cell_type": "markdown",
   "id": "2236dfa2",
   "metadata": {},
   "source": [
    "Физический смысл коэффициентов:\n",
    "- Коэффициент b1 показывает, насколько изменится цена дома при единичном изменении признака, если другие признаки будут оставаться неизменными.\n",
    "- Intercept показывает, насколько значение цены дома, если все признаки будут равны 0."
   ]
  },
  {
   "cell_type": "code",
   "execution_count": 12,
   "id": "91c27030",
   "metadata": {
    "ExecuteTime": {
     "end_time": "2022-10-16T17:50:04.236739Z",
     "start_time": "2022-10-16T17:50:04.224028Z"
    }
   },
   "outputs": [],
   "source": [
    "y_train_pred = lr_object.predict(X_train)\n",
    "y_test_pred = lr_object.predict(X_test)"
   ]
  },
  {
   "cell_type": "code",
   "execution_count": 13,
   "id": "67eb06d8",
   "metadata": {
    "ExecuteTime": {
     "end_time": "2022-10-16T17:50:04.246790Z",
     "start_time": "2022-10-16T17:50:04.238050Z"
    }
   },
   "outputs": [],
   "source": [
    "from sklearn.metrics import mean_absolute_error, r2_score"
   ]
  },
  {
   "cell_type": "markdown",
   "id": "d52fb57c",
   "metadata": {},
   "source": [
    "## MAE"
   ]
  },
  {
   "cell_type": "markdown",
   "id": "2aec7743",
   "metadata": {},
   "source": [
    "$$MAE = \\frac{1}{N}\\sum_{i=1}^{N} \\big| y_{true_i} - y_{pred_i} \\big|$$"
   ]
  },
  {
   "cell_type": "code",
   "execution_count": 14,
   "id": "2766e895",
   "metadata": {
    "ExecuteTime": {
     "end_time": "2022-10-16T17:50:04.258550Z",
     "start_time": "2022-10-16T17:50:04.249229Z"
    }
   },
   "outputs": [
    {
     "name": "stdout",
     "output_type": "stream",
     "text": [
      "6.301208069279683  - MAE on train\n",
      "6.129943836015272 - MAE on test\n"
     ]
    }
   ],
   "source": [
    "print(mean_absolute_error(y_true=y_train, y_pred=y_train_pred), ' - MAE on train')\n",
    "print(mean_absolute_error(y_true=y_test, y_pred=y_test_pred), '- MAE on test')"
   ]
  },
  {
   "cell_type": "markdown",
   "id": "d94cd718",
   "metadata": {},
   "source": [
    "## R2_score"
   ]
  },
  {
   "cell_type": "markdown",
   "id": "f563ba39",
   "metadata": {},
   "source": [
    "$$R^2 = 1 - \\frac{\\sum_{i=1}^{N}  \\big(y_{true_i} - y_{pred_i}\\big)^2}{\\sum_{i=1}^{N} \\big(y_{true_i} - \\overline{y}\\big)^2}$$"
   ]
  },
  {
   "cell_type": "markdown",
   "id": "2f01a3d1",
   "metadata": {},
   "source": [
    "Показывает, насколько модель работает лучше лучше предсказания среднего."
   ]
  },
  {
   "cell_type": "code",
   "execution_count": 15,
   "id": "3905052d",
   "metadata": {
    "ExecuteTime": {
     "end_time": "2022-10-16T17:50:04.271372Z",
     "start_time": "2022-10-16T17:50:04.260765Z"
    }
   },
   "outputs": [
    {
     "name": "stdout",
     "output_type": "stream",
     "text": [
      "0.5690544823480825  - R2 on train\n",
      "0.5693434314017445 - R2 on test\n"
     ]
    }
   ],
   "source": [
    "print(r2_score(y_true=y_train, y_pred=y_train_pred), ' - R2 on train')\n",
    "print(r2_score(y_true=y_test, y_pred=y_test_pred), '- R2 on test')"
   ]
  },
  {
   "cell_type": "markdown",
   "id": "6204e788",
   "metadata": {},
   "source": [
    "Можно показать, что значение этой величины без квадрата $R$ — представляет собой коэффициент корреляции между предсказанными и реальными значениями."
   ]
  },
  {
   "cell_type": "code",
   "execution_count": 16,
   "id": "1d752d57",
   "metadata": {
    "scrolled": true
   },
   "outputs": [
    {
     "name": "stdout",
     "output_type": "stream",
     "text": [
      "0.5690544823480829 - квадрат коэффициента корреляции на трейне\n",
      "0.5786130588481093 - квадрат коэффициента корреляции на тесте\n"
     ]
    }
   ],
   "source": [
    "from scipy.stats import pearsonr\n",
    "print(pearsonr(y_train, y_train_pred)[0]**2, '- квадрат коэффициента корреляции на трейне')\n",
    "print(pearsonr(y_test, y_test_pred)[0]**2, '- квадрат коэффициента корреляции на тесте')"
   ]
  },
  {
   "cell_type": "markdown",
   "id": "8cc3775c",
   "metadata": {},
   "source": [
    "## Случайный регрессор"
   ]
  },
  {
   "cell_type": "code",
   "execution_count": 17,
   "id": "2f4282aa",
   "metadata": {
    "ExecuteTime": {
     "end_time": "2022-10-16T17:50:04.306349Z",
     "start_time": "2022-10-16T17:50:04.273629Z"
    }
   },
   "outputs": [],
   "source": [
    "y_train_stupid_predict = [y_train.mean() for i in range(0, len(y_train))]\n",
    "y_test_stupid_predict = [y_train.mean() for i in range(0, len(y_test))]"
   ]
  },
  {
   "cell_type": "code",
   "execution_count": 18,
   "id": "82eea1be",
   "metadata": {
    "ExecuteTime": {
     "end_time": "2022-10-16T17:50:04.320194Z",
     "start_time": "2022-10-16T17:50:04.308530Z"
    }
   },
   "outputs": [
    {
     "name": "stdout",
     "output_type": "stream",
     "text": [
      "10.91883121114572  - MAE on train (Stupid)\n",
      "10.267843684945584 - MAE on test (Stupid)\n",
      "0.0  - R2 on train (Stupid)\n",
      "-0.0054727602172017775 - R2 on test (Stupid)\n"
     ]
    }
   ],
   "source": [
    "print(mean_absolute_error(y_true=y_train, y_pred=y_train_stupid_predict), ' - MAE on train (Stupid)')\n",
    "print(mean_absolute_error(y_true=y_test, y_pred=y_test_stupid_predict), '- MAE on test (Stupid)')\n",
    "\n",
    "print(r2_score(y_true=y_train, y_pred=y_train_stupid_predict), ' - R2 on train (Stupid)')\n",
    "print(r2_score(y_true=y_test, y_pred=y_test_stupid_predict), '- R2 on test (Stupid)')"
   ]
  },
  {
   "cell_type": "markdown",
   "id": "2cd94d55",
   "metadata": {},
   "source": [
    "# RidgeRegression and Lasso Regression"
   ]
  },
  {
   "cell_type": "markdown",
   "id": "6cfd65b8",
   "metadata": {},
   "source": [
    "https://www.desmos.com/calculator/fyyjrp2iol?lang=ru"
   ]
  },
  {
   "cell_type": "markdown",
   "id": "25e59d67",
   "metadata": {},
   "source": [
    "**Ridge-регрессия**\n",
    "$$\\sqrt{Xw - y} + \\alpha \\cdot \\sqrt{w_{1}^2 + w_{2}^2 + ...} \\rightarrow min$$\n",
    "\n",
    "$\\alpha$ - коэффициент силы регуляризации. Чем больше $\\alpha$, тем сильнее регурялизация. \n",
    "\n",
    "Часто вместо $\\alpha$ используют его обратную величину $С = 1 / \\alpha$. Чем меньше $C$, тем сильнее регуляризация.\n",
    "\n",
    "**Lasso-регрессия**\n",
    "$$\\sqrt{Xw - y} + \\alpha \\cdot (|w_{1}| + |w_{2}| + ...) \\rightarrow min$$\n",
    "\n",
    "Когда $\\alpha = 0$, оба вида регрессии превращаются в обычную логистическую регрессию."
   ]
  },
  {
   "cell_type": "code",
   "execution_count": 19,
   "id": "798a85cc",
   "metadata": {
    "ExecuteTime": {
     "end_time": "2022-10-16T17:50:04.328730Z",
     "start_time": "2022-10-16T17:50:04.321695Z"
    }
   },
   "outputs": [],
   "source": [
    "from sklearn.linear_model import Ridge, Lasso"
   ]
  },
  {
   "cell_type": "code",
   "execution_count": 20,
   "id": "7818cbde",
   "metadata": {
    "ExecuteTime": {
     "end_time": "2022-10-16T17:54:33.344446Z",
     "start_time": "2022-10-16T17:54:33.315850Z"
    }
   },
   "outputs": [
    {
     "data": {
      "text/html": [
       "<div>\n",
       "<style scoped>\n",
       "    .dataframe tbody tr th:only-of-type {\n",
       "        vertical-align: middle;\n",
       "    }\n",
       "\n",
       "    .dataframe tbody tr th {\n",
       "        vertical-align: top;\n",
       "    }\n",
       "\n",
       "    .dataframe thead th {\n",
       "        text-align: right;\n",
       "    }\n",
       "</style>\n",
       "<table border=\"1\" class=\"dataframe\">\n",
       "  <thead>\n",
       "    <tr style=\"text-align: right;\">\n",
       "      <th></th>\n",
       "      <th>features</th>\n",
       "      <th>coeffitients</th>\n",
       "    </tr>\n",
       "  </thead>\n",
       "  <tbody>\n",
       "    <tr>\n",
       "      <th>0</th>\n",
       "      <td>intercept</td>\n",
       "      <td>-66.946599</td>\n",
       "    </tr>\n",
       "    <tr>\n",
       "      <th>1</th>\n",
       "      <td>X2 house age</td>\n",
       "      <td>-0.252977</td>\n",
       "    </tr>\n",
       "    <tr>\n",
       "      <th>2</th>\n",
       "      <td>X3 distance to the nearest MRT station</td>\n",
       "      <td>-0.005615</td>\n",
       "    </tr>\n",
       "    <tr>\n",
       "      <th>3</th>\n",
       "      <td>X4 number of convenience stores</td>\n",
       "      <td>1.177553</td>\n",
       "    </tr>\n",
       "    <tr>\n",
       "      <th>4</th>\n",
       "      <td>X5 latitude</td>\n",
       "      <td>7.713391</td>\n",
       "    </tr>\n",
       "    <tr>\n",
       "      <th>5</th>\n",
       "      <td>X6 longitude</td>\n",
       "      <td>-0.670249</td>\n",
       "    </tr>\n",
       "  </tbody>\n",
       "</table>\n",
       "</div>"
      ],
      "text/plain": [
       "                                 features  coeffitients\n",
       "0                               intercept    -66.946599\n",
       "1                            X2 house age     -0.252977\n",
       "2  X3 distance to the nearest MRT station     -0.005615\n",
       "3         X4 number of convenience stores      1.177553\n",
       "4                             X5 latitude      7.713391\n",
       "5                            X6 longitude     -0.670249"
      ]
     },
     "execution_count": 20,
     "metadata": {},
     "output_type": "execute_result"
    }
   ],
   "source": [
    "ridge_regression_object = Ridge(fit_intercept=True, alpha = 1)\n",
    "ridge_regression_object.fit(X_train, y_train)\n",
    "pd.DataFrame({'features': ['intercept'] + list(ridge_regression_object.feature_names_in_),\n",
    "             'coeffitients': [ridge_regression_object.intercept_] + list(ridge_regression_object.coef_)})"
   ]
  },
  {
   "cell_type": "code",
   "execution_count": 21,
   "id": "324cdeee",
   "metadata": {
    "ExecuteTime": {
     "end_time": "2022-10-16T17:55:03.800995Z",
     "start_time": "2022-10-16T17:55:03.787286Z"
    },
    "scrolled": true
   },
   "outputs": [
    {
     "data": {
      "text/html": [
       "<div>\n",
       "<style scoped>\n",
       "    .dataframe tbody tr th:only-of-type {\n",
       "        vertical-align: middle;\n",
       "    }\n",
       "\n",
       "    .dataframe tbody tr th {\n",
       "        vertical-align: top;\n",
       "    }\n",
       "\n",
       "    .dataframe thead th {\n",
       "        text-align: right;\n",
       "    }\n",
       "</style>\n",
       "<table border=\"1\" class=\"dataframe\">\n",
       "  <thead>\n",
       "    <tr style=\"text-align: right;\">\n",
       "      <th></th>\n",
       "      <th>features</th>\n",
       "      <th>coeffitients</th>\n",
       "    </tr>\n",
       "  </thead>\n",
       "  <tbody>\n",
       "    <tr>\n",
       "      <th>0</th>\n",
       "      <td>intercept</td>\n",
       "      <td>45.134489</td>\n",
       "    </tr>\n",
       "    <tr>\n",
       "      <th>1</th>\n",
       "      <td>X2 house age</td>\n",
       "      <td>-0.243737</td>\n",
       "    </tr>\n",
       "    <tr>\n",
       "      <th>2</th>\n",
       "      <td>X3 distance to the nearest MRT station</td>\n",
       "      <td>-0.005923</td>\n",
       "    </tr>\n",
       "    <tr>\n",
       "      <th>3</th>\n",
       "      <td>X4 number of convenience stores</td>\n",
       "      <td>0.985498</td>\n",
       "    </tr>\n",
       "    <tr>\n",
       "      <th>4</th>\n",
       "      <td>X5 latitude</td>\n",
       "      <td>0.000000</td>\n",
       "    </tr>\n",
       "    <tr>\n",
       "      <th>5</th>\n",
       "      <td>X6 longitude</td>\n",
       "      <td>-0.000000</td>\n",
       "    </tr>\n",
       "  </tbody>\n",
       "</table>\n",
       "</div>"
      ],
      "text/plain": [
       "                                 features  coeffitients\n",
       "0                               intercept     45.134489\n",
       "1                            X2 house age     -0.243737\n",
       "2  X3 distance to the nearest MRT station     -0.005923\n",
       "3         X4 number of convenience stores      0.985498\n",
       "4                             X5 latitude      0.000000\n",
       "5                            X6 longitude     -0.000000"
      ]
     },
     "execution_count": 21,
     "metadata": {},
     "output_type": "execute_result"
    }
   ],
   "source": [
    "lasso_regression_object = Lasso(fit_intercept=True, alpha = 1)\n",
    "lasso_regression_object.fit(X_train, y_train)\n",
    "\n",
    "pd.DataFrame({'features': ['intercept'] + list(lasso_regression_object.feature_names_in_),\n",
    "             'coeffitients': [lasso_regression_object.intercept_] + list(lasso_regression_object.coef_)})"
   ]
  }
 ],
 "metadata": {
  "kernelspec": {
   "display_name": "Python 3 (ipykernel)",
   "language": "python",
   "name": "python3"
  },
  "language_info": {
   "codemirror_mode": {
    "name": "ipython",
    "version": 3
   },
   "file_extension": ".py",
   "mimetype": "text/x-python",
   "name": "python",
   "nbconvert_exporter": "python",
   "pygments_lexer": "ipython3",
   "version": "3.10.6"
  },
  "toc": {
   "base_numbering": 1,
   "nav_menu": {},
   "number_sections": true,
   "sideBar": true,
   "skip_h1_title": false,
   "title_cell": "Table of Contents",
   "title_sidebar": "Contents",
   "toc_cell": false,
   "toc_position": {},
   "toc_section_display": true,
   "toc_window_display": false
  },
  "varInspector": {
   "cols": {
    "lenName": 16,
    "lenType": 16,
    "lenVar": 40
   },
   "kernels_config": {
    "python": {
     "delete_cmd_postfix": "",
     "delete_cmd_prefix": "del ",
     "library": "var_list.py",
     "varRefreshCmd": "print(var_dic_list())"
    },
    "r": {
     "delete_cmd_postfix": ") ",
     "delete_cmd_prefix": "rm(",
     "library": "var_list.r",
     "varRefreshCmd": "cat(var_dic_list()) "
    }
   },
   "types_to_exclude": [
    "module",
    "function",
    "builtin_function_or_method",
    "instance",
    "_Feature"
   ],
   "window_display": false
  }
 },
 "nbformat": 4,
 "nbformat_minor": 5
}
